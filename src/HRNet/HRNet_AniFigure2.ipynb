{
  "nbformat": 4,
  "nbformat_minor": 0,
  "metadata": {
    "colab": {
      "name": "HRNet_AniFigure2.ipynb",
      "provenance": [],
      "collapsed_sections": [],
      "toc_visible": true
    },
    "kernelspec": {
      "name": "python3",
      "display_name": "Python 3"
    },
    "widgets": {
      "application/vnd.jupyter.widget-state+json": {
        "708a50f371134de2927dc4bc469342b2": {
          "model_module": "@jupyter-widgets/controls",
          "model_name": "HBoxModel",
          "state": {
            "_view_name": "HBoxView",
            "_dom_classes": [],
            "_model_name": "HBoxModel",
            "_view_module": "@jupyter-widgets/controls",
            "_model_module_version": "1.5.0",
            "_view_count": null,
            "_view_module_version": "1.5.0",
            "box_style": "",
            "layout": "IPY_MODEL_aa31a9b8b6374c22815654b29f9ed283",
            "_model_module": "@jupyter-widgets/controls",
            "children": [
              "IPY_MODEL_5c4312cb1c8443f29902d20d35b70ff8",
              "IPY_MODEL_f73bfd745b2e4922b9a0379984d7f7eb"
            ]
          }
        },
        "aa31a9b8b6374c22815654b29f9ed283": {
          "model_module": "@jupyter-widgets/base",
          "model_name": "LayoutModel",
          "state": {
            "_view_name": "LayoutView",
            "grid_template_rows": null,
            "right": null,
            "justify_content": null,
            "_view_module": "@jupyter-widgets/base",
            "overflow": null,
            "_model_module_version": "1.2.0",
            "_view_count": null,
            "flex_flow": null,
            "width": null,
            "min_width": null,
            "border": null,
            "align_items": null,
            "bottom": null,
            "_model_module": "@jupyter-widgets/base",
            "top": null,
            "grid_column": null,
            "overflow_y": null,
            "overflow_x": null,
            "grid_auto_flow": null,
            "grid_area": null,
            "grid_template_columns": null,
            "flex": null,
            "_model_name": "LayoutModel",
            "justify_items": null,
            "grid_row": null,
            "max_height": null,
            "align_content": null,
            "visibility": null,
            "align_self": null,
            "height": null,
            "min_height": null,
            "padding": null,
            "grid_auto_rows": null,
            "grid_gap": null,
            "max_width": null,
            "order": null,
            "_view_module_version": "1.2.0",
            "grid_template_areas": null,
            "object_position": null,
            "object_fit": null,
            "grid_auto_columns": null,
            "margin": null,
            "display": null,
            "left": null
          }
        },
        "5c4312cb1c8443f29902d20d35b70ff8": {
          "model_module": "@jupyter-widgets/controls",
          "model_name": "FloatProgressModel",
          "state": {
            "_view_name": "ProgressView",
            "style": "IPY_MODEL_3bae587f23e94732946634b1e08e1002",
            "_dom_classes": [],
            "description": "100%",
            "_model_name": "FloatProgressModel",
            "bar_style": "success",
            "max": 20,
            "_view_module": "@jupyter-widgets/controls",
            "_model_module_version": "1.5.0",
            "value": 20,
            "_view_count": null,
            "_view_module_version": "1.5.0",
            "orientation": "horizontal",
            "min": 0,
            "description_tooltip": null,
            "_model_module": "@jupyter-widgets/controls",
            "layout": "IPY_MODEL_83ee687b882b4cf68ff6a156825004fd"
          }
        },
        "f73bfd745b2e4922b9a0379984d7f7eb": {
          "model_module": "@jupyter-widgets/controls",
          "model_name": "HTMLModel",
          "state": {
            "_view_name": "HTMLView",
            "style": "IPY_MODEL_4a28306aabcc4d36a79d39b0d48e2869",
            "_dom_classes": [],
            "description": "",
            "_model_name": "HTMLModel",
            "placeholder": "​",
            "_view_module": "@jupyter-widgets/controls",
            "_model_module_version": "1.5.0",
            "value": " 20/20 [00:15&lt;00:00,  1.29it/s]",
            "_view_count": null,
            "_view_module_version": "1.5.0",
            "description_tooltip": null,
            "_model_module": "@jupyter-widgets/controls",
            "layout": "IPY_MODEL_b86094d1472c47d2a8ab11de674317d4"
          }
        },
        "3bae587f23e94732946634b1e08e1002": {
          "model_module": "@jupyter-widgets/controls",
          "model_name": "ProgressStyleModel",
          "state": {
            "_view_name": "StyleView",
            "_model_name": "ProgressStyleModel",
            "description_width": "initial",
            "_view_module": "@jupyter-widgets/base",
            "_model_module_version": "1.5.0",
            "_view_count": null,
            "_view_module_version": "1.2.0",
            "bar_color": null,
            "_model_module": "@jupyter-widgets/controls"
          }
        },
        "83ee687b882b4cf68ff6a156825004fd": {
          "model_module": "@jupyter-widgets/base",
          "model_name": "LayoutModel",
          "state": {
            "_view_name": "LayoutView",
            "grid_template_rows": null,
            "right": null,
            "justify_content": null,
            "_view_module": "@jupyter-widgets/base",
            "overflow": null,
            "_model_module_version": "1.2.0",
            "_view_count": null,
            "flex_flow": null,
            "width": null,
            "min_width": null,
            "border": null,
            "align_items": null,
            "bottom": null,
            "_model_module": "@jupyter-widgets/base",
            "top": null,
            "grid_column": null,
            "overflow_y": null,
            "overflow_x": null,
            "grid_auto_flow": null,
            "grid_area": null,
            "grid_template_columns": null,
            "flex": null,
            "_model_name": "LayoutModel",
            "justify_items": null,
            "grid_row": null,
            "max_height": null,
            "align_content": null,
            "visibility": null,
            "align_self": null,
            "height": null,
            "min_height": null,
            "padding": null,
            "grid_auto_rows": null,
            "grid_gap": null,
            "max_width": null,
            "order": null,
            "_view_module_version": "1.2.0",
            "grid_template_areas": null,
            "object_position": null,
            "object_fit": null,
            "grid_auto_columns": null,
            "margin": null,
            "display": null,
            "left": null
          }
        },
        "4a28306aabcc4d36a79d39b0d48e2869": {
          "model_module": "@jupyter-widgets/controls",
          "model_name": "DescriptionStyleModel",
          "state": {
            "_view_name": "StyleView",
            "_model_name": "DescriptionStyleModel",
            "description_width": "",
            "_view_module": "@jupyter-widgets/base",
            "_model_module_version": "1.5.0",
            "_view_count": null,
            "_view_module_version": "1.2.0",
            "_model_module": "@jupyter-widgets/controls"
          }
        },
        "b86094d1472c47d2a8ab11de674317d4": {
          "model_module": "@jupyter-widgets/base",
          "model_name": "LayoutModel",
          "state": {
            "_view_name": "LayoutView",
            "grid_template_rows": null,
            "right": null,
            "justify_content": null,
            "_view_module": "@jupyter-widgets/base",
            "overflow": null,
            "_model_module_version": "1.2.0",
            "_view_count": null,
            "flex_flow": null,
            "width": null,
            "min_width": null,
            "border": null,
            "align_items": null,
            "bottom": null,
            "_model_module": "@jupyter-widgets/base",
            "top": null,
            "grid_column": null,
            "overflow_y": null,
            "overflow_x": null,
            "grid_auto_flow": null,
            "grid_area": null,
            "grid_template_columns": null,
            "flex": null,
            "_model_name": "LayoutModel",
            "justify_items": null,
            "grid_row": null,
            "max_height": null,
            "align_content": null,
            "visibility": null,
            "align_self": null,
            "height": null,
            "min_height": null,
            "padding": null,
            "grid_auto_rows": null,
            "grid_gap": null,
            "max_width": null,
            "order": null,
            "_view_module_version": "1.2.0",
            "grid_template_areas": null,
            "object_position": null,
            "object_fit": null,
            "grid_auto_columns": null,
            "margin": null,
            "display": null,
            "left": null
          }
        },
        "989b210bc7984d0186e324577764a7bb": {
          "model_module": "@jupyter-widgets/controls",
          "model_name": "HBoxModel",
          "state": {
            "_view_name": "HBoxView",
            "_dom_classes": [],
            "_model_name": "HBoxModel",
            "_view_module": "@jupyter-widgets/controls",
            "_model_module_version": "1.5.0",
            "_view_count": null,
            "_view_module_version": "1.5.0",
            "box_style": "",
            "layout": "IPY_MODEL_3576c7affcfb4b97a4adc6c10d989d2d",
            "_model_module": "@jupyter-widgets/controls",
            "children": [
              "IPY_MODEL_6a902f9a3f3547499d1941bb1621a976",
              "IPY_MODEL_5c0cf783b05247beabd16cef93cfcb38"
            ]
          }
        },
        "3576c7affcfb4b97a4adc6c10d989d2d": {
          "model_module": "@jupyter-widgets/base",
          "model_name": "LayoutModel",
          "state": {
            "_view_name": "LayoutView",
            "grid_template_rows": null,
            "right": null,
            "justify_content": null,
            "_view_module": "@jupyter-widgets/base",
            "overflow": null,
            "_model_module_version": "1.2.0",
            "_view_count": null,
            "flex_flow": null,
            "width": null,
            "min_width": null,
            "border": null,
            "align_items": null,
            "bottom": null,
            "_model_module": "@jupyter-widgets/base",
            "top": null,
            "grid_column": null,
            "overflow_y": null,
            "overflow_x": null,
            "grid_auto_flow": null,
            "grid_area": null,
            "grid_template_columns": null,
            "flex": null,
            "_model_name": "LayoutModel",
            "justify_items": null,
            "grid_row": null,
            "max_height": null,
            "align_content": null,
            "visibility": null,
            "align_self": null,
            "height": null,
            "min_height": null,
            "padding": null,
            "grid_auto_rows": null,
            "grid_gap": null,
            "max_width": null,
            "order": null,
            "_view_module_version": "1.2.0",
            "grid_template_areas": null,
            "object_position": null,
            "object_fit": null,
            "grid_auto_columns": null,
            "margin": null,
            "display": null,
            "left": null
          }
        },
        "6a902f9a3f3547499d1941bb1621a976": {
          "model_module": "@jupyter-widgets/controls",
          "model_name": "FloatProgressModel",
          "state": {
            "_view_name": "ProgressView",
            "style": "IPY_MODEL_371be9b214464fafb88608b2ba38b7c1",
            "_dom_classes": [],
            "description": "100%",
            "_model_name": "FloatProgressModel",
            "bar_style": "success",
            "max": 20,
            "_view_module": "@jupyter-widgets/controls",
            "_model_module_version": "1.5.0",
            "value": 20,
            "_view_count": null,
            "_view_module_version": "1.5.0",
            "orientation": "horizontal",
            "min": 0,
            "description_tooltip": null,
            "_model_module": "@jupyter-widgets/controls",
            "layout": "IPY_MODEL_70741b80b85d41a8a9f97c7eb68cd391"
          }
        },
        "5c0cf783b05247beabd16cef93cfcb38": {
          "model_module": "@jupyter-widgets/controls",
          "model_name": "HTMLModel",
          "state": {
            "_view_name": "HTMLView",
            "style": "IPY_MODEL_e9d7d83d00434857943d027b4c3ae739",
            "_dom_classes": [],
            "description": "",
            "_model_name": "HTMLModel",
            "placeholder": "​",
            "_view_module": "@jupyter-widgets/controls",
            "_model_module_version": "1.5.0",
            "value": " 20/20 [00:14&lt;00:00,  1.36it/s]",
            "_view_count": null,
            "_view_module_version": "1.5.0",
            "description_tooltip": null,
            "_model_module": "@jupyter-widgets/controls",
            "layout": "IPY_MODEL_ee010c0227fb44e599b23cfafee32419"
          }
        },
        "371be9b214464fafb88608b2ba38b7c1": {
          "model_module": "@jupyter-widgets/controls",
          "model_name": "ProgressStyleModel",
          "state": {
            "_view_name": "StyleView",
            "_model_name": "ProgressStyleModel",
            "description_width": "initial",
            "_view_module": "@jupyter-widgets/base",
            "_model_module_version": "1.5.0",
            "_view_count": null,
            "_view_module_version": "1.2.0",
            "bar_color": null,
            "_model_module": "@jupyter-widgets/controls"
          }
        },
        "70741b80b85d41a8a9f97c7eb68cd391": {
          "model_module": "@jupyter-widgets/base",
          "model_name": "LayoutModel",
          "state": {
            "_view_name": "LayoutView",
            "grid_template_rows": null,
            "right": null,
            "justify_content": null,
            "_view_module": "@jupyter-widgets/base",
            "overflow": null,
            "_model_module_version": "1.2.0",
            "_view_count": null,
            "flex_flow": null,
            "width": null,
            "min_width": null,
            "border": null,
            "align_items": null,
            "bottom": null,
            "_model_module": "@jupyter-widgets/base",
            "top": null,
            "grid_column": null,
            "overflow_y": null,
            "overflow_x": null,
            "grid_auto_flow": null,
            "grid_area": null,
            "grid_template_columns": null,
            "flex": null,
            "_model_name": "LayoutModel",
            "justify_items": null,
            "grid_row": null,
            "max_height": null,
            "align_content": null,
            "visibility": null,
            "align_self": null,
            "height": null,
            "min_height": null,
            "padding": null,
            "grid_auto_rows": null,
            "grid_gap": null,
            "max_width": null,
            "order": null,
            "_view_module_version": "1.2.0",
            "grid_template_areas": null,
            "object_position": null,
            "object_fit": null,
            "grid_auto_columns": null,
            "margin": null,
            "display": null,
            "left": null
          }
        },
        "e9d7d83d00434857943d027b4c3ae739": {
          "model_module": "@jupyter-widgets/controls",
          "model_name": "DescriptionStyleModel",
          "state": {
            "_view_name": "StyleView",
            "_model_name": "DescriptionStyleModel",
            "description_width": "",
            "_view_module": "@jupyter-widgets/base",
            "_model_module_version": "1.5.0",
            "_view_count": null,
            "_view_module_version": "1.2.0",
            "_model_module": "@jupyter-widgets/controls"
          }
        },
        "ee010c0227fb44e599b23cfafee32419": {
          "model_module": "@jupyter-widgets/base",
          "model_name": "LayoutModel",
          "state": {
            "_view_name": "LayoutView",
            "grid_template_rows": null,
            "right": null,
            "justify_content": null,
            "_view_module": "@jupyter-widgets/base",
            "overflow": null,
            "_model_module_version": "1.2.0",
            "_view_count": null,
            "flex_flow": null,
            "width": null,
            "min_width": null,
            "border": null,
            "align_items": null,
            "bottom": null,
            "_model_module": "@jupyter-widgets/base",
            "top": null,
            "grid_column": null,
            "overflow_y": null,
            "overflow_x": null,
            "grid_auto_flow": null,
            "grid_area": null,
            "grid_template_columns": null,
            "flex": null,
            "_model_name": "LayoutModel",
            "justify_items": null,
            "grid_row": null,
            "max_height": null,
            "align_content": null,
            "visibility": null,
            "align_self": null,
            "height": null,
            "min_height": null,
            "padding": null,
            "grid_auto_rows": null,
            "grid_gap": null,
            "max_width": null,
            "order": null,
            "_view_module_version": "1.2.0",
            "grid_template_areas": null,
            "object_position": null,
            "object_fit": null,
            "grid_auto_columns": null,
            "margin": null,
            "display": null,
            "left": null
          }
        },
        "4ac6035f90f2427f93a6d76a7be70c88": {
          "model_module": "@jupyter-widgets/controls",
          "model_name": "HBoxModel",
          "state": {
            "_view_name": "HBoxView",
            "_dom_classes": [],
            "_model_name": "HBoxModel",
            "_view_module": "@jupyter-widgets/controls",
            "_model_module_version": "1.5.0",
            "_view_count": null,
            "_view_module_version": "1.5.0",
            "box_style": "",
            "layout": "IPY_MODEL_21fb27e8983c4368a4796ac8c0fca3e6",
            "_model_module": "@jupyter-widgets/controls",
            "children": [
              "IPY_MODEL_4043404fb5744377a3ba663f697bc8f7",
              "IPY_MODEL_d672c22e326742ffaabb7fb5a63a9234"
            ]
          }
        },
        "21fb27e8983c4368a4796ac8c0fca3e6": {
          "model_module": "@jupyter-widgets/base",
          "model_name": "LayoutModel",
          "state": {
            "_view_name": "LayoutView",
            "grid_template_rows": null,
            "right": null,
            "justify_content": null,
            "_view_module": "@jupyter-widgets/base",
            "overflow": null,
            "_model_module_version": "1.2.0",
            "_view_count": null,
            "flex_flow": null,
            "width": null,
            "min_width": null,
            "border": null,
            "align_items": null,
            "bottom": null,
            "_model_module": "@jupyter-widgets/base",
            "top": null,
            "grid_column": null,
            "overflow_y": null,
            "overflow_x": null,
            "grid_auto_flow": null,
            "grid_area": null,
            "grid_template_columns": null,
            "flex": null,
            "_model_name": "LayoutModel",
            "justify_items": null,
            "grid_row": null,
            "max_height": null,
            "align_content": null,
            "visibility": null,
            "align_self": null,
            "height": null,
            "min_height": null,
            "padding": null,
            "grid_auto_rows": null,
            "grid_gap": null,
            "max_width": null,
            "order": null,
            "_view_module_version": "1.2.0",
            "grid_template_areas": null,
            "object_position": null,
            "object_fit": null,
            "grid_auto_columns": null,
            "margin": null,
            "display": null,
            "left": null
          }
        },
        "4043404fb5744377a3ba663f697bc8f7": {
          "model_module": "@jupyter-widgets/controls",
          "model_name": "FloatProgressModel",
          "state": {
            "_view_name": "ProgressView",
            "style": "IPY_MODEL_dda343bcf13d4c4eb1d37d8dd9a00387",
            "_dom_classes": [],
            "description": "100%",
            "_model_name": "FloatProgressModel",
            "bar_style": "success",
            "max": 20,
            "_view_module": "@jupyter-widgets/controls",
            "_model_module_version": "1.5.0",
            "value": 20,
            "_view_count": null,
            "_view_module_version": "1.5.0",
            "orientation": "horizontal",
            "min": 0,
            "description_tooltip": null,
            "_model_module": "@jupyter-widgets/controls",
            "layout": "IPY_MODEL_1b31c853dfdb42d79d21fff02956fbc5"
          }
        },
        "d672c22e326742ffaabb7fb5a63a9234": {
          "model_module": "@jupyter-widgets/controls",
          "model_name": "HTMLModel",
          "state": {
            "_view_name": "HTMLView",
            "style": "IPY_MODEL_52d747545be8432fb496f9c6e5e528ed",
            "_dom_classes": [],
            "description": "",
            "_model_name": "HTMLModel",
            "placeholder": "​",
            "_view_module": "@jupyter-widgets/controls",
            "_model_module_version": "1.5.0",
            "value": " 20/20 [00:17&lt;00:00,  1.12it/s]",
            "_view_count": null,
            "_view_module_version": "1.5.0",
            "description_tooltip": null,
            "_model_module": "@jupyter-widgets/controls",
            "layout": "IPY_MODEL_eb51efe702f34cce91a6a64c0f21149a"
          }
        },
        "dda343bcf13d4c4eb1d37d8dd9a00387": {
          "model_module": "@jupyter-widgets/controls",
          "model_name": "ProgressStyleModel",
          "state": {
            "_view_name": "StyleView",
            "_model_name": "ProgressStyleModel",
            "description_width": "initial",
            "_view_module": "@jupyter-widgets/base",
            "_model_module_version": "1.5.0",
            "_view_count": null,
            "_view_module_version": "1.2.0",
            "bar_color": null,
            "_model_module": "@jupyter-widgets/controls"
          }
        },
        "1b31c853dfdb42d79d21fff02956fbc5": {
          "model_module": "@jupyter-widgets/base",
          "model_name": "LayoutModel",
          "state": {
            "_view_name": "LayoutView",
            "grid_template_rows": null,
            "right": null,
            "justify_content": null,
            "_view_module": "@jupyter-widgets/base",
            "overflow": null,
            "_model_module_version": "1.2.0",
            "_view_count": null,
            "flex_flow": null,
            "width": null,
            "min_width": null,
            "border": null,
            "align_items": null,
            "bottom": null,
            "_model_module": "@jupyter-widgets/base",
            "top": null,
            "grid_column": null,
            "overflow_y": null,
            "overflow_x": null,
            "grid_auto_flow": null,
            "grid_area": null,
            "grid_template_columns": null,
            "flex": null,
            "_model_name": "LayoutModel",
            "justify_items": null,
            "grid_row": null,
            "max_height": null,
            "align_content": null,
            "visibility": null,
            "align_self": null,
            "height": null,
            "min_height": null,
            "padding": null,
            "grid_auto_rows": null,
            "grid_gap": null,
            "max_width": null,
            "order": null,
            "_view_module_version": "1.2.0",
            "grid_template_areas": null,
            "object_position": null,
            "object_fit": null,
            "grid_auto_columns": null,
            "margin": null,
            "display": null,
            "left": null
          }
        },
        "52d747545be8432fb496f9c6e5e528ed": {
          "model_module": "@jupyter-widgets/controls",
          "model_name": "DescriptionStyleModel",
          "state": {
            "_view_name": "StyleView",
            "_model_name": "DescriptionStyleModel",
            "description_width": "",
            "_view_module": "@jupyter-widgets/base",
            "_model_module_version": "1.5.0",
            "_view_count": null,
            "_view_module_version": "1.2.0",
            "_model_module": "@jupyter-widgets/controls"
          }
        },
        "eb51efe702f34cce91a6a64c0f21149a": {
          "model_module": "@jupyter-widgets/base",
          "model_name": "LayoutModel",
          "state": {
            "_view_name": "LayoutView",
            "grid_template_rows": null,
            "right": null,
            "justify_content": null,
            "_view_module": "@jupyter-widgets/base",
            "overflow": null,
            "_model_module_version": "1.2.0",
            "_view_count": null,
            "flex_flow": null,
            "width": null,
            "min_width": null,
            "border": null,
            "align_items": null,
            "bottom": null,
            "_model_module": "@jupyter-widgets/base",
            "top": null,
            "grid_column": null,
            "overflow_y": null,
            "overflow_x": null,
            "grid_auto_flow": null,
            "grid_area": null,
            "grid_template_columns": null,
            "flex": null,
            "_model_name": "LayoutModel",
            "justify_items": null,
            "grid_row": null,
            "max_height": null,
            "align_content": null,
            "visibility": null,
            "align_self": null,
            "height": null,
            "min_height": null,
            "padding": null,
            "grid_auto_rows": null,
            "grid_gap": null,
            "max_width": null,
            "order": null,
            "_view_module_version": "1.2.0",
            "grid_template_areas": null,
            "object_position": null,
            "object_fit": null,
            "grid_auto_columns": null,
            "margin": null,
            "display": null,
            "left": null
          }
        },
        "4787f6e37a244fddb960ba017b34c54a": {
          "model_module": "@jupyter-widgets/controls",
          "model_name": "HBoxModel",
          "state": {
            "_view_name": "HBoxView",
            "_dom_classes": [],
            "_model_name": "HBoxModel",
            "_view_module": "@jupyter-widgets/controls",
            "_model_module_version": "1.5.0",
            "_view_count": null,
            "_view_module_version": "1.5.0",
            "box_style": "",
            "layout": "IPY_MODEL_3998c5233ee9469b95a0332c2924e738",
            "_model_module": "@jupyter-widgets/controls",
            "children": [
              "IPY_MODEL_5918d2a448434dee9f77dd297ecfcfb3",
              "IPY_MODEL_47d83f4752f1431cb8cb263e7f4dc5bb"
            ]
          }
        },
        "3998c5233ee9469b95a0332c2924e738": {
          "model_module": "@jupyter-widgets/base",
          "model_name": "LayoutModel",
          "state": {
            "_view_name": "LayoutView",
            "grid_template_rows": null,
            "right": null,
            "justify_content": null,
            "_view_module": "@jupyter-widgets/base",
            "overflow": null,
            "_model_module_version": "1.2.0",
            "_view_count": null,
            "flex_flow": null,
            "width": null,
            "min_width": null,
            "border": null,
            "align_items": null,
            "bottom": null,
            "_model_module": "@jupyter-widgets/base",
            "top": null,
            "grid_column": null,
            "overflow_y": null,
            "overflow_x": null,
            "grid_auto_flow": null,
            "grid_area": null,
            "grid_template_columns": null,
            "flex": null,
            "_model_name": "LayoutModel",
            "justify_items": null,
            "grid_row": null,
            "max_height": null,
            "align_content": null,
            "visibility": null,
            "align_self": null,
            "height": null,
            "min_height": null,
            "padding": null,
            "grid_auto_rows": null,
            "grid_gap": null,
            "max_width": null,
            "order": null,
            "_view_module_version": "1.2.0",
            "grid_template_areas": null,
            "object_position": null,
            "object_fit": null,
            "grid_auto_columns": null,
            "margin": null,
            "display": null,
            "left": null
          }
        },
        "5918d2a448434dee9f77dd297ecfcfb3": {
          "model_module": "@jupyter-widgets/controls",
          "model_name": "FloatProgressModel",
          "state": {
            "_view_name": "ProgressView",
            "style": "IPY_MODEL_e4b8ba29a24f4ecc83474707ac29cf55",
            "_dom_classes": [],
            "description": "100%",
            "_model_name": "FloatProgressModel",
            "bar_style": "success",
            "max": 20,
            "_view_module": "@jupyter-widgets/controls",
            "_model_module_version": "1.5.0",
            "value": 20,
            "_view_count": null,
            "_view_module_version": "1.5.0",
            "orientation": "horizontal",
            "min": 0,
            "description_tooltip": null,
            "_model_module": "@jupyter-widgets/controls",
            "layout": "IPY_MODEL_9ea3ffccd418492ba9540bcf40910681"
          }
        },
        "47d83f4752f1431cb8cb263e7f4dc5bb": {
          "model_module": "@jupyter-widgets/controls",
          "model_name": "HTMLModel",
          "state": {
            "_view_name": "HTMLView",
            "style": "IPY_MODEL_ea01780b6136481dbc763a9669a5929b",
            "_dom_classes": [],
            "description": "",
            "_model_name": "HTMLModel",
            "placeholder": "​",
            "_view_module": "@jupyter-widgets/controls",
            "_model_module_version": "1.5.0",
            "value": " 20/20 [00:20&lt;00:00,  1.04s/it]",
            "_view_count": null,
            "_view_module_version": "1.5.0",
            "description_tooltip": null,
            "_model_module": "@jupyter-widgets/controls",
            "layout": "IPY_MODEL_2d3d7faff56a45618d92daff5ec4e565"
          }
        },
        "e4b8ba29a24f4ecc83474707ac29cf55": {
          "model_module": "@jupyter-widgets/controls",
          "model_name": "ProgressStyleModel",
          "state": {
            "_view_name": "StyleView",
            "_model_name": "ProgressStyleModel",
            "description_width": "initial",
            "_view_module": "@jupyter-widgets/base",
            "_model_module_version": "1.5.0",
            "_view_count": null,
            "_view_module_version": "1.2.0",
            "bar_color": null,
            "_model_module": "@jupyter-widgets/controls"
          }
        },
        "9ea3ffccd418492ba9540bcf40910681": {
          "model_module": "@jupyter-widgets/base",
          "model_name": "LayoutModel",
          "state": {
            "_view_name": "LayoutView",
            "grid_template_rows": null,
            "right": null,
            "justify_content": null,
            "_view_module": "@jupyter-widgets/base",
            "overflow": null,
            "_model_module_version": "1.2.0",
            "_view_count": null,
            "flex_flow": null,
            "width": null,
            "min_width": null,
            "border": null,
            "align_items": null,
            "bottom": null,
            "_model_module": "@jupyter-widgets/base",
            "top": null,
            "grid_column": null,
            "overflow_y": null,
            "overflow_x": null,
            "grid_auto_flow": null,
            "grid_area": null,
            "grid_template_columns": null,
            "flex": null,
            "_model_name": "LayoutModel",
            "justify_items": null,
            "grid_row": null,
            "max_height": null,
            "align_content": null,
            "visibility": null,
            "align_self": null,
            "height": null,
            "min_height": null,
            "padding": null,
            "grid_auto_rows": null,
            "grid_gap": null,
            "max_width": null,
            "order": null,
            "_view_module_version": "1.2.0",
            "grid_template_areas": null,
            "object_position": null,
            "object_fit": null,
            "grid_auto_columns": null,
            "margin": null,
            "display": null,
            "left": null
          }
        },
        "ea01780b6136481dbc763a9669a5929b": {
          "model_module": "@jupyter-widgets/controls",
          "model_name": "DescriptionStyleModel",
          "state": {
            "_view_name": "StyleView",
            "_model_name": "DescriptionStyleModel",
            "description_width": "",
            "_view_module": "@jupyter-widgets/base",
            "_model_module_version": "1.5.0",
            "_view_count": null,
            "_view_module_version": "1.2.0",
            "_model_module": "@jupyter-widgets/controls"
          }
        },
        "2d3d7faff56a45618d92daff5ec4e565": {
          "model_module": "@jupyter-widgets/base",
          "model_name": "LayoutModel",
          "state": {
            "_view_name": "LayoutView",
            "grid_template_rows": null,
            "right": null,
            "justify_content": null,
            "_view_module": "@jupyter-widgets/base",
            "overflow": null,
            "_model_module_version": "1.2.0",
            "_view_count": null,
            "flex_flow": null,
            "width": null,
            "min_width": null,
            "border": null,
            "align_items": null,
            "bottom": null,
            "_model_module": "@jupyter-widgets/base",
            "top": null,
            "grid_column": null,
            "overflow_y": null,
            "overflow_x": null,
            "grid_auto_flow": null,
            "grid_area": null,
            "grid_template_columns": null,
            "flex": null,
            "_model_name": "LayoutModel",
            "justify_items": null,
            "grid_row": null,
            "max_height": null,
            "align_content": null,
            "visibility": null,
            "align_self": null,
            "height": null,
            "min_height": null,
            "padding": null,
            "grid_auto_rows": null,
            "grid_gap": null,
            "max_width": null,
            "order": null,
            "_view_module_version": "1.2.0",
            "grid_template_areas": null,
            "object_position": null,
            "object_fit": null,
            "grid_auto_columns": null,
            "margin": null,
            "display": null,
            "left": null
          }
        },
        "9bab3dc2312f48a1a49cc9e36a1c2421": {
          "model_module": "@jupyter-widgets/controls",
          "model_name": "HBoxModel",
          "state": {
            "_view_name": "HBoxView",
            "_dom_classes": [],
            "_model_name": "HBoxModel",
            "_view_module": "@jupyter-widgets/controls",
            "_model_module_version": "1.5.0",
            "_view_count": null,
            "_view_module_version": "1.5.0",
            "box_style": "",
            "layout": "IPY_MODEL_8f204561eb7c445aab53edc8dd3f0061",
            "_model_module": "@jupyter-widgets/controls",
            "children": [
              "IPY_MODEL_15a130ae183542a0b9e3ba3157580678",
              "IPY_MODEL_8d6e0cb2ab13462196940a0a79bcd023"
            ]
          }
        },
        "8f204561eb7c445aab53edc8dd3f0061": {
          "model_module": "@jupyter-widgets/base",
          "model_name": "LayoutModel",
          "state": {
            "_view_name": "LayoutView",
            "grid_template_rows": null,
            "right": null,
            "justify_content": null,
            "_view_module": "@jupyter-widgets/base",
            "overflow": null,
            "_model_module_version": "1.2.0",
            "_view_count": null,
            "flex_flow": null,
            "width": null,
            "min_width": null,
            "border": null,
            "align_items": null,
            "bottom": null,
            "_model_module": "@jupyter-widgets/base",
            "top": null,
            "grid_column": null,
            "overflow_y": null,
            "overflow_x": null,
            "grid_auto_flow": null,
            "grid_area": null,
            "grid_template_columns": null,
            "flex": null,
            "_model_name": "LayoutModel",
            "justify_items": null,
            "grid_row": null,
            "max_height": null,
            "align_content": null,
            "visibility": null,
            "align_self": null,
            "height": null,
            "min_height": null,
            "padding": null,
            "grid_auto_rows": null,
            "grid_gap": null,
            "max_width": null,
            "order": null,
            "_view_module_version": "1.2.0",
            "grid_template_areas": null,
            "object_position": null,
            "object_fit": null,
            "grid_auto_columns": null,
            "margin": null,
            "display": null,
            "left": null
          }
        },
        "15a130ae183542a0b9e3ba3157580678": {
          "model_module": "@jupyter-widgets/controls",
          "model_name": "FloatProgressModel",
          "state": {
            "_view_name": "ProgressView",
            "style": "IPY_MODEL_8675c24875244e0f8439c94aac6761a5",
            "_dom_classes": [],
            "description": "100%",
            "_model_name": "FloatProgressModel",
            "bar_style": "success",
            "max": 20,
            "_view_module": "@jupyter-widgets/controls",
            "_model_module_version": "1.5.0",
            "value": 20,
            "_view_count": null,
            "_view_module_version": "1.5.0",
            "orientation": "horizontal",
            "min": 0,
            "description_tooltip": null,
            "_model_module": "@jupyter-widgets/controls",
            "layout": "IPY_MODEL_5a0a26c23e8645c48d84bf7971914166"
          }
        },
        "8d6e0cb2ab13462196940a0a79bcd023": {
          "model_module": "@jupyter-widgets/controls",
          "model_name": "HTMLModel",
          "state": {
            "_view_name": "HTMLView",
            "style": "IPY_MODEL_fb5162b2a415479ca33a7d775491155b",
            "_dom_classes": [],
            "description": "",
            "_model_name": "HTMLModel",
            "placeholder": "​",
            "_view_module": "@jupyter-widgets/controls",
            "_model_module_version": "1.5.0",
            "value": " 20/20 [00:09&lt;00:00,  2.19it/s]",
            "_view_count": null,
            "_view_module_version": "1.5.0",
            "description_tooltip": null,
            "_model_module": "@jupyter-widgets/controls",
            "layout": "IPY_MODEL_208c01c789b54adba61f752affd5f966"
          }
        },
        "8675c24875244e0f8439c94aac6761a5": {
          "model_module": "@jupyter-widgets/controls",
          "model_name": "ProgressStyleModel",
          "state": {
            "_view_name": "StyleView",
            "_model_name": "ProgressStyleModel",
            "description_width": "initial",
            "_view_module": "@jupyter-widgets/base",
            "_model_module_version": "1.5.0",
            "_view_count": null,
            "_view_module_version": "1.2.0",
            "bar_color": null,
            "_model_module": "@jupyter-widgets/controls"
          }
        },
        "5a0a26c23e8645c48d84bf7971914166": {
          "model_module": "@jupyter-widgets/base",
          "model_name": "LayoutModel",
          "state": {
            "_view_name": "LayoutView",
            "grid_template_rows": null,
            "right": null,
            "justify_content": null,
            "_view_module": "@jupyter-widgets/base",
            "overflow": null,
            "_model_module_version": "1.2.0",
            "_view_count": null,
            "flex_flow": null,
            "width": null,
            "min_width": null,
            "border": null,
            "align_items": null,
            "bottom": null,
            "_model_module": "@jupyter-widgets/base",
            "top": null,
            "grid_column": null,
            "overflow_y": null,
            "overflow_x": null,
            "grid_auto_flow": null,
            "grid_area": null,
            "grid_template_columns": null,
            "flex": null,
            "_model_name": "LayoutModel",
            "justify_items": null,
            "grid_row": null,
            "max_height": null,
            "align_content": null,
            "visibility": null,
            "align_self": null,
            "height": null,
            "min_height": null,
            "padding": null,
            "grid_auto_rows": null,
            "grid_gap": null,
            "max_width": null,
            "order": null,
            "_view_module_version": "1.2.0",
            "grid_template_areas": null,
            "object_position": null,
            "object_fit": null,
            "grid_auto_columns": null,
            "margin": null,
            "display": null,
            "left": null
          }
        },
        "fb5162b2a415479ca33a7d775491155b": {
          "model_module": "@jupyter-widgets/controls",
          "model_name": "DescriptionStyleModel",
          "state": {
            "_view_name": "StyleView",
            "_model_name": "DescriptionStyleModel",
            "description_width": "",
            "_view_module": "@jupyter-widgets/base",
            "_model_module_version": "1.5.0",
            "_view_count": null,
            "_view_module_version": "1.2.0",
            "_model_module": "@jupyter-widgets/controls"
          }
        },
        "208c01c789b54adba61f752affd5f966": {
          "model_module": "@jupyter-widgets/base",
          "model_name": "LayoutModel",
          "state": {
            "_view_name": "LayoutView",
            "grid_template_rows": null,
            "right": null,
            "justify_content": null,
            "_view_module": "@jupyter-widgets/base",
            "overflow": null,
            "_model_module_version": "1.2.0",
            "_view_count": null,
            "flex_flow": null,
            "width": null,
            "min_width": null,
            "border": null,
            "align_items": null,
            "bottom": null,
            "_model_module": "@jupyter-widgets/base",
            "top": null,
            "grid_column": null,
            "overflow_y": null,
            "overflow_x": null,
            "grid_auto_flow": null,
            "grid_area": null,
            "grid_template_columns": null,
            "flex": null,
            "_model_name": "LayoutModel",
            "justify_items": null,
            "grid_row": null,
            "max_height": null,
            "align_content": null,
            "visibility": null,
            "align_self": null,
            "height": null,
            "min_height": null,
            "padding": null,
            "grid_auto_rows": null,
            "grid_gap": null,
            "max_width": null,
            "order": null,
            "_view_module_version": "1.2.0",
            "grid_template_areas": null,
            "object_position": null,
            "object_fit": null,
            "grid_auto_columns": null,
            "margin": null,
            "display": null,
            "left": null
          }
        },
        "896afe32a1fb480eae149de4080b23d1": {
          "model_module": "@jupyter-widgets/controls",
          "model_name": "HBoxModel",
          "state": {
            "_view_name": "HBoxView",
            "_dom_classes": [],
            "_model_name": "HBoxModel",
            "_view_module": "@jupyter-widgets/controls",
            "_model_module_version": "1.5.0",
            "_view_count": null,
            "_view_module_version": "1.5.0",
            "box_style": "",
            "layout": "IPY_MODEL_cc40d27c885f437e930030c72e47e59b",
            "_model_module": "@jupyter-widgets/controls",
            "children": [
              "IPY_MODEL_684804d6519a47e8841123f79e867b2f",
              "IPY_MODEL_7ad3d41e848b4562a74a9dce9786806c"
            ]
          }
        },
        "cc40d27c885f437e930030c72e47e59b": {
          "model_module": "@jupyter-widgets/base",
          "model_name": "LayoutModel",
          "state": {
            "_view_name": "LayoutView",
            "grid_template_rows": null,
            "right": null,
            "justify_content": null,
            "_view_module": "@jupyter-widgets/base",
            "overflow": null,
            "_model_module_version": "1.2.0",
            "_view_count": null,
            "flex_flow": null,
            "width": null,
            "min_width": null,
            "border": null,
            "align_items": null,
            "bottom": null,
            "_model_module": "@jupyter-widgets/base",
            "top": null,
            "grid_column": null,
            "overflow_y": null,
            "overflow_x": null,
            "grid_auto_flow": null,
            "grid_area": null,
            "grid_template_columns": null,
            "flex": null,
            "_model_name": "LayoutModel",
            "justify_items": null,
            "grid_row": null,
            "max_height": null,
            "align_content": null,
            "visibility": null,
            "align_self": null,
            "height": null,
            "min_height": null,
            "padding": null,
            "grid_auto_rows": null,
            "grid_gap": null,
            "max_width": null,
            "order": null,
            "_view_module_version": "1.2.0",
            "grid_template_areas": null,
            "object_position": null,
            "object_fit": null,
            "grid_auto_columns": null,
            "margin": null,
            "display": null,
            "left": null
          }
        },
        "684804d6519a47e8841123f79e867b2f": {
          "model_module": "@jupyter-widgets/controls",
          "model_name": "FloatProgressModel",
          "state": {
            "_view_name": "ProgressView",
            "style": "IPY_MODEL_965a11dd9c0d4fef83d1ff937604d383",
            "_dom_classes": [],
            "description": "100%",
            "_model_name": "FloatProgressModel",
            "bar_style": "success",
            "max": 20,
            "_view_module": "@jupyter-widgets/controls",
            "_model_module_version": "1.5.0",
            "value": 20,
            "_view_count": null,
            "_view_module_version": "1.5.0",
            "orientation": "horizontal",
            "min": 0,
            "description_tooltip": null,
            "_model_module": "@jupyter-widgets/controls",
            "layout": "IPY_MODEL_fbf8aa6083794854b861792687004221"
          }
        },
        "7ad3d41e848b4562a74a9dce9786806c": {
          "model_module": "@jupyter-widgets/controls",
          "model_name": "HTMLModel",
          "state": {
            "_view_name": "HTMLView",
            "style": "IPY_MODEL_e972c4e1efd546f5b777b70928ce84f0",
            "_dom_classes": [],
            "description": "",
            "_model_name": "HTMLModel",
            "placeholder": "​",
            "_view_module": "@jupyter-widgets/controls",
            "_model_module_version": "1.5.0",
            "value": " 20/20 [00:11&lt;00:00,  1.67it/s]",
            "_view_count": null,
            "_view_module_version": "1.5.0",
            "description_tooltip": null,
            "_model_module": "@jupyter-widgets/controls",
            "layout": "IPY_MODEL_ec22fd5c39b84f5ba1c17f9e09c5ec9a"
          }
        },
        "965a11dd9c0d4fef83d1ff937604d383": {
          "model_module": "@jupyter-widgets/controls",
          "model_name": "ProgressStyleModel",
          "state": {
            "_view_name": "StyleView",
            "_model_name": "ProgressStyleModel",
            "description_width": "initial",
            "_view_module": "@jupyter-widgets/base",
            "_model_module_version": "1.5.0",
            "_view_count": null,
            "_view_module_version": "1.2.0",
            "bar_color": null,
            "_model_module": "@jupyter-widgets/controls"
          }
        },
        "fbf8aa6083794854b861792687004221": {
          "model_module": "@jupyter-widgets/base",
          "model_name": "LayoutModel",
          "state": {
            "_view_name": "LayoutView",
            "grid_template_rows": null,
            "right": null,
            "justify_content": null,
            "_view_module": "@jupyter-widgets/base",
            "overflow": null,
            "_model_module_version": "1.2.0",
            "_view_count": null,
            "flex_flow": null,
            "width": null,
            "min_width": null,
            "border": null,
            "align_items": null,
            "bottom": null,
            "_model_module": "@jupyter-widgets/base",
            "top": null,
            "grid_column": null,
            "overflow_y": null,
            "overflow_x": null,
            "grid_auto_flow": null,
            "grid_area": null,
            "grid_template_columns": null,
            "flex": null,
            "_model_name": "LayoutModel",
            "justify_items": null,
            "grid_row": null,
            "max_height": null,
            "align_content": null,
            "visibility": null,
            "align_self": null,
            "height": null,
            "min_height": null,
            "padding": null,
            "grid_auto_rows": null,
            "grid_gap": null,
            "max_width": null,
            "order": null,
            "_view_module_version": "1.2.0",
            "grid_template_areas": null,
            "object_position": null,
            "object_fit": null,
            "grid_auto_columns": null,
            "margin": null,
            "display": null,
            "left": null
          }
        },
        "e972c4e1efd546f5b777b70928ce84f0": {
          "model_module": "@jupyter-widgets/controls",
          "model_name": "DescriptionStyleModel",
          "state": {
            "_view_name": "StyleView",
            "_model_name": "DescriptionStyleModel",
            "description_width": "",
            "_view_module": "@jupyter-widgets/base",
            "_model_module_version": "1.5.0",
            "_view_count": null,
            "_view_module_version": "1.2.0",
            "_model_module": "@jupyter-widgets/controls"
          }
        },
        "ec22fd5c39b84f5ba1c17f9e09c5ec9a": {
          "model_module": "@jupyter-widgets/base",
          "model_name": "LayoutModel",
          "state": {
            "_view_name": "LayoutView",
            "grid_template_rows": null,
            "right": null,
            "justify_content": null,
            "_view_module": "@jupyter-widgets/base",
            "overflow": null,
            "_model_module_version": "1.2.0",
            "_view_count": null,
            "flex_flow": null,
            "width": null,
            "min_width": null,
            "border": null,
            "align_items": null,
            "bottom": null,
            "_model_module": "@jupyter-widgets/base",
            "top": null,
            "grid_column": null,
            "overflow_y": null,
            "overflow_x": null,
            "grid_auto_flow": null,
            "grid_area": null,
            "grid_template_columns": null,
            "flex": null,
            "_model_name": "LayoutModel",
            "justify_items": null,
            "grid_row": null,
            "max_height": null,
            "align_content": null,
            "visibility": null,
            "align_self": null,
            "height": null,
            "min_height": null,
            "padding": null,
            "grid_auto_rows": null,
            "grid_gap": null,
            "max_width": null,
            "order": null,
            "_view_module_version": "1.2.0",
            "grid_template_areas": null,
            "object_position": null,
            "object_fit": null,
            "grid_auto_columns": null,
            "margin": null,
            "display": null,
            "left": null
          }
        },
        "9f18048c68674950bde887331eebe231": {
          "model_module": "@jupyter-widgets/controls",
          "model_name": "HBoxModel",
          "state": {
            "_view_name": "HBoxView",
            "_dom_classes": [],
            "_model_name": "HBoxModel",
            "_view_module": "@jupyter-widgets/controls",
            "_model_module_version": "1.5.0",
            "_view_count": null,
            "_view_module_version": "1.5.0",
            "box_style": "",
            "layout": "IPY_MODEL_f89407c5b5a84d35846bdd277e93c126",
            "_model_module": "@jupyter-widgets/controls",
            "children": [
              "IPY_MODEL_b0b106e197c04466af7ecc3a317d84b3",
              "IPY_MODEL_12aa431c23da4d92b4f768768d964b2b"
            ]
          }
        },
        "f89407c5b5a84d35846bdd277e93c126": {
          "model_module": "@jupyter-widgets/base",
          "model_name": "LayoutModel",
          "state": {
            "_view_name": "LayoutView",
            "grid_template_rows": null,
            "right": null,
            "justify_content": null,
            "_view_module": "@jupyter-widgets/base",
            "overflow": null,
            "_model_module_version": "1.2.0",
            "_view_count": null,
            "flex_flow": null,
            "width": null,
            "min_width": null,
            "border": null,
            "align_items": null,
            "bottom": null,
            "_model_module": "@jupyter-widgets/base",
            "top": null,
            "grid_column": null,
            "overflow_y": null,
            "overflow_x": null,
            "grid_auto_flow": null,
            "grid_area": null,
            "grid_template_columns": null,
            "flex": null,
            "_model_name": "LayoutModel",
            "justify_items": null,
            "grid_row": null,
            "max_height": null,
            "align_content": null,
            "visibility": null,
            "align_self": null,
            "height": null,
            "min_height": null,
            "padding": null,
            "grid_auto_rows": null,
            "grid_gap": null,
            "max_width": null,
            "order": null,
            "_view_module_version": "1.2.0",
            "grid_template_areas": null,
            "object_position": null,
            "object_fit": null,
            "grid_auto_columns": null,
            "margin": null,
            "display": null,
            "left": null
          }
        },
        "b0b106e197c04466af7ecc3a317d84b3": {
          "model_module": "@jupyter-widgets/controls",
          "model_name": "FloatProgressModel",
          "state": {
            "_view_name": "ProgressView",
            "style": "IPY_MODEL_c45453a284584491818efc16e42d9d88",
            "_dom_classes": [],
            "description": "100%",
            "_model_name": "FloatProgressModel",
            "bar_style": "success",
            "max": 20,
            "_view_module": "@jupyter-widgets/controls",
            "_model_module_version": "1.5.0",
            "value": 20,
            "_view_count": null,
            "_view_module_version": "1.5.0",
            "orientation": "horizontal",
            "min": 0,
            "description_tooltip": null,
            "_model_module": "@jupyter-widgets/controls",
            "layout": "IPY_MODEL_2615c07dd03c449092369ebcfbfe47ac"
          }
        },
        "12aa431c23da4d92b4f768768d964b2b": {
          "model_module": "@jupyter-widgets/controls",
          "model_name": "HTMLModel",
          "state": {
            "_view_name": "HTMLView",
            "style": "IPY_MODEL_c5306b54758f472a90889d3d2589a7c5",
            "_dom_classes": [],
            "description": "",
            "_model_name": "HTMLModel",
            "placeholder": "​",
            "_view_module": "@jupyter-widgets/controls",
            "_model_module_version": "1.5.0",
            "value": " 20/20 [00:15&lt;00:00,  1.32it/s]",
            "_view_count": null,
            "_view_module_version": "1.5.0",
            "description_tooltip": null,
            "_model_module": "@jupyter-widgets/controls",
            "layout": "IPY_MODEL_3854ab2f44b24326a79aadc9cce2eb3f"
          }
        },
        "c45453a284584491818efc16e42d9d88": {
          "model_module": "@jupyter-widgets/controls",
          "model_name": "ProgressStyleModel",
          "state": {
            "_view_name": "StyleView",
            "_model_name": "ProgressStyleModel",
            "description_width": "initial",
            "_view_module": "@jupyter-widgets/base",
            "_model_module_version": "1.5.0",
            "_view_count": null,
            "_view_module_version": "1.2.0",
            "bar_color": null,
            "_model_module": "@jupyter-widgets/controls"
          }
        },
        "2615c07dd03c449092369ebcfbfe47ac": {
          "model_module": "@jupyter-widgets/base",
          "model_name": "LayoutModel",
          "state": {
            "_view_name": "LayoutView",
            "grid_template_rows": null,
            "right": null,
            "justify_content": null,
            "_view_module": "@jupyter-widgets/base",
            "overflow": null,
            "_model_module_version": "1.2.0",
            "_view_count": null,
            "flex_flow": null,
            "width": null,
            "min_width": null,
            "border": null,
            "align_items": null,
            "bottom": null,
            "_model_module": "@jupyter-widgets/base",
            "top": null,
            "grid_column": null,
            "overflow_y": null,
            "overflow_x": null,
            "grid_auto_flow": null,
            "grid_area": null,
            "grid_template_columns": null,
            "flex": null,
            "_model_name": "LayoutModel",
            "justify_items": null,
            "grid_row": null,
            "max_height": null,
            "align_content": null,
            "visibility": null,
            "align_self": null,
            "height": null,
            "min_height": null,
            "padding": null,
            "grid_auto_rows": null,
            "grid_gap": null,
            "max_width": null,
            "order": null,
            "_view_module_version": "1.2.0",
            "grid_template_areas": null,
            "object_position": null,
            "object_fit": null,
            "grid_auto_columns": null,
            "margin": null,
            "display": null,
            "left": null
          }
        },
        "c5306b54758f472a90889d3d2589a7c5": {
          "model_module": "@jupyter-widgets/controls",
          "model_name": "DescriptionStyleModel",
          "state": {
            "_view_name": "StyleView",
            "_model_name": "DescriptionStyleModel",
            "description_width": "",
            "_view_module": "@jupyter-widgets/base",
            "_model_module_version": "1.5.0",
            "_view_count": null,
            "_view_module_version": "1.2.0",
            "_model_module": "@jupyter-widgets/controls"
          }
        },
        "3854ab2f44b24326a79aadc9cce2eb3f": {
          "model_module": "@jupyter-widgets/base",
          "model_name": "LayoutModel",
          "state": {
            "_view_name": "LayoutView",
            "grid_template_rows": null,
            "right": null,
            "justify_content": null,
            "_view_module": "@jupyter-widgets/base",
            "overflow": null,
            "_model_module_version": "1.2.0",
            "_view_count": null,
            "flex_flow": null,
            "width": null,
            "min_width": null,
            "border": null,
            "align_items": null,
            "bottom": null,
            "_model_module": "@jupyter-widgets/base",
            "top": null,
            "grid_column": null,
            "overflow_y": null,
            "overflow_x": null,
            "grid_auto_flow": null,
            "grid_area": null,
            "grid_template_columns": null,
            "flex": null,
            "_model_name": "LayoutModel",
            "justify_items": null,
            "grid_row": null,
            "max_height": null,
            "align_content": null,
            "visibility": null,
            "align_self": null,
            "height": null,
            "min_height": null,
            "padding": null,
            "grid_auto_rows": null,
            "grid_gap": null,
            "max_width": null,
            "order": null,
            "_view_module_version": "1.2.0",
            "grid_template_areas": null,
            "object_position": null,
            "object_fit": null,
            "grid_auto_columns": null,
            "margin": null,
            "display": null,
            "left": null
          }
        },
        "0dedad8860be4a3aa00764678e53131b": {
          "model_module": "@jupyter-widgets/controls",
          "model_name": "HBoxModel",
          "state": {
            "_view_name": "HBoxView",
            "_dom_classes": [],
            "_model_name": "HBoxModel",
            "_view_module": "@jupyter-widgets/controls",
            "_model_module_version": "1.5.0",
            "_view_count": null,
            "_view_module_version": "1.5.0",
            "box_style": "",
            "layout": "IPY_MODEL_d11ae8800b1a42d5b04452b3ee86f622",
            "_model_module": "@jupyter-widgets/controls",
            "children": [
              "IPY_MODEL_28b1607fac6e4851b098fbf9b23e7771",
              "IPY_MODEL_4019f4b15ba14ef4a35cf845fa44e486"
            ]
          }
        },
        "d11ae8800b1a42d5b04452b3ee86f622": {
          "model_module": "@jupyter-widgets/base",
          "model_name": "LayoutModel",
          "state": {
            "_view_name": "LayoutView",
            "grid_template_rows": null,
            "right": null,
            "justify_content": null,
            "_view_module": "@jupyter-widgets/base",
            "overflow": null,
            "_model_module_version": "1.2.0",
            "_view_count": null,
            "flex_flow": null,
            "width": null,
            "min_width": null,
            "border": null,
            "align_items": null,
            "bottom": null,
            "_model_module": "@jupyter-widgets/base",
            "top": null,
            "grid_column": null,
            "overflow_y": null,
            "overflow_x": null,
            "grid_auto_flow": null,
            "grid_area": null,
            "grid_template_columns": null,
            "flex": null,
            "_model_name": "LayoutModel",
            "justify_items": null,
            "grid_row": null,
            "max_height": null,
            "align_content": null,
            "visibility": null,
            "align_self": null,
            "height": null,
            "min_height": null,
            "padding": null,
            "grid_auto_rows": null,
            "grid_gap": null,
            "max_width": null,
            "order": null,
            "_view_module_version": "1.2.0",
            "grid_template_areas": null,
            "object_position": null,
            "object_fit": null,
            "grid_auto_columns": null,
            "margin": null,
            "display": null,
            "left": null
          }
        },
        "28b1607fac6e4851b098fbf9b23e7771": {
          "model_module": "@jupyter-widgets/controls",
          "model_name": "FloatProgressModel",
          "state": {
            "_view_name": "ProgressView",
            "style": "IPY_MODEL_f35470e6a46a49eb99a31bdf319e4808",
            "_dom_classes": [],
            "description": "100%",
            "_model_name": "FloatProgressModel",
            "bar_style": "success",
            "max": 20,
            "_view_module": "@jupyter-widgets/controls",
            "_model_module_version": "1.5.0",
            "value": 20,
            "_view_count": null,
            "_view_module_version": "1.5.0",
            "orientation": "horizontal",
            "min": 0,
            "description_tooltip": null,
            "_model_module": "@jupyter-widgets/controls",
            "layout": "IPY_MODEL_a3419622fd74428e8ebe51bfb1b957f9"
          }
        },
        "4019f4b15ba14ef4a35cf845fa44e486": {
          "model_module": "@jupyter-widgets/controls",
          "model_name": "HTMLModel",
          "state": {
            "_view_name": "HTMLView",
            "style": "IPY_MODEL_b5125ac064f945adb61b1712ec6f15c0",
            "_dom_classes": [],
            "description": "",
            "_model_name": "HTMLModel",
            "placeholder": "​",
            "_view_module": "@jupyter-widgets/controls",
            "_model_module_version": "1.5.0",
            "value": " 20/20 [00:08&lt;00:00,  2.48it/s]",
            "_view_count": null,
            "_view_module_version": "1.5.0",
            "description_tooltip": null,
            "_model_module": "@jupyter-widgets/controls",
            "layout": "IPY_MODEL_4fe92f3324c249eaa61d0d2e56523b06"
          }
        },
        "f35470e6a46a49eb99a31bdf319e4808": {
          "model_module": "@jupyter-widgets/controls",
          "model_name": "ProgressStyleModel",
          "state": {
            "_view_name": "StyleView",
            "_model_name": "ProgressStyleModel",
            "description_width": "initial",
            "_view_module": "@jupyter-widgets/base",
            "_model_module_version": "1.5.0",
            "_view_count": null,
            "_view_module_version": "1.2.0",
            "bar_color": null,
            "_model_module": "@jupyter-widgets/controls"
          }
        },
        "a3419622fd74428e8ebe51bfb1b957f9": {
          "model_module": "@jupyter-widgets/base",
          "model_name": "LayoutModel",
          "state": {
            "_view_name": "LayoutView",
            "grid_template_rows": null,
            "right": null,
            "justify_content": null,
            "_view_module": "@jupyter-widgets/base",
            "overflow": null,
            "_model_module_version": "1.2.0",
            "_view_count": null,
            "flex_flow": null,
            "width": null,
            "min_width": null,
            "border": null,
            "align_items": null,
            "bottom": null,
            "_model_module": "@jupyter-widgets/base",
            "top": null,
            "grid_column": null,
            "overflow_y": null,
            "overflow_x": null,
            "grid_auto_flow": null,
            "grid_area": null,
            "grid_template_columns": null,
            "flex": null,
            "_model_name": "LayoutModel",
            "justify_items": null,
            "grid_row": null,
            "max_height": null,
            "align_content": null,
            "visibility": null,
            "align_self": null,
            "height": null,
            "min_height": null,
            "padding": null,
            "grid_auto_rows": null,
            "grid_gap": null,
            "max_width": null,
            "order": null,
            "_view_module_version": "1.2.0",
            "grid_template_areas": null,
            "object_position": null,
            "object_fit": null,
            "grid_auto_columns": null,
            "margin": null,
            "display": null,
            "left": null
          }
        },
        "b5125ac064f945adb61b1712ec6f15c0": {
          "model_module": "@jupyter-widgets/controls",
          "model_name": "DescriptionStyleModel",
          "state": {
            "_view_name": "StyleView",
            "_model_name": "DescriptionStyleModel",
            "description_width": "",
            "_view_module": "@jupyter-widgets/base",
            "_model_module_version": "1.5.0",
            "_view_count": null,
            "_view_module_version": "1.2.0",
            "_model_module": "@jupyter-widgets/controls"
          }
        },
        "4fe92f3324c249eaa61d0d2e56523b06": {
          "model_module": "@jupyter-widgets/base",
          "model_name": "LayoutModel",
          "state": {
            "_view_name": "LayoutView",
            "grid_template_rows": null,
            "right": null,
            "justify_content": null,
            "_view_module": "@jupyter-widgets/base",
            "overflow": null,
            "_model_module_version": "1.2.0",
            "_view_count": null,
            "flex_flow": null,
            "width": null,
            "min_width": null,
            "border": null,
            "align_items": null,
            "bottom": null,
            "_model_module": "@jupyter-widgets/base",
            "top": null,
            "grid_column": null,
            "overflow_y": null,
            "overflow_x": null,
            "grid_auto_flow": null,
            "grid_area": null,
            "grid_template_columns": null,
            "flex": null,
            "_model_name": "LayoutModel",
            "justify_items": null,
            "grid_row": null,
            "max_height": null,
            "align_content": null,
            "visibility": null,
            "align_self": null,
            "height": null,
            "min_height": null,
            "padding": null,
            "grid_auto_rows": null,
            "grid_gap": null,
            "max_width": null,
            "order": null,
            "_view_module_version": "1.2.0",
            "grid_template_areas": null,
            "object_position": null,
            "object_fit": null,
            "grid_auto_columns": null,
            "margin": null,
            "display": null,
            "left": null
          }
        },
        "de1c6ae347a74bcf98bf328edeb7e08c": {
          "model_module": "@jupyter-widgets/controls",
          "model_name": "HBoxModel",
          "state": {
            "_view_name": "HBoxView",
            "_dom_classes": [],
            "_model_name": "HBoxModel",
            "_view_module": "@jupyter-widgets/controls",
            "_model_module_version": "1.5.0",
            "_view_count": null,
            "_view_module_version": "1.5.0",
            "box_style": "",
            "layout": "IPY_MODEL_01e2e2e416ae4bce9a70a446ddaea8de",
            "_model_module": "@jupyter-widgets/controls",
            "children": [
              "IPY_MODEL_2d2cf394218741c6aa81d951d2ff4758",
              "IPY_MODEL_26e451a5178447d3b7c6e745ad9b9499"
            ]
          }
        },
        "01e2e2e416ae4bce9a70a446ddaea8de": {
          "model_module": "@jupyter-widgets/base",
          "model_name": "LayoutModel",
          "state": {
            "_view_name": "LayoutView",
            "grid_template_rows": null,
            "right": null,
            "justify_content": null,
            "_view_module": "@jupyter-widgets/base",
            "overflow": null,
            "_model_module_version": "1.2.0",
            "_view_count": null,
            "flex_flow": null,
            "width": null,
            "min_width": null,
            "border": null,
            "align_items": null,
            "bottom": null,
            "_model_module": "@jupyter-widgets/base",
            "top": null,
            "grid_column": null,
            "overflow_y": null,
            "overflow_x": null,
            "grid_auto_flow": null,
            "grid_area": null,
            "grid_template_columns": null,
            "flex": null,
            "_model_name": "LayoutModel",
            "justify_items": null,
            "grid_row": null,
            "max_height": null,
            "align_content": null,
            "visibility": null,
            "align_self": null,
            "height": null,
            "min_height": null,
            "padding": null,
            "grid_auto_rows": null,
            "grid_gap": null,
            "max_width": null,
            "order": null,
            "_view_module_version": "1.2.0",
            "grid_template_areas": null,
            "object_position": null,
            "object_fit": null,
            "grid_auto_columns": null,
            "margin": null,
            "display": null,
            "left": null
          }
        },
        "2d2cf394218741c6aa81d951d2ff4758": {
          "model_module": "@jupyter-widgets/controls",
          "model_name": "FloatProgressModel",
          "state": {
            "_view_name": "ProgressView",
            "style": "IPY_MODEL_7c3f9b06d61c47cebc3b4fe56777f9e9",
            "_dom_classes": [],
            "description": "100%",
            "_model_name": "FloatProgressModel",
            "bar_style": "success",
            "max": 20,
            "_view_module": "@jupyter-widgets/controls",
            "_model_module_version": "1.5.0",
            "value": 20,
            "_view_count": null,
            "_view_module_version": "1.5.0",
            "orientation": "horizontal",
            "min": 0,
            "description_tooltip": null,
            "_model_module": "@jupyter-widgets/controls",
            "layout": "IPY_MODEL_7aef537344924922b162db3feb1113c2"
          }
        },
        "26e451a5178447d3b7c6e745ad9b9499": {
          "model_module": "@jupyter-widgets/controls",
          "model_name": "HTMLModel",
          "state": {
            "_view_name": "HTMLView",
            "style": "IPY_MODEL_c5daccad9e9b4bccb3580ca18a13f40d",
            "_dom_classes": [],
            "description": "",
            "_model_name": "HTMLModel",
            "placeholder": "​",
            "_view_module": "@jupyter-widgets/controls",
            "_model_module_version": "1.5.0",
            "value": " 20/20 [00:08&lt;00:00,  2.50it/s]",
            "_view_count": null,
            "_view_module_version": "1.5.0",
            "description_tooltip": null,
            "_model_module": "@jupyter-widgets/controls",
            "layout": "IPY_MODEL_8a89a449173a4cdeb2e955dc7e112eb1"
          }
        },
        "7c3f9b06d61c47cebc3b4fe56777f9e9": {
          "model_module": "@jupyter-widgets/controls",
          "model_name": "ProgressStyleModel",
          "state": {
            "_view_name": "StyleView",
            "_model_name": "ProgressStyleModel",
            "description_width": "initial",
            "_view_module": "@jupyter-widgets/base",
            "_model_module_version": "1.5.0",
            "_view_count": null,
            "_view_module_version": "1.2.0",
            "bar_color": null,
            "_model_module": "@jupyter-widgets/controls"
          }
        },
        "7aef537344924922b162db3feb1113c2": {
          "model_module": "@jupyter-widgets/base",
          "model_name": "LayoutModel",
          "state": {
            "_view_name": "LayoutView",
            "grid_template_rows": null,
            "right": null,
            "justify_content": null,
            "_view_module": "@jupyter-widgets/base",
            "overflow": null,
            "_model_module_version": "1.2.0",
            "_view_count": null,
            "flex_flow": null,
            "width": null,
            "min_width": null,
            "border": null,
            "align_items": null,
            "bottom": null,
            "_model_module": "@jupyter-widgets/base",
            "top": null,
            "grid_column": null,
            "overflow_y": null,
            "overflow_x": null,
            "grid_auto_flow": null,
            "grid_area": null,
            "grid_template_columns": null,
            "flex": null,
            "_model_name": "LayoutModel",
            "justify_items": null,
            "grid_row": null,
            "max_height": null,
            "align_content": null,
            "visibility": null,
            "align_self": null,
            "height": null,
            "min_height": null,
            "padding": null,
            "grid_auto_rows": null,
            "grid_gap": null,
            "max_width": null,
            "order": null,
            "_view_module_version": "1.2.0",
            "grid_template_areas": null,
            "object_position": null,
            "object_fit": null,
            "grid_auto_columns": null,
            "margin": null,
            "display": null,
            "left": null
          }
        },
        "c5daccad9e9b4bccb3580ca18a13f40d": {
          "model_module": "@jupyter-widgets/controls",
          "model_name": "DescriptionStyleModel",
          "state": {
            "_view_name": "StyleView",
            "_model_name": "DescriptionStyleModel",
            "description_width": "",
            "_view_module": "@jupyter-widgets/base",
            "_model_module_version": "1.5.0",
            "_view_count": null,
            "_view_module_version": "1.2.0",
            "_model_module": "@jupyter-widgets/controls"
          }
        },
        "8a89a449173a4cdeb2e955dc7e112eb1": {
          "model_module": "@jupyter-widgets/base",
          "model_name": "LayoutModel",
          "state": {
            "_view_name": "LayoutView",
            "grid_template_rows": null,
            "right": null,
            "justify_content": null,
            "_view_module": "@jupyter-widgets/base",
            "overflow": null,
            "_model_module_version": "1.2.0",
            "_view_count": null,
            "flex_flow": null,
            "width": null,
            "min_width": null,
            "border": null,
            "align_items": null,
            "bottom": null,
            "_model_module": "@jupyter-widgets/base",
            "top": null,
            "grid_column": null,
            "overflow_y": null,
            "overflow_x": null,
            "grid_auto_flow": null,
            "grid_area": null,
            "grid_template_columns": null,
            "flex": null,
            "_model_name": "LayoutModel",
            "justify_items": null,
            "grid_row": null,
            "max_height": null,
            "align_content": null,
            "visibility": null,
            "align_self": null,
            "height": null,
            "min_height": null,
            "padding": null,
            "grid_auto_rows": null,
            "grid_gap": null,
            "max_width": null,
            "order": null,
            "_view_module_version": "1.2.0",
            "grid_template_areas": null,
            "object_position": null,
            "object_fit": null,
            "grid_auto_columns": null,
            "margin": null,
            "display": null,
            "left": null
          }
        },
        "71dc1744fb654505be1e77edb7c9c551": {
          "model_module": "@jupyter-widgets/controls",
          "model_name": "HBoxModel",
          "state": {
            "_view_name": "HBoxView",
            "_dom_classes": [],
            "_model_name": "HBoxModel",
            "_view_module": "@jupyter-widgets/controls",
            "_model_module_version": "1.5.0",
            "_view_count": null,
            "_view_module_version": "1.5.0",
            "box_style": "",
            "layout": "IPY_MODEL_5a4ddda2cb904ff79d752da0e1e5ce61",
            "_model_module": "@jupyter-widgets/controls",
            "children": [
              "IPY_MODEL_8f8a7631240b49d3bdb08793e30d43d7",
              "IPY_MODEL_c8a7e8e258c94f509bcc9b7768f7e1e4"
            ]
          }
        },
        "5a4ddda2cb904ff79d752da0e1e5ce61": {
          "model_module": "@jupyter-widgets/base",
          "model_name": "LayoutModel",
          "state": {
            "_view_name": "LayoutView",
            "grid_template_rows": null,
            "right": null,
            "justify_content": null,
            "_view_module": "@jupyter-widgets/base",
            "overflow": null,
            "_model_module_version": "1.2.0",
            "_view_count": null,
            "flex_flow": null,
            "width": null,
            "min_width": null,
            "border": null,
            "align_items": null,
            "bottom": null,
            "_model_module": "@jupyter-widgets/base",
            "top": null,
            "grid_column": null,
            "overflow_y": null,
            "overflow_x": null,
            "grid_auto_flow": null,
            "grid_area": null,
            "grid_template_columns": null,
            "flex": null,
            "_model_name": "LayoutModel",
            "justify_items": null,
            "grid_row": null,
            "max_height": null,
            "align_content": null,
            "visibility": null,
            "align_self": null,
            "height": null,
            "min_height": null,
            "padding": null,
            "grid_auto_rows": null,
            "grid_gap": null,
            "max_width": null,
            "order": null,
            "_view_module_version": "1.2.0",
            "grid_template_areas": null,
            "object_position": null,
            "object_fit": null,
            "grid_auto_columns": null,
            "margin": null,
            "display": null,
            "left": null
          }
        },
        "8f8a7631240b49d3bdb08793e30d43d7": {
          "model_module": "@jupyter-widgets/controls",
          "model_name": "FloatProgressModel",
          "state": {
            "_view_name": "ProgressView",
            "style": "IPY_MODEL_8c4f1dea73e4459bbf71ed3d58f2ad1b",
            "_dom_classes": [],
            "description": "100%",
            "_model_name": "FloatProgressModel",
            "bar_style": "success",
            "max": 20,
            "_view_module": "@jupyter-widgets/controls",
            "_model_module_version": "1.5.0",
            "value": 20,
            "_view_count": null,
            "_view_module_version": "1.5.0",
            "orientation": "horizontal",
            "min": 0,
            "description_tooltip": null,
            "_model_module": "@jupyter-widgets/controls",
            "layout": "IPY_MODEL_875b9ba7e2e94888b0c53b488801bf56"
          }
        },
        "c8a7e8e258c94f509bcc9b7768f7e1e4": {
          "model_module": "@jupyter-widgets/controls",
          "model_name": "HTMLModel",
          "state": {
            "_view_name": "HTMLView",
            "style": "IPY_MODEL_192e8646509b4a3a81c4523349d398bb",
            "_dom_classes": [],
            "description": "",
            "_model_name": "HTMLModel",
            "placeholder": "​",
            "_view_module": "@jupyter-widgets/controls",
            "_model_module_version": "1.5.0",
            "value": " 20/20 [00:00&lt;00:00, 35.91it/s]",
            "_view_count": null,
            "_view_module_version": "1.5.0",
            "description_tooltip": null,
            "_model_module": "@jupyter-widgets/controls",
            "layout": "IPY_MODEL_193ea71f89b14217b163c391c0aac28c"
          }
        },
        "8c4f1dea73e4459bbf71ed3d58f2ad1b": {
          "model_module": "@jupyter-widgets/controls",
          "model_name": "ProgressStyleModel",
          "state": {
            "_view_name": "StyleView",
            "_model_name": "ProgressStyleModel",
            "description_width": "initial",
            "_view_module": "@jupyter-widgets/base",
            "_model_module_version": "1.5.0",
            "_view_count": null,
            "_view_module_version": "1.2.0",
            "bar_color": null,
            "_model_module": "@jupyter-widgets/controls"
          }
        },
        "875b9ba7e2e94888b0c53b488801bf56": {
          "model_module": "@jupyter-widgets/base",
          "model_name": "LayoutModel",
          "state": {
            "_view_name": "LayoutView",
            "grid_template_rows": null,
            "right": null,
            "justify_content": null,
            "_view_module": "@jupyter-widgets/base",
            "overflow": null,
            "_model_module_version": "1.2.0",
            "_view_count": null,
            "flex_flow": null,
            "width": null,
            "min_width": null,
            "border": null,
            "align_items": null,
            "bottom": null,
            "_model_module": "@jupyter-widgets/base",
            "top": null,
            "grid_column": null,
            "overflow_y": null,
            "overflow_x": null,
            "grid_auto_flow": null,
            "grid_area": null,
            "grid_template_columns": null,
            "flex": null,
            "_model_name": "LayoutModel",
            "justify_items": null,
            "grid_row": null,
            "max_height": null,
            "align_content": null,
            "visibility": null,
            "align_self": null,
            "height": null,
            "min_height": null,
            "padding": null,
            "grid_auto_rows": null,
            "grid_gap": null,
            "max_width": null,
            "order": null,
            "_view_module_version": "1.2.0",
            "grid_template_areas": null,
            "object_position": null,
            "object_fit": null,
            "grid_auto_columns": null,
            "margin": null,
            "display": null,
            "left": null
          }
        },
        "192e8646509b4a3a81c4523349d398bb": {
          "model_module": "@jupyter-widgets/controls",
          "model_name": "DescriptionStyleModel",
          "state": {
            "_view_name": "StyleView",
            "_model_name": "DescriptionStyleModel",
            "description_width": "",
            "_view_module": "@jupyter-widgets/base",
            "_model_module_version": "1.5.0",
            "_view_count": null,
            "_view_module_version": "1.2.0",
            "_model_module": "@jupyter-widgets/controls"
          }
        },
        "193ea71f89b14217b163c391c0aac28c": {
          "model_module": "@jupyter-widgets/base",
          "model_name": "LayoutModel",
          "state": {
            "_view_name": "LayoutView",
            "grid_template_rows": null,
            "right": null,
            "justify_content": null,
            "_view_module": "@jupyter-widgets/base",
            "overflow": null,
            "_model_module_version": "1.2.0",
            "_view_count": null,
            "flex_flow": null,
            "width": null,
            "min_width": null,
            "border": null,
            "align_items": null,
            "bottom": null,
            "_model_module": "@jupyter-widgets/base",
            "top": null,
            "grid_column": null,
            "overflow_y": null,
            "overflow_x": null,
            "grid_auto_flow": null,
            "grid_area": null,
            "grid_template_columns": null,
            "flex": null,
            "_model_name": "LayoutModel",
            "justify_items": null,
            "grid_row": null,
            "max_height": null,
            "align_content": null,
            "visibility": null,
            "align_self": null,
            "height": null,
            "min_height": null,
            "padding": null,
            "grid_auto_rows": null,
            "grid_gap": null,
            "max_width": null,
            "order": null,
            "_view_module_version": "1.2.0",
            "grid_template_areas": null,
            "object_position": null,
            "object_fit": null,
            "grid_auto_columns": null,
            "margin": null,
            "display": null,
            "left": null
          }
        },
        "a43794d001c445328ee1bd18ffbecfa0": {
          "model_module": "@jupyter-widgets/controls",
          "model_name": "HBoxModel",
          "state": {
            "_view_name": "HBoxView",
            "_dom_classes": [],
            "_model_name": "HBoxModel",
            "_view_module": "@jupyter-widgets/controls",
            "_model_module_version": "1.5.0",
            "_view_count": null,
            "_view_module_version": "1.5.0",
            "box_style": "",
            "layout": "IPY_MODEL_ea742dbfaff44863801d76125cee5a0a",
            "_model_module": "@jupyter-widgets/controls",
            "children": [
              "IPY_MODEL_2865781fc90645d7855d5d442fdc9623",
              "IPY_MODEL_202a4dc07f174230ae7767b7ea1ec289"
            ]
          }
        },
        "ea742dbfaff44863801d76125cee5a0a": {
          "model_module": "@jupyter-widgets/base",
          "model_name": "LayoutModel",
          "state": {
            "_view_name": "LayoutView",
            "grid_template_rows": null,
            "right": null,
            "justify_content": null,
            "_view_module": "@jupyter-widgets/base",
            "overflow": null,
            "_model_module_version": "1.2.0",
            "_view_count": null,
            "flex_flow": null,
            "width": null,
            "min_width": null,
            "border": null,
            "align_items": null,
            "bottom": null,
            "_model_module": "@jupyter-widgets/base",
            "top": null,
            "grid_column": null,
            "overflow_y": null,
            "overflow_x": null,
            "grid_auto_flow": null,
            "grid_area": null,
            "grid_template_columns": null,
            "flex": null,
            "_model_name": "LayoutModel",
            "justify_items": null,
            "grid_row": null,
            "max_height": null,
            "align_content": null,
            "visibility": null,
            "align_self": null,
            "height": null,
            "min_height": null,
            "padding": null,
            "grid_auto_rows": null,
            "grid_gap": null,
            "max_width": null,
            "order": null,
            "_view_module_version": "1.2.0",
            "grid_template_areas": null,
            "object_position": null,
            "object_fit": null,
            "grid_auto_columns": null,
            "margin": null,
            "display": null,
            "left": null
          }
        },
        "2865781fc90645d7855d5d442fdc9623": {
          "model_module": "@jupyter-widgets/controls",
          "model_name": "FloatProgressModel",
          "state": {
            "_view_name": "ProgressView",
            "style": "IPY_MODEL_d24841b88eea4f65b8e7564ca47b6125",
            "_dom_classes": [],
            "description": "100%",
            "_model_name": "FloatProgressModel",
            "bar_style": "success",
            "max": 20,
            "_view_module": "@jupyter-widgets/controls",
            "_model_module_version": "1.5.0",
            "value": 20,
            "_view_count": null,
            "_view_module_version": "1.5.0",
            "orientation": "horizontal",
            "min": 0,
            "description_tooltip": null,
            "_model_module": "@jupyter-widgets/controls",
            "layout": "IPY_MODEL_0feedc8458cd4f8a98717959b7fbb72a"
          }
        },
        "202a4dc07f174230ae7767b7ea1ec289": {
          "model_module": "@jupyter-widgets/controls",
          "model_name": "HTMLModel",
          "state": {
            "_view_name": "HTMLView",
            "style": "IPY_MODEL_8bc6b2cdf35344be90a248549855b747",
            "_dom_classes": [],
            "description": "",
            "_model_name": "HTMLModel",
            "placeholder": "​",
            "_view_module": "@jupyter-widgets/controls",
            "_model_module_version": "1.5.0",
            "value": " 20/20 [00:01&lt;00:00, 11.57it/s]",
            "_view_count": null,
            "_view_module_version": "1.5.0",
            "description_tooltip": null,
            "_model_module": "@jupyter-widgets/controls",
            "layout": "IPY_MODEL_1a1974ee5f77474c836b1d0ad020c6c4"
          }
        },
        "d24841b88eea4f65b8e7564ca47b6125": {
          "model_module": "@jupyter-widgets/controls",
          "model_name": "ProgressStyleModel",
          "state": {
            "_view_name": "StyleView",
            "_model_name": "ProgressStyleModel",
            "description_width": "initial",
            "_view_module": "@jupyter-widgets/base",
            "_model_module_version": "1.5.0",
            "_view_count": null,
            "_view_module_version": "1.2.0",
            "bar_color": null,
            "_model_module": "@jupyter-widgets/controls"
          }
        },
        "0feedc8458cd4f8a98717959b7fbb72a": {
          "model_module": "@jupyter-widgets/base",
          "model_name": "LayoutModel",
          "state": {
            "_view_name": "LayoutView",
            "grid_template_rows": null,
            "right": null,
            "justify_content": null,
            "_view_module": "@jupyter-widgets/base",
            "overflow": null,
            "_model_module_version": "1.2.0",
            "_view_count": null,
            "flex_flow": null,
            "width": null,
            "min_width": null,
            "border": null,
            "align_items": null,
            "bottom": null,
            "_model_module": "@jupyter-widgets/base",
            "top": null,
            "grid_column": null,
            "overflow_y": null,
            "overflow_x": null,
            "grid_auto_flow": null,
            "grid_area": null,
            "grid_template_columns": null,
            "flex": null,
            "_model_name": "LayoutModel",
            "justify_items": null,
            "grid_row": null,
            "max_height": null,
            "align_content": null,
            "visibility": null,
            "align_self": null,
            "height": null,
            "min_height": null,
            "padding": null,
            "grid_auto_rows": null,
            "grid_gap": null,
            "max_width": null,
            "order": null,
            "_view_module_version": "1.2.0",
            "grid_template_areas": null,
            "object_position": null,
            "object_fit": null,
            "grid_auto_columns": null,
            "margin": null,
            "display": null,
            "left": null
          }
        },
        "8bc6b2cdf35344be90a248549855b747": {
          "model_module": "@jupyter-widgets/controls",
          "model_name": "DescriptionStyleModel",
          "state": {
            "_view_name": "StyleView",
            "_model_name": "DescriptionStyleModel",
            "description_width": "",
            "_view_module": "@jupyter-widgets/base",
            "_model_module_version": "1.5.0",
            "_view_count": null,
            "_view_module_version": "1.2.0",
            "_model_module": "@jupyter-widgets/controls"
          }
        },
        "1a1974ee5f77474c836b1d0ad020c6c4": {
          "model_module": "@jupyter-widgets/base",
          "model_name": "LayoutModel",
          "state": {
            "_view_name": "LayoutView",
            "grid_template_rows": null,
            "right": null,
            "justify_content": null,
            "_view_module": "@jupyter-widgets/base",
            "overflow": null,
            "_model_module_version": "1.2.0",
            "_view_count": null,
            "flex_flow": null,
            "width": null,
            "min_width": null,
            "border": null,
            "align_items": null,
            "bottom": null,
            "_model_module": "@jupyter-widgets/base",
            "top": null,
            "grid_column": null,
            "overflow_y": null,
            "overflow_x": null,
            "grid_auto_flow": null,
            "grid_area": null,
            "grid_template_columns": null,
            "flex": null,
            "_model_name": "LayoutModel",
            "justify_items": null,
            "grid_row": null,
            "max_height": null,
            "align_content": null,
            "visibility": null,
            "align_self": null,
            "height": null,
            "min_height": null,
            "padding": null,
            "grid_auto_rows": null,
            "grid_gap": null,
            "max_width": null,
            "order": null,
            "_view_module_version": "1.2.0",
            "grid_template_areas": null,
            "object_position": null,
            "object_fit": null,
            "grid_auto_columns": null,
            "margin": null,
            "display": null,
            "left": null
          }
        },
        "093a531cac6f4a40be932d9a489f21f9": {
          "model_module": "@jupyter-widgets/controls",
          "model_name": "HBoxModel",
          "state": {
            "_view_name": "HBoxView",
            "_dom_classes": [],
            "_model_name": "HBoxModel",
            "_view_module": "@jupyter-widgets/controls",
            "_model_module_version": "1.5.0",
            "_view_count": null,
            "_view_module_version": "1.5.0",
            "box_style": "",
            "layout": "IPY_MODEL_3c4d1f5ed0a446e28f75968758e92feb",
            "_model_module": "@jupyter-widgets/controls",
            "children": [
              "IPY_MODEL_feeaecd991d24e68a2d24119cbeacf74",
              "IPY_MODEL_35c1a32d8f0f410696bd9e4b32c9a9a6"
            ]
          }
        },
        "3c4d1f5ed0a446e28f75968758e92feb": {
          "model_module": "@jupyter-widgets/base",
          "model_name": "LayoutModel",
          "state": {
            "_view_name": "LayoutView",
            "grid_template_rows": null,
            "right": null,
            "justify_content": null,
            "_view_module": "@jupyter-widgets/base",
            "overflow": null,
            "_model_module_version": "1.2.0",
            "_view_count": null,
            "flex_flow": null,
            "width": null,
            "min_width": null,
            "border": null,
            "align_items": null,
            "bottom": null,
            "_model_module": "@jupyter-widgets/base",
            "top": null,
            "grid_column": null,
            "overflow_y": null,
            "overflow_x": null,
            "grid_auto_flow": null,
            "grid_area": null,
            "grid_template_columns": null,
            "flex": null,
            "_model_name": "LayoutModel",
            "justify_items": null,
            "grid_row": null,
            "max_height": null,
            "align_content": null,
            "visibility": null,
            "align_self": null,
            "height": null,
            "min_height": null,
            "padding": null,
            "grid_auto_rows": null,
            "grid_gap": null,
            "max_width": null,
            "order": null,
            "_view_module_version": "1.2.0",
            "grid_template_areas": null,
            "object_position": null,
            "object_fit": null,
            "grid_auto_columns": null,
            "margin": null,
            "display": null,
            "left": null
          }
        },
        "feeaecd991d24e68a2d24119cbeacf74": {
          "model_module": "@jupyter-widgets/controls",
          "model_name": "FloatProgressModel",
          "state": {
            "_view_name": "ProgressView",
            "style": "IPY_MODEL_52ff5f4276274d8c8d7b79b7f6a587bb",
            "_dom_classes": [],
            "description": "100%",
            "_model_name": "FloatProgressModel",
            "bar_style": "success",
            "max": 20,
            "_view_module": "@jupyter-widgets/controls",
            "_model_module_version": "1.5.0",
            "value": 20,
            "_view_count": null,
            "_view_module_version": "1.5.0",
            "orientation": "horizontal",
            "min": 0,
            "description_tooltip": null,
            "_model_module": "@jupyter-widgets/controls",
            "layout": "IPY_MODEL_f0f4229ccd8c454186cab631e5cfae42"
          }
        },
        "35c1a32d8f0f410696bd9e4b32c9a9a6": {
          "model_module": "@jupyter-widgets/controls",
          "model_name": "HTMLModel",
          "state": {
            "_view_name": "HTMLView",
            "style": "IPY_MODEL_a8599927a3394c829c537719435b3c9d",
            "_dom_classes": [],
            "description": "",
            "_model_name": "HTMLModel",
            "placeholder": "​",
            "_view_module": "@jupyter-widgets/controls",
            "_model_module_version": "1.5.0",
            "value": " 20/20 [00:01&lt;00:00, 17.27it/s]",
            "_view_count": null,
            "_view_module_version": "1.5.0",
            "description_tooltip": null,
            "_model_module": "@jupyter-widgets/controls",
            "layout": "IPY_MODEL_74830e879d704b0da73f70c6d970b054"
          }
        },
        "52ff5f4276274d8c8d7b79b7f6a587bb": {
          "model_module": "@jupyter-widgets/controls",
          "model_name": "ProgressStyleModel",
          "state": {
            "_view_name": "StyleView",
            "_model_name": "ProgressStyleModel",
            "description_width": "initial",
            "_view_module": "@jupyter-widgets/base",
            "_model_module_version": "1.5.0",
            "_view_count": null,
            "_view_module_version": "1.2.0",
            "bar_color": null,
            "_model_module": "@jupyter-widgets/controls"
          }
        },
        "f0f4229ccd8c454186cab631e5cfae42": {
          "model_module": "@jupyter-widgets/base",
          "model_name": "LayoutModel",
          "state": {
            "_view_name": "LayoutView",
            "grid_template_rows": null,
            "right": null,
            "justify_content": null,
            "_view_module": "@jupyter-widgets/base",
            "overflow": null,
            "_model_module_version": "1.2.0",
            "_view_count": null,
            "flex_flow": null,
            "width": null,
            "min_width": null,
            "border": null,
            "align_items": null,
            "bottom": null,
            "_model_module": "@jupyter-widgets/base",
            "top": null,
            "grid_column": null,
            "overflow_y": null,
            "overflow_x": null,
            "grid_auto_flow": null,
            "grid_area": null,
            "grid_template_columns": null,
            "flex": null,
            "_model_name": "LayoutModel",
            "justify_items": null,
            "grid_row": null,
            "max_height": null,
            "align_content": null,
            "visibility": null,
            "align_self": null,
            "height": null,
            "min_height": null,
            "padding": null,
            "grid_auto_rows": null,
            "grid_gap": null,
            "max_width": null,
            "order": null,
            "_view_module_version": "1.2.0",
            "grid_template_areas": null,
            "object_position": null,
            "object_fit": null,
            "grid_auto_columns": null,
            "margin": null,
            "display": null,
            "left": null
          }
        },
        "a8599927a3394c829c537719435b3c9d": {
          "model_module": "@jupyter-widgets/controls",
          "model_name": "DescriptionStyleModel",
          "state": {
            "_view_name": "StyleView",
            "_model_name": "DescriptionStyleModel",
            "description_width": "",
            "_view_module": "@jupyter-widgets/base",
            "_model_module_version": "1.5.0",
            "_view_count": null,
            "_view_module_version": "1.2.0",
            "_model_module": "@jupyter-widgets/controls"
          }
        },
        "74830e879d704b0da73f70c6d970b054": {
          "model_module": "@jupyter-widgets/base",
          "model_name": "LayoutModel",
          "state": {
            "_view_name": "LayoutView",
            "grid_template_rows": null,
            "right": null,
            "justify_content": null,
            "_view_module": "@jupyter-widgets/base",
            "overflow": null,
            "_model_module_version": "1.2.0",
            "_view_count": null,
            "flex_flow": null,
            "width": null,
            "min_width": null,
            "border": null,
            "align_items": null,
            "bottom": null,
            "_model_module": "@jupyter-widgets/base",
            "top": null,
            "grid_column": null,
            "overflow_y": null,
            "overflow_x": null,
            "grid_auto_flow": null,
            "grid_area": null,
            "grid_template_columns": null,
            "flex": null,
            "_model_name": "LayoutModel",
            "justify_items": null,
            "grid_row": null,
            "max_height": null,
            "align_content": null,
            "visibility": null,
            "align_self": null,
            "height": null,
            "min_height": null,
            "padding": null,
            "grid_auto_rows": null,
            "grid_gap": null,
            "max_width": null,
            "order": null,
            "_view_module_version": "1.2.0",
            "grid_template_areas": null,
            "object_position": null,
            "object_fit": null,
            "grid_auto_columns": null,
            "margin": null,
            "display": null,
            "left": null
          }
        },
        "9e244f6b391545788ff53db284d2f7ba": {
          "model_module": "@jupyter-widgets/controls",
          "model_name": "HBoxModel",
          "state": {
            "_view_name": "HBoxView",
            "_dom_classes": [],
            "_model_name": "HBoxModel",
            "_view_module": "@jupyter-widgets/controls",
            "_model_module_version": "1.5.0",
            "_view_count": null,
            "_view_module_version": "1.5.0",
            "box_style": "",
            "layout": "IPY_MODEL_9277c6cd751c4494872248b3daa60d13",
            "_model_module": "@jupyter-widgets/controls",
            "children": [
              "IPY_MODEL_6bb147e970c44d26aec82483067f5821",
              "IPY_MODEL_31efb83f693c407ab6a9ef0fc4cc933c"
            ]
          }
        },
        "9277c6cd751c4494872248b3daa60d13": {
          "model_module": "@jupyter-widgets/base",
          "model_name": "LayoutModel",
          "state": {
            "_view_name": "LayoutView",
            "grid_template_rows": null,
            "right": null,
            "justify_content": null,
            "_view_module": "@jupyter-widgets/base",
            "overflow": null,
            "_model_module_version": "1.2.0",
            "_view_count": null,
            "flex_flow": null,
            "width": null,
            "min_width": null,
            "border": null,
            "align_items": null,
            "bottom": null,
            "_model_module": "@jupyter-widgets/base",
            "top": null,
            "grid_column": null,
            "overflow_y": null,
            "overflow_x": null,
            "grid_auto_flow": null,
            "grid_area": null,
            "grid_template_columns": null,
            "flex": null,
            "_model_name": "LayoutModel",
            "justify_items": null,
            "grid_row": null,
            "max_height": null,
            "align_content": null,
            "visibility": null,
            "align_self": null,
            "height": null,
            "min_height": null,
            "padding": null,
            "grid_auto_rows": null,
            "grid_gap": null,
            "max_width": null,
            "order": null,
            "_view_module_version": "1.2.0",
            "grid_template_areas": null,
            "object_position": null,
            "object_fit": null,
            "grid_auto_columns": null,
            "margin": null,
            "display": null,
            "left": null
          }
        },
        "6bb147e970c44d26aec82483067f5821": {
          "model_module": "@jupyter-widgets/controls",
          "model_name": "FloatProgressModel",
          "state": {
            "_view_name": "ProgressView",
            "style": "IPY_MODEL_5810b265e3c041a8885c55a2593af20c",
            "_dom_classes": [],
            "description": "100%",
            "_model_name": "FloatProgressModel",
            "bar_style": "success",
            "max": 20,
            "_view_module": "@jupyter-widgets/controls",
            "_model_module_version": "1.5.0",
            "value": 20,
            "_view_count": null,
            "_view_module_version": "1.5.0",
            "orientation": "horizontal",
            "min": 0,
            "description_tooltip": null,
            "_model_module": "@jupyter-widgets/controls",
            "layout": "IPY_MODEL_19ab36a4c3504496b9e68c80cf779704"
          }
        },
        "31efb83f693c407ab6a9ef0fc4cc933c": {
          "model_module": "@jupyter-widgets/controls",
          "model_name": "HTMLModel",
          "state": {
            "_view_name": "HTMLView",
            "style": "IPY_MODEL_ace62d8cc155426db2ee732d226caa0a",
            "_dom_classes": [],
            "description": "",
            "_model_name": "HTMLModel",
            "placeholder": "​",
            "_view_module": "@jupyter-widgets/controls",
            "_model_module_version": "1.5.0",
            "value": " 20/20 [00:00&lt;00:00, 34.30it/s]",
            "_view_count": null,
            "_view_module_version": "1.5.0",
            "description_tooltip": null,
            "_model_module": "@jupyter-widgets/controls",
            "layout": "IPY_MODEL_d63826c4936649d2a2f8fd3b45532bd8"
          }
        },
        "5810b265e3c041a8885c55a2593af20c": {
          "model_module": "@jupyter-widgets/controls",
          "model_name": "ProgressStyleModel",
          "state": {
            "_view_name": "StyleView",
            "_model_name": "ProgressStyleModel",
            "description_width": "initial",
            "_view_module": "@jupyter-widgets/base",
            "_model_module_version": "1.5.0",
            "_view_count": null,
            "_view_module_version": "1.2.0",
            "bar_color": null,
            "_model_module": "@jupyter-widgets/controls"
          }
        },
        "19ab36a4c3504496b9e68c80cf779704": {
          "model_module": "@jupyter-widgets/base",
          "model_name": "LayoutModel",
          "state": {
            "_view_name": "LayoutView",
            "grid_template_rows": null,
            "right": null,
            "justify_content": null,
            "_view_module": "@jupyter-widgets/base",
            "overflow": null,
            "_model_module_version": "1.2.0",
            "_view_count": null,
            "flex_flow": null,
            "width": null,
            "min_width": null,
            "border": null,
            "align_items": null,
            "bottom": null,
            "_model_module": "@jupyter-widgets/base",
            "top": null,
            "grid_column": null,
            "overflow_y": null,
            "overflow_x": null,
            "grid_auto_flow": null,
            "grid_area": null,
            "grid_template_columns": null,
            "flex": null,
            "_model_name": "LayoutModel",
            "justify_items": null,
            "grid_row": null,
            "max_height": null,
            "align_content": null,
            "visibility": null,
            "align_self": null,
            "height": null,
            "min_height": null,
            "padding": null,
            "grid_auto_rows": null,
            "grid_gap": null,
            "max_width": null,
            "order": null,
            "_view_module_version": "1.2.0",
            "grid_template_areas": null,
            "object_position": null,
            "object_fit": null,
            "grid_auto_columns": null,
            "margin": null,
            "display": null,
            "left": null
          }
        },
        "ace62d8cc155426db2ee732d226caa0a": {
          "model_module": "@jupyter-widgets/controls",
          "model_name": "DescriptionStyleModel",
          "state": {
            "_view_name": "StyleView",
            "_model_name": "DescriptionStyleModel",
            "description_width": "",
            "_view_module": "@jupyter-widgets/base",
            "_model_module_version": "1.5.0",
            "_view_count": null,
            "_view_module_version": "1.2.0",
            "_model_module": "@jupyter-widgets/controls"
          }
        },
        "d63826c4936649d2a2f8fd3b45532bd8": {
          "model_module": "@jupyter-widgets/base",
          "model_name": "LayoutModel",
          "state": {
            "_view_name": "LayoutView",
            "grid_template_rows": null,
            "right": null,
            "justify_content": null,
            "_view_module": "@jupyter-widgets/base",
            "overflow": null,
            "_model_module_version": "1.2.0",
            "_view_count": null,
            "flex_flow": null,
            "width": null,
            "min_width": null,
            "border": null,
            "align_items": null,
            "bottom": null,
            "_model_module": "@jupyter-widgets/base",
            "top": null,
            "grid_column": null,
            "overflow_y": null,
            "overflow_x": null,
            "grid_auto_flow": null,
            "grid_area": null,
            "grid_template_columns": null,
            "flex": null,
            "_model_name": "LayoutModel",
            "justify_items": null,
            "grid_row": null,
            "max_height": null,
            "align_content": null,
            "visibility": null,
            "align_self": null,
            "height": null,
            "min_height": null,
            "padding": null,
            "grid_auto_rows": null,
            "grid_gap": null,
            "max_width": null,
            "order": null,
            "_view_module_version": "1.2.0",
            "grid_template_areas": null,
            "object_position": null,
            "object_fit": null,
            "grid_auto_columns": null,
            "margin": null,
            "display": null,
            "left": null
          }
        },
        "86d603793e3d4a39aec6351878d2670d": {
          "model_module": "@jupyter-widgets/controls",
          "model_name": "HBoxModel",
          "state": {
            "_view_name": "HBoxView",
            "_dom_classes": [],
            "_model_name": "HBoxModel",
            "_view_module": "@jupyter-widgets/controls",
            "_model_module_version": "1.5.0",
            "_view_count": null,
            "_view_module_version": "1.5.0",
            "box_style": "",
            "layout": "IPY_MODEL_9f87cdc5bb9a4654b8152faf0435aad6",
            "_model_module": "@jupyter-widgets/controls",
            "children": [
              "IPY_MODEL_dfe98044171740579b8293e0b90477a2",
              "IPY_MODEL_6c2c659dba93479bb9f579b9dd6ddba0"
            ]
          }
        },
        "9f87cdc5bb9a4654b8152faf0435aad6": {
          "model_module": "@jupyter-widgets/base",
          "model_name": "LayoutModel",
          "state": {
            "_view_name": "LayoutView",
            "grid_template_rows": null,
            "right": null,
            "justify_content": null,
            "_view_module": "@jupyter-widgets/base",
            "overflow": null,
            "_model_module_version": "1.2.0",
            "_view_count": null,
            "flex_flow": null,
            "width": null,
            "min_width": null,
            "border": null,
            "align_items": null,
            "bottom": null,
            "_model_module": "@jupyter-widgets/base",
            "top": null,
            "grid_column": null,
            "overflow_y": null,
            "overflow_x": null,
            "grid_auto_flow": null,
            "grid_area": null,
            "grid_template_columns": null,
            "flex": null,
            "_model_name": "LayoutModel",
            "justify_items": null,
            "grid_row": null,
            "max_height": null,
            "align_content": null,
            "visibility": null,
            "align_self": null,
            "height": null,
            "min_height": null,
            "padding": null,
            "grid_auto_rows": null,
            "grid_gap": null,
            "max_width": null,
            "order": null,
            "_view_module_version": "1.2.0",
            "grid_template_areas": null,
            "object_position": null,
            "object_fit": null,
            "grid_auto_columns": null,
            "margin": null,
            "display": null,
            "left": null
          }
        },
        "dfe98044171740579b8293e0b90477a2": {
          "model_module": "@jupyter-widgets/controls",
          "model_name": "FloatProgressModel",
          "state": {
            "_view_name": "ProgressView",
            "style": "IPY_MODEL_7fb07bf59f344c9bb49394d0ac12ca46",
            "_dom_classes": [],
            "description": "100%",
            "_model_name": "FloatProgressModel",
            "bar_style": "success",
            "max": 20,
            "_view_module": "@jupyter-widgets/controls",
            "_model_module_version": "1.5.0",
            "value": 20,
            "_view_count": null,
            "_view_module_version": "1.5.0",
            "orientation": "horizontal",
            "min": 0,
            "description_tooltip": null,
            "_model_module": "@jupyter-widgets/controls",
            "layout": "IPY_MODEL_666aa4d6f14e46bcb25092efd453f9e9"
          }
        },
        "6c2c659dba93479bb9f579b9dd6ddba0": {
          "model_module": "@jupyter-widgets/controls",
          "model_name": "HTMLModel",
          "state": {
            "_view_name": "HTMLView",
            "style": "IPY_MODEL_33f33a67deae4cae892dc465c9e68b61",
            "_dom_classes": [],
            "description": "",
            "_model_name": "HTMLModel",
            "placeholder": "​",
            "_view_module": "@jupyter-widgets/controls",
            "_model_module_version": "1.5.0",
            "value": " 20/20 [00:00&lt;00:00, 34.39it/s]",
            "_view_count": null,
            "_view_module_version": "1.5.0",
            "description_tooltip": null,
            "_model_module": "@jupyter-widgets/controls",
            "layout": "IPY_MODEL_7bfbafffadcc4ae3b2cd5df9e3b80e36"
          }
        },
        "7fb07bf59f344c9bb49394d0ac12ca46": {
          "model_module": "@jupyter-widgets/controls",
          "model_name": "ProgressStyleModel",
          "state": {
            "_view_name": "StyleView",
            "_model_name": "ProgressStyleModel",
            "description_width": "initial",
            "_view_module": "@jupyter-widgets/base",
            "_model_module_version": "1.5.0",
            "_view_count": null,
            "_view_module_version": "1.2.0",
            "bar_color": null,
            "_model_module": "@jupyter-widgets/controls"
          }
        },
        "666aa4d6f14e46bcb25092efd453f9e9": {
          "model_module": "@jupyter-widgets/base",
          "model_name": "LayoutModel",
          "state": {
            "_view_name": "LayoutView",
            "grid_template_rows": null,
            "right": null,
            "justify_content": null,
            "_view_module": "@jupyter-widgets/base",
            "overflow": null,
            "_model_module_version": "1.2.0",
            "_view_count": null,
            "flex_flow": null,
            "width": null,
            "min_width": null,
            "border": null,
            "align_items": null,
            "bottom": null,
            "_model_module": "@jupyter-widgets/base",
            "top": null,
            "grid_column": null,
            "overflow_y": null,
            "overflow_x": null,
            "grid_auto_flow": null,
            "grid_area": null,
            "grid_template_columns": null,
            "flex": null,
            "_model_name": "LayoutModel",
            "justify_items": null,
            "grid_row": null,
            "max_height": null,
            "align_content": null,
            "visibility": null,
            "align_self": null,
            "height": null,
            "min_height": null,
            "padding": null,
            "grid_auto_rows": null,
            "grid_gap": null,
            "max_width": null,
            "order": null,
            "_view_module_version": "1.2.0",
            "grid_template_areas": null,
            "object_position": null,
            "object_fit": null,
            "grid_auto_columns": null,
            "margin": null,
            "display": null,
            "left": null
          }
        },
        "33f33a67deae4cae892dc465c9e68b61": {
          "model_module": "@jupyter-widgets/controls",
          "model_name": "DescriptionStyleModel",
          "state": {
            "_view_name": "StyleView",
            "_model_name": "DescriptionStyleModel",
            "description_width": "",
            "_view_module": "@jupyter-widgets/base",
            "_model_module_version": "1.5.0",
            "_view_count": null,
            "_view_module_version": "1.2.0",
            "_model_module": "@jupyter-widgets/controls"
          }
        },
        "7bfbafffadcc4ae3b2cd5df9e3b80e36": {
          "model_module": "@jupyter-widgets/base",
          "model_name": "LayoutModel",
          "state": {
            "_view_name": "LayoutView",
            "grid_template_rows": null,
            "right": null,
            "justify_content": null,
            "_view_module": "@jupyter-widgets/base",
            "overflow": null,
            "_model_module_version": "1.2.0",
            "_view_count": null,
            "flex_flow": null,
            "width": null,
            "min_width": null,
            "border": null,
            "align_items": null,
            "bottom": null,
            "_model_module": "@jupyter-widgets/base",
            "top": null,
            "grid_column": null,
            "overflow_y": null,
            "overflow_x": null,
            "grid_auto_flow": null,
            "grid_area": null,
            "grid_template_columns": null,
            "flex": null,
            "_model_name": "LayoutModel",
            "justify_items": null,
            "grid_row": null,
            "max_height": null,
            "align_content": null,
            "visibility": null,
            "align_self": null,
            "height": null,
            "min_height": null,
            "padding": null,
            "grid_auto_rows": null,
            "grid_gap": null,
            "max_width": null,
            "order": null,
            "_view_module_version": "1.2.0",
            "grid_template_areas": null,
            "object_position": null,
            "object_fit": null,
            "grid_auto_columns": null,
            "margin": null,
            "display": null,
            "left": null
          }
        },
        "b8294072c6984968ae5c361352dc8a1e": {
          "model_module": "@jupyter-widgets/controls",
          "model_name": "HBoxModel",
          "state": {
            "_view_name": "HBoxView",
            "_dom_classes": [],
            "_model_name": "HBoxModel",
            "_view_module": "@jupyter-widgets/controls",
            "_model_module_version": "1.5.0",
            "_view_count": null,
            "_view_module_version": "1.5.0",
            "box_style": "",
            "layout": "IPY_MODEL_bce6ce553cdf41f68874ef53d372f44b",
            "_model_module": "@jupyter-widgets/controls",
            "children": [
              "IPY_MODEL_6bf88606acb5445198540f5ef380f8a3",
              "IPY_MODEL_d41a8b993bd143f9b32ea778521eafe5"
            ]
          }
        },
        "bce6ce553cdf41f68874ef53d372f44b": {
          "model_module": "@jupyter-widgets/base",
          "model_name": "LayoutModel",
          "state": {
            "_view_name": "LayoutView",
            "grid_template_rows": null,
            "right": null,
            "justify_content": null,
            "_view_module": "@jupyter-widgets/base",
            "overflow": null,
            "_model_module_version": "1.2.0",
            "_view_count": null,
            "flex_flow": null,
            "width": null,
            "min_width": null,
            "border": null,
            "align_items": null,
            "bottom": null,
            "_model_module": "@jupyter-widgets/base",
            "top": null,
            "grid_column": null,
            "overflow_y": null,
            "overflow_x": null,
            "grid_auto_flow": null,
            "grid_area": null,
            "grid_template_columns": null,
            "flex": null,
            "_model_name": "LayoutModel",
            "justify_items": null,
            "grid_row": null,
            "max_height": null,
            "align_content": null,
            "visibility": null,
            "align_self": null,
            "height": null,
            "min_height": null,
            "padding": null,
            "grid_auto_rows": null,
            "grid_gap": null,
            "max_width": null,
            "order": null,
            "_view_module_version": "1.2.0",
            "grid_template_areas": null,
            "object_position": null,
            "object_fit": null,
            "grid_auto_columns": null,
            "margin": null,
            "display": null,
            "left": null
          }
        },
        "6bf88606acb5445198540f5ef380f8a3": {
          "model_module": "@jupyter-widgets/controls",
          "model_name": "FloatProgressModel",
          "state": {
            "_view_name": "ProgressView",
            "style": "IPY_MODEL_e7ea5f84d1394c2b9d914da3d58327e9",
            "_dom_classes": [],
            "description": "100%",
            "_model_name": "FloatProgressModel",
            "bar_style": "success",
            "max": 20,
            "_view_module": "@jupyter-widgets/controls",
            "_model_module_version": "1.5.0",
            "value": 20,
            "_view_count": null,
            "_view_module_version": "1.5.0",
            "orientation": "horizontal",
            "min": 0,
            "description_tooltip": null,
            "_model_module": "@jupyter-widgets/controls",
            "layout": "IPY_MODEL_8101e4f4d7c5427c8774f598b2a35668"
          }
        },
        "d41a8b993bd143f9b32ea778521eafe5": {
          "model_module": "@jupyter-widgets/controls",
          "model_name": "HTMLModel",
          "state": {
            "_view_name": "HTMLView",
            "style": "IPY_MODEL_2ab265c0a4cd4ab594d1ff4707b2fc2b",
            "_dom_classes": [],
            "description": "",
            "_model_name": "HTMLModel",
            "placeholder": "​",
            "_view_module": "@jupyter-widgets/controls",
            "_model_module_version": "1.5.0",
            "value": " 20/20 [00:02&lt;00:00,  8.88it/s]",
            "_view_count": null,
            "_view_module_version": "1.5.0",
            "description_tooltip": null,
            "_model_module": "@jupyter-widgets/controls",
            "layout": "IPY_MODEL_e1398d5260f547f5b789930b7d749e1e"
          }
        },
        "e7ea5f84d1394c2b9d914da3d58327e9": {
          "model_module": "@jupyter-widgets/controls",
          "model_name": "ProgressStyleModel",
          "state": {
            "_view_name": "StyleView",
            "_model_name": "ProgressStyleModel",
            "description_width": "initial",
            "_view_module": "@jupyter-widgets/base",
            "_model_module_version": "1.5.0",
            "_view_count": null,
            "_view_module_version": "1.2.0",
            "bar_color": null,
            "_model_module": "@jupyter-widgets/controls"
          }
        },
        "8101e4f4d7c5427c8774f598b2a35668": {
          "model_module": "@jupyter-widgets/base",
          "model_name": "LayoutModel",
          "state": {
            "_view_name": "LayoutView",
            "grid_template_rows": null,
            "right": null,
            "justify_content": null,
            "_view_module": "@jupyter-widgets/base",
            "overflow": null,
            "_model_module_version": "1.2.0",
            "_view_count": null,
            "flex_flow": null,
            "width": null,
            "min_width": null,
            "border": null,
            "align_items": null,
            "bottom": null,
            "_model_module": "@jupyter-widgets/base",
            "top": null,
            "grid_column": null,
            "overflow_y": null,
            "overflow_x": null,
            "grid_auto_flow": null,
            "grid_area": null,
            "grid_template_columns": null,
            "flex": null,
            "_model_name": "LayoutModel",
            "justify_items": null,
            "grid_row": null,
            "max_height": null,
            "align_content": null,
            "visibility": null,
            "align_self": null,
            "height": null,
            "min_height": null,
            "padding": null,
            "grid_auto_rows": null,
            "grid_gap": null,
            "max_width": null,
            "order": null,
            "_view_module_version": "1.2.0",
            "grid_template_areas": null,
            "object_position": null,
            "object_fit": null,
            "grid_auto_columns": null,
            "margin": null,
            "display": null,
            "left": null
          }
        },
        "2ab265c0a4cd4ab594d1ff4707b2fc2b": {
          "model_module": "@jupyter-widgets/controls",
          "model_name": "DescriptionStyleModel",
          "state": {
            "_view_name": "StyleView",
            "_model_name": "DescriptionStyleModel",
            "description_width": "",
            "_view_module": "@jupyter-widgets/base",
            "_model_module_version": "1.5.0",
            "_view_count": null,
            "_view_module_version": "1.2.0",
            "_model_module": "@jupyter-widgets/controls"
          }
        },
        "e1398d5260f547f5b789930b7d749e1e": {
          "model_module": "@jupyter-widgets/base",
          "model_name": "LayoutModel",
          "state": {
            "_view_name": "LayoutView",
            "grid_template_rows": null,
            "right": null,
            "justify_content": null,
            "_view_module": "@jupyter-widgets/base",
            "overflow": null,
            "_model_module_version": "1.2.0",
            "_view_count": null,
            "flex_flow": null,
            "width": null,
            "min_width": null,
            "border": null,
            "align_items": null,
            "bottom": null,
            "_model_module": "@jupyter-widgets/base",
            "top": null,
            "grid_column": null,
            "overflow_y": null,
            "overflow_x": null,
            "grid_auto_flow": null,
            "grid_area": null,
            "grid_template_columns": null,
            "flex": null,
            "_model_name": "LayoutModel",
            "justify_items": null,
            "grid_row": null,
            "max_height": null,
            "align_content": null,
            "visibility": null,
            "align_self": null,
            "height": null,
            "min_height": null,
            "padding": null,
            "grid_auto_rows": null,
            "grid_gap": null,
            "max_width": null,
            "order": null,
            "_view_module_version": "1.2.0",
            "grid_template_areas": null,
            "object_position": null,
            "object_fit": null,
            "grid_auto_columns": null,
            "margin": null,
            "display": null,
            "left": null
          }
        },
        "ef597bffbc6e4e5eba6e3477fe09f966": {
          "model_module": "@jupyter-widgets/controls",
          "model_name": "HBoxModel",
          "state": {
            "_view_name": "HBoxView",
            "_dom_classes": [],
            "_model_name": "HBoxModel",
            "_view_module": "@jupyter-widgets/controls",
            "_model_module_version": "1.5.0",
            "_view_count": null,
            "_view_module_version": "1.5.0",
            "box_style": "",
            "layout": "IPY_MODEL_765b7f81de7245998827624909ff1cb7",
            "_model_module": "@jupyter-widgets/controls",
            "children": [
              "IPY_MODEL_26c0cadc821b40659528a35defae82d3",
              "IPY_MODEL_61adb6450d74466a8cde6dd9ec19efdf"
            ]
          }
        },
        "765b7f81de7245998827624909ff1cb7": {
          "model_module": "@jupyter-widgets/base",
          "model_name": "LayoutModel",
          "state": {
            "_view_name": "LayoutView",
            "grid_template_rows": null,
            "right": null,
            "justify_content": null,
            "_view_module": "@jupyter-widgets/base",
            "overflow": null,
            "_model_module_version": "1.2.0",
            "_view_count": null,
            "flex_flow": null,
            "width": null,
            "min_width": null,
            "border": null,
            "align_items": null,
            "bottom": null,
            "_model_module": "@jupyter-widgets/base",
            "top": null,
            "grid_column": null,
            "overflow_y": null,
            "overflow_x": null,
            "grid_auto_flow": null,
            "grid_area": null,
            "grid_template_columns": null,
            "flex": null,
            "_model_name": "LayoutModel",
            "justify_items": null,
            "grid_row": null,
            "max_height": null,
            "align_content": null,
            "visibility": null,
            "align_self": null,
            "height": null,
            "min_height": null,
            "padding": null,
            "grid_auto_rows": null,
            "grid_gap": null,
            "max_width": null,
            "order": null,
            "_view_module_version": "1.2.0",
            "grid_template_areas": null,
            "object_position": null,
            "object_fit": null,
            "grid_auto_columns": null,
            "margin": null,
            "display": null,
            "left": null
          }
        },
        "26c0cadc821b40659528a35defae82d3": {
          "model_module": "@jupyter-widgets/controls",
          "model_name": "FloatProgressModel",
          "state": {
            "_view_name": "ProgressView",
            "style": "IPY_MODEL_9abfc7e98ddd4ecb84d1af745a8e728a",
            "_dom_classes": [],
            "description": "100%",
            "_model_name": "FloatProgressModel",
            "bar_style": "success",
            "max": 20,
            "_view_module": "@jupyter-widgets/controls",
            "_model_module_version": "1.5.0",
            "value": 20,
            "_view_count": null,
            "_view_module_version": "1.5.0",
            "orientation": "horizontal",
            "min": 0,
            "description_tooltip": null,
            "_model_module": "@jupyter-widgets/controls",
            "layout": "IPY_MODEL_7568aa687d834611a42d5ee91f64bcd6"
          }
        },
        "61adb6450d74466a8cde6dd9ec19efdf": {
          "model_module": "@jupyter-widgets/controls",
          "model_name": "HTMLModel",
          "state": {
            "_view_name": "HTMLView",
            "style": "IPY_MODEL_5b515d5437fc4033ae816fe6ad95f77f",
            "_dom_classes": [],
            "description": "",
            "_model_name": "HTMLModel",
            "placeholder": "​",
            "_view_module": "@jupyter-widgets/controls",
            "_model_module_version": "1.5.0",
            "value": " 20/20 [00:00&lt;00:00, 35.15it/s]",
            "_view_count": null,
            "_view_module_version": "1.5.0",
            "description_tooltip": null,
            "_model_module": "@jupyter-widgets/controls",
            "layout": "IPY_MODEL_3b8d91d59f61427eb89bdba291717ed9"
          }
        },
        "9abfc7e98ddd4ecb84d1af745a8e728a": {
          "model_module": "@jupyter-widgets/controls",
          "model_name": "ProgressStyleModel",
          "state": {
            "_view_name": "StyleView",
            "_model_name": "ProgressStyleModel",
            "description_width": "initial",
            "_view_module": "@jupyter-widgets/base",
            "_model_module_version": "1.5.0",
            "_view_count": null,
            "_view_module_version": "1.2.0",
            "bar_color": null,
            "_model_module": "@jupyter-widgets/controls"
          }
        },
        "7568aa687d834611a42d5ee91f64bcd6": {
          "model_module": "@jupyter-widgets/base",
          "model_name": "LayoutModel",
          "state": {
            "_view_name": "LayoutView",
            "grid_template_rows": null,
            "right": null,
            "justify_content": null,
            "_view_module": "@jupyter-widgets/base",
            "overflow": null,
            "_model_module_version": "1.2.0",
            "_view_count": null,
            "flex_flow": null,
            "width": null,
            "min_width": null,
            "border": null,
            "align_items": null,
            "bottom": null,
            "_model_module": "@jupyter-widgets/base",
            "top": null,
            "grid_column": null,
            "overflow_y": null,
            "overflow_x": null,
            "grid_auto_flow": null,
            "grid_area": null,
            "grid_template_columns": null,
            "flex": null,
            "_model_name": "LayoutModel",
            "justify_items": null,
            "grid_row": null,
            "max_height": null,
            "align_content": null,
            "visibility": null,
            "align_self": null,
            "height": null,
            "min_height": null,
            "padding": null,
            "grid_auto_rows": null,
            "grid_gap": null,
            "max_width": null,
            "order": null,
            "_view_module_version": "1.2.0",
            "grid_template_areas": null,
            "object_position": null,
            "object_fit": null,
            "grid_auto_columns": null,
            "margin": null,
            "display": null,
            "left": null
          }
        },
        "5b515d5437fc4033ae816fe6ad95f77f": {
          "model_module": "@jupyter-widgets/controls",
          "model_name": "DescriptionStyleModel",
          "state": {
            "_view_name": "StyleView",
            "_model_name": "DescriptionStyleModel",
            "description_width": "",
            "_view_module": "@jupyter-widgets/base",
            "_model_module_version": "1.5.0",
            "_view_count": null,
            "_view_module_version": "1.2.0",
            "_model_module": "@jupyter-widgets/controls"
          }
        },
        "3b8d91d59f61427eb89bdba291717ed9": {
          "model_module": "@jupyter-widgets/base",
          "model_name": "LayoutModel",
          "state": {
            "_view_name": "LayoutView",
            "grid_template_rows": null,
            "right": null,
            "justify_content": null,
            "_view_module": "@jupyter-widgets/base",
            "overflow": null,
            "_model_module_version": "1.2.0",
            "_view_count": null,
            "flex_flow": null,
            "width": null,
            "min_width": null,
            "border": null,
            "align_items": null,
            "bottom": null,
            "_model_module": "@jupyter-widgets/base",
            "top": null,
            "grid_column": null,
            "overflow_y": null,
            "overflow_x": null,
            "grid_auto_flow": null,
            "grid_area": null,
            "grid_template_columns": null,
            "flex": null,
            "_model_name": "LayoutModel",
            "justify_items": null,
            "grid_row": null,
            "max_height": null,
            "align_content": null,
            "visibility": null,
            "align_self": null,
            "height": null,
            "min_height": null,
            "padding": null,
            "grid_auto_rows": null,
            "grid_gap": null,
            "max_width": null,
            "order": null,
            "_view_module_version": "1.2.0",
            "grid_template_areas": null,
            "object_position": null,
            "object_fit": null,
            "grid_auto_columns": null,
            "margin": null,
            "display": null,
            "left": null
          }
        },
        "3ae6f777c68f4380a089353a80e940a8": {
          "model_module": "@jupyter-widgets/controls",
          "model_name": "HBoxModel",
          "state": {
            "_view_name": "HBoxView",
            "_dom_classes": [],
            "_model_name": "HBoxModel",
            "_view_module": "@jupyter-widgets/controls",
            "_model_module_version": "1.5.0",
            "_view_count": null,
            "_view_module_version": "1.5.0",
            "box_style": "",
            "layout": "IPY_MODEL_e280d6047df847b3aeb0103a6055825c",
            "_model_module": "@jupyter-widgets/controls",
            "children": [
              "IPY_MODEL_46c72d5c295c47d6bd269eca4756e7a1",
              "IPY_MODEL_decef55f172947d2accb0bed6a7f0529"
            ]
          }
        },
        "e280d6047df847b3aeb0103a6055825c": {
          "model_module": "@jupyter-widgets/base",
          "model_name": "LayoutModel",
          "state": {
            "_view_name": "LayoutView",
            "grid_template_rows": null,
            "right": null,
            "justify_content": null,
            "_view_module": "@jupyter-widgets/base",
            "overflow": null,
            "_model_module_version": "1.2.0",
            "_view_count": null,
            "flex_flow": null,
            "width": null,
            "min_width": null,
            "border": null,
            "align_items": null,
            "bottom": null,
            "_model_module": "@jupyter-widgets/base",
            "top": null,
            "grid_column": null,
            "overflow_y": null,
            "overflow_x": null,
            "grid_auto_flow": null,
            "grid_area": null,
            "grid_template_columns": null,
            "flex": null,
            "_model_name": "LayoutModel",
            "justify_items": null,
            "grid_row": null,
            "max_height": null,
            "align_content": null,
            "visibility": null,
            "align_self": null,
            "height": null,
            "min_height": null,
            "padding": null,
            "grid_auto_rows": null,
            "grid_gap": null,
            "max_width": null,
            "order": null,
            "_view_module_version": "1.2.0",
            "grid_template_areas": null,
            "object_position": null,
            "object_fit": null,
            "grid_auto_columns": null,
            "margin": null,
            "display": null,
            "left": null
          }
        },
        "46c72d5c295c47d6bd269eca4756e7a1": {
          "model_module": "@jupyter-widgets/controls",
          "model_name": "FloatProgressModel",
          "state": {
            "_view_name": "ProgressView",
            "style": "IPY_MODEL_287ac0f921ec4f9a84f529e34dcf7b2c",
            "_dom_classes": [],
            "description": "100%",
            "_model_name": "FloatProgressModel",
            "bar_style": "success",
            "max": 20,
            "_view_module": "@jupyter-widgets/controls",
            "_model_module_version": "1.5.0",
            "value": 20,
            "_view_count": null,
            "_view_module_version": "1.5.0",
            "orientation": "horizontal",
            "min": 0,
            "description_tooltip": null,
            "_model_module": "@jupyter-widgets/controls",
            "layout": "IPY_MODEL_09ce83a5ef974b41ba429ea2888de1e6"
          }
        },
        "decef55f172947d2accb0bed6a7f0529": {
          "model_module": "@jupyter-widgets/controls",
          "model_name": "HTMLModel",
          "state": {
            "_view_name": "HTMLView",
            "style": "IPY_MODEL_92fde44f94de47f98ecc3e7b083e742d",
            "_dom_classes": [],
            "description": "",
            "_model_name": "HTMLModel",
            "placeholder": "​",
            "_view_module": "@jupyter-widgets/controls",
            "_model_module_version": "1.5.0",
            "value": " 20/20 [00:01&lt;00:00, 17.94it/s]",
            "_view_count": null,
            "_view_module_version": "1.5.0",
            "description_tooltip": null,
            "_model_module": "@jupyter-widgets/controls",
            "layout": "IPY_MODEL_259dff154d734d46bff6d50dbcfa7a0f"
          }
        },
        "287ac0f921ec4f9a84f529e34dcf7b2c": {
          "model_module": "@jupyter-widgets/controls",
          "model_name": "ProgressStyleModel",
          "state": {
            "_view_name": "StyleView",
            "_model_name": "ProgressStyleModel",
            "description_width": "initial",
            "_view_module": "@jupyter-widgets/base",
            "_model_module_version": "1.5.0",
            "_view_count": null,
            "_view_module_version": "1.2.0",
            "bar_color": null,
            "_model_module": "@jupyter-widgets/controls"
          }
        },
        "09ce83a5ef974b41ba429ea2888de1e6": {
          "model_module": "@jupyter-widgets/base",
          "model_name": "LayoutModel",
          "state": {
            "_view_name": "LayoutView",
            "grid_template_rows": null,
            "right": null,
            "justify_content": null,
            "_view_module": "@jupyter-widgets/base",
            "overflow": null,
            "_model_module_version": "1.2.0",
            "_view_count": null,
            "flex_flow": null,
            "width": null,
            "min_width": null,
            "border": null,
            "align_items": null,
            "bottom": null,
            "_model_module": "@jupyter-widgets/base",
            "top": null,
            "grid_column": null,
            "overflow_y": null,
            "overflow_x": null,
            "grid_auto_flow": null,
            "grid_area": null,
            "grid_template_columns": null,
            "flex": null,
            "_model_name": "LayoutModel",
            "justify_items": null,
            "grid_row": null,
            "max_height": null,
            "align_content": null,
            "visibility": null,
            "align_self": null,
            "height": null,
            "min_height": null,
            "padding": null,
            "grid_auto_rows": null,
            "grid_gap": null,
            "max_width": null,
            "order": null,
            "_view_module_version": "1.2.0",
            "grid_template_areas": null,
            "object_position": null,
            "object_fit": null,
            "grid_auto_columns": null,
            "margin": null,
            "display": null,
            "left": null
          }
        },
        "92fde44f94de47f98ecc3e7b083e742d": {
          "model_module": "@jupyter-widgets/controls",
          "model_name": "DescriptionStyleModel",
          "state": {
            "_view_name": "StyleView",
            "_model_name": "DescriptionStyleModel",
            "description_width": "",
            "_view_module": "@jupyter-widgets/base",
            "_model_module_version": "1.5.0",
            "_view_count": null,
            "_view_module_version": "1.2.0",
            "_model_module": "@jupyter-widgets/controls"
          }
        },
        "259dff154d734d46bff6d50dbcfa7a0f": {
          "model_module": "@jupyter-widgets/base",
          "model_name": "LayoutModel",
          "state": {
            "_view_name": "LayoutView",
            "grid_template_rows": null,
            "right": null,
            "justify_content": null,
            "_view_module": "@jupyter-widgets/base",
            "overflow": null,
            "_model_module_version": "1.2.0",
            "_view_count": null,
            "flex_flow": null,
            "width": null,
            "min_width": null,
            "border": null,
            "align_items": null,
            "bottom": null,
            "_model_module": "@jupyter-widgets/base",
            "top": null,
            "grid_column": null,
            "overflow_y": null,
            "overflow_x": null,
            "grid_auto_flow": null,
            "grid_area": null,
            "grid_template_columns": null,
            "flex": null,
            "_model_name": "LayoutModel",
            "justify_items": null,
            "grid_row": null,
            "max_height": null,
            "align_content": null,
            "visibility": null,
            "align_self": null,
            "height": null,
            "min_height": null,
            "padding": null,
            "grid_auto_rows": null,
            "grid_gap": null,
            "max_width": null,
            "order": null,
            "_view_module_version": "1.2.0",
            "grid_template_areas": null,
            "object_position": null,
            "object_fit": null,
            "grid_auto_columns": null,
            "margin": null,
            "display": null,
            "left": null
          }
        },
        "f8afa3e473754b39a24913d37e7670f6": {
          "model_module": "@jupyter-widgets/controls",
          "model_name": "HBoxModel",
          "state": {
            "_view_name": "HBoxView",
            "_dom_classes": [],
            "_model_name": "HBoxModel",
            "_view_module": "@jupyter-widgets/controls",
            "_model_module_version": "1.5.0",
            "_view_count": null,
            "_view_module_version": "1.5.0",
            "box_style": "",
            "layout": "IPY_MODEL_b720f22dca594cc4b7d61f3e85e47d89",
            "_model_module": "@jupyter-widgets/controls",
            "children": [
              "IPY_MODEL_8932d53cf89348dcba17ce8c13175fa6",
              "IPY_MODEL_52ae0a782c4c4297b60e347276eaee5a"
            ]
          }
        },
        "b720f22dca594cc4b7d61f3e85e47d89": {
          "model_module": "@jupyter-widgets/base",
          "model_name": "LayoutModel",
          "state": {
            "_view_name": "LayoutView",
            "grid_template_rows": null,
            "right": null,
            "justify_content": null,
            "_view_module": "@jupyter-widgets/base",
            "overflow": null,
            "_model_module_version": "1.2.0",
            "_view_count": null,
            "flex_flow": null,
            "width": null,
            "min_width": null,
            "border": null,
            "align_items": null,
            "bottom": null,
            "_model_module": "@jupyter-widgets/base",
            "top": null,
            "grid_column": null,
            "overflow_y": null,
            "overflow_x": null,
            "grid_auto_flow": null,
            "grid_area": null,
            "grid_template_columns": null,
            "flex": null,
            "_model_name": "LayoutModel",
            "justify_items": null,
            "grid_row": null,
            "max_height": null,
            "align_content": null,
            "visibility": null,
            "align_self": null,
            "height": null,
            "min_height": null,
            "padding": null,
            "grid_auto_rows": null,
            "grid_gap": null,
            "max_width": null,
            "order": null,
            "_view_module_version": "1.2.0",
            "grid_template_areas": null,
            "object_position": null,
            "object_fit": null,
            "grid_auto_columns": null,
            "margin": null,
            "display": null,
            "left": null
          }
        },
        "8932d53cf89348dcba17ce8c13175fa6": {
          "model_module": "@jupyter-widgets/controls",
          "model_name": "FloatProgressModel",
          "state": {
            "_view_name": "ProgressView",
            "style": "IPY_MODEL_f799252a322a4bd5b43a6182d03e0a20",
            "_dom_classes": [],
            "description": "100%",
            "_model_name": "FloatProgressModel",
            "bar_style": "success",
            "max": 20,
            "_view_module": "@jupyter-widgets/controls",
            "_model_module_version": "1.5.0",
            "value": 20,
            "_view_count": null,
            "_view_module_version": "1.5.0",
            "orientation": "horizontal",
            "min": 0,
            "description_tooltip": null,
            "_model_module": "@jupyter-widgets/controls",
            "layout": "IPY_MODEL_d1a9255f9c1a4e4d9f7eb28bbb789861"
          }
        },
        "52ae0a782c4c4297b60e347276eaee5a": {
          "model_module": "@jupyter-widgets/controls",
          "model_name": "HTMLModel",
          "state": {
            "_view_name": "HTMLView",
            "style": "IPY_MODEL_277d1af492f24694bdec6d1b96362f6f",
            "_dom_classes": [],
            "description": "",
            "_model_name": "HTMLModel",
            "placeholder": "​",
            "_view_module": "@jupyter-widgets/controls",
            "_model_module_version": "1.5.0",
            "value": " 20/20 [00:00&lt;00:00, 35.54it/s]",
            "_view_count": null,
            "_view_module_version": "1.5.0",
            "description_tooltip": null,
            "_model_module": "@jupyter-widgets/controls",
            "layout": "IPY_MODEL_767fff3940a84d3cb440611631bf8e62"
          }
        },
        "f799252a322a4bd5b43a6182d03e0a20": {
          "model_module": "@jupyter-widgets/controls",
          "model_name": "ProgressStyleModel",
          "state": {
            "_view_name": "StyleView",
            "_model_name": "ProgressStyleModel",
            "description_width": "initial",
            "_view_module": "@jupyter-widgets/base",
            "_model_module_version": "1.5.0",
            "_view_count": null,
            "_view_module_version": "1.2.0",
            "bar_color": null,
            "_model_module": "@jupyter-widgets/controls"
          }
        },
        "d1a9255f9c1a4e4d9f7eb28bbb789861": {
          "model_module": "@jupyter-widgets/base",
          "model_name": "LayoutModel",
          "state": {
            "_view_name": "LayoutView",
            "grid_template_rows": null,
            "right": null,
            "justify_content": null,
            "_view_module": "@jupyter-widgets/base",
            "overflow": null,
            "_model_module_version": "1.2.0",
            "_view_count": null,
            "flex_flow": null,
            "width": null,
            "min_width": null,
            "border": null,
            "align_items": null,
            "bottom": null,
            "_model_module": "@jupyter-widgets/base",
            "top": null,
            "grid_column": null,
            "overflow_y": null,
            "overflow_x": null,
            "grid_auto_flow": null,
            "grid_area": null,
            "grid_template_columns": null,
            "flex": null,
            "_model_name": "LayoutModel",
            "justify_items": null,
            "grid_row": null,
            "max_height": null,
            "align_content": null,
            "visibility": null,
            "align_self": null,
            "height": null,
            "min_height": null,
            "padding": null,
            "grid_auto_rows": null,
            "grid_gap": null,
            "max_width": null,
            "order": null,
            "_view_module_version": "1.2.0",
            "grid_template_areas": null,
            "object_position": null,
            "object_fit": null,
            "grid_auto_columns": null,
            "margin": null,
            "display": null,
            "left": null
          }
        },
        "277d1af492f24694bdec6d1b96362f6f": {
          "model_module": "@jupyter-widgets/controls",
          "model_name": "DescriptionStyleModel",
          "state": {
            "_view_name": "StyleView",
            "_model_name": "DescriptionStyleModel",
            "description_width": "",
            "_view_module": "@jupyter-widgets/base",
            "_model_module_version": "1.5.0",
            "_view_count": null,
            "_view_module_version": "1.2.0",
            "_model_module": "@jupyter-widgets/controls"
          }
        },
        "767fff3940a84d3cb440611631bf8e62": {
          "model_module": "@jupyter-widgets/base",
          "model_name": "LayoutModel",
          "state": {
            "_view_name": "LayoutView",
            "grid_template_rows": null,
            "right": null,
            "justify_content": null,
            "_view_module": "@jupyter-widgets/base",
            "overflow": null,
            "_model_module_version": "1.2.0",
            "_view_count": null,
            "flex_flow": null,
            "width": null,
            "min_width": null,
            "border": null,
            "align_items": null,
            "bottom": null,
            "_model_module": "@jupyter-widgets/base",
            "top": null,
            "grid_column": null,
            "overflow_y": null,
            "overflow_x": null,
            "grid_auto_flow": null,
            "grid_area": null,
            "grid_template_columns": null,
            "flex": null,
            "_model_name": "LayoutModel",
            "justify_items": null,
            "grid_row": null,
            "max_height": null,
            "align_content": null,
            "visibility": null,
            "align_self": null,
            "height": null,
            "min_height": null,
            "padding": null,
            "grid_auto_rows": null,
            "grid_gap": null,
            "max_width": null,
            "order": null,
            "_view_module_version": "1.2.0",
            "grid_template_areas": null,
            "object_position": null,
            "object_fit": null,
            "grid_auto_columns": null,
            "margin": null,
            "display": null,
            "left": null
          }
        }
      }
    },
    "accelerator": "GPU"
  },
  "cells": [
    {
      "cell_type": "markdown",
      "metadata": {
        "id": "HC3khU8VHuqG"
      },
      "source": [
        "#0. 準備"
      ]
    },
    {
      "cell_type": "markdown",
      "metadata": {
        "id": "Go4VSpjvHoOi"
      },
      "source": [
        "##0.1. google driveへ接続"
      ]
    },
    {
      "cell_type": "code",
      "metadata": {
        "id": "ob4kNhOdHndd"
      },
      "source": [
        ""
      ],
      "execution_count": 12,
      "outputs": []
    },
    {
      "cell_type": "markdown",
      "metadata": {
        "id": "l5qMBf25Gf5V"
      },
      "source": [
        "##0.2. ファイル名の指定と、各種パスを自動で生成"
      ]
    },
    {
      "cell_type": "code",
      "metadata": {
        "id": "agBG65mhvDG9",
        "colab": {
          "base_uri": "https://localhost:8080/"
        },
        "outputId": "df0a590b-ebf1-4094-abaa-34dd8efef7bb"
      },
      "source": [
        "#------------------------------------------------------------------------------\n",
        "#ここを変更\n",
        "#------------------------------------------------------------------------------\n",
        "INPUT_FILE=\"/content/drive/My Drive/datasets/C0003.MP4\" #動画までのパス #ここで動画名を指定すれば、関節座標を記録したcsv (動画と同じディレクトリに保存されている) までのパスとファイル名も自動で作成される。\n",
        "OUTPUT_PATH=\"/content/drive/My Drive/研究室/Personal/Assets/Assets_Output/HRNet/\" #最終的な動画をどこのディレクトリへ保存するか。\n",
        "\n",
        "sub_CSV_FILE=\"/content/drive/My Drive/研究室/Personal/Assets/Assets_Output/HRNet/pose-data_C0219.csv\" #比較する別の関節座標\n",
        "#------------------------------------------------------------------------------\n",
        "\n",
        "#------------------------------------------------------------------------------\n",
        "#removed pathANDformat from videoFile  by mayo \n",
        "#------------------------------------------------------------------------------\n",
        "INPUT_FILE_splited_path=INPUT_FILE.split('/')\n",
        "INPUT_FILE_removed_pathANDformat=INPUT_FILE_splited_path[-1].split(\".\")\n",
        "INPUT_FILE_removed_pathANDformat=INPUT_FILE_removed_pathANDformat[0]\n",
        "\n",
        "POSE_FILE=OUTPUT_PATH+'pose_%s.MP4' % INPUT_FILE_removed_pathANDformat\n",
        "#------------------------------------------------------------------------------\n",
        "\n",
        "#------------------------------------------------------------------------------\n",
        "#関節座標を記録したcsv (動画と同じディレクトリに保\n",
        "#存されている) までのパスとファイル名を生成\n",
        "#------------------------------------------------------------------------------\n",
        "CSV_FILE= OUTPUT_PATH+ \"pose-data_%s.csv\" % INPUT_FILE_removed_pathANDformat\n",
        "print(CSV_FILE)\n",
        "OUTPUT_FILE= OUTPUT_PATH+ \"pose_%s.MP4\" % INPUT_FILE_removed_pathANDformat\n",
        "print(OUTPUT_FILE)\n",
        "#------------------------------------------------------------------------------"
      ],
      "execution_count": 13,
      "outputs": [
        {
          "output_type": "stream",
          "text": [
            "/content/drive/My Drive/研究室/Personal/Assets/Assets_Output/HRNet/pose-data_C0003.csv\n",
            "/content/drive/My Drive/研究室/Personal/Assets/Assets_Output/HRNet/pose_C0003.MP4\n"
          ],
          "name": "stdout"
        }
      ]
    },
    {
      "cell_type": "markdown",
      "metadata": {
        "id": "qjaxueYAH7gB"
      },
      "source": [
        "#1. 関節座標の取得\n",
        "\n"
      ]
    },
    {
      "cell_type": "markdown",
      "metadata": {
        "id": "wSIP-zidKtzY"
      },
      "source": [
        "##1.1. csvからdfへ変換\n",
        "\n",
        "df_A : メインとなる関節座標\n",
        "\n",
        "df_B : その比較に使う関節座標"
      ]
    },
    {
      "cell_type": "code",
      "metadata": {
        "id": "6Mme_e-Uke5S"
      },
      "source": [
        "import pandas as pd\n",
        "import re\n",
        "\n",
        "def read_file_keypoints(CSV_FILE):\n",
        "    df=pd.read_csv(CSV_FILE, encoding = \"shift-jis\")\n",
        "    df=df.set_index('frame')\n",
        "    x_len, y_len=df.shape\n",
        "    #print(x_len, y_len)\n",
        "\n",
        "    list_colums_name=list(df.columns)\n",
        "    list_keypoints_label_x, list_keypoints_label_y= [], []\n",
        "    list_keypoints_label_x.clear()\n",
        "    list_keypoints_label_y.clear()\n",
        "    for element in list_colums_name:\n",
        "     if re.search('_y', element):\n",
        "       list_keypoints_label_y.append(element)\n",
        "     else:\n",
        "       list_keypoints_label_x.append(element)\n",
        "\n",
        "    df_keypoints_y=df.loc[:, list_keypoints_label_y]\n",
        "    #print(df_keypoints_y) #y位相だけのdf #これをメインに使います。\n",
        "    list_coords_y=df_keypoints_y.values.tolist()\n",
        "      \n",
        "    return df, list_coords_y, list_keypoints_label_y\n",
        "\n",
        "df_A, list_coords_y_A, list_keypoints_label_y_A=read_file_keypoints(CSV_FILE)\n",
        "df_B, list_coords_y_B, list_keypoints_label_y_B=read_file_keypoints(sub_CSV_FILE)\n",
        "\n",
        "#print(list_keypoints_label_y_A)\n",
        "\n",
        "#print(list_coords_y_A, list_coords_y_B)"
      ],
      "execution_count": 14,
      "outputs": []
    },
    {
      "cell_type": "markdown",
      "metadata": {
        "id": "09a0OoxBKyKQ"
      },
      "source": [
        "##1.2. dfの確認"
      ]
    },
    {
      "cell_type": "code",
      "metadata": {
        "colab": {
          "base_uri": "https://localhost:8080/",
          "height": 494
        },
        "id": "R_16ixExFH0n",
        "outputId": "e05e2ac1-988d-4ef0-e48f-6bd9b6c78fe5"
      },
      "source": [
        "df_A"
      ],
      "execution_count": 15,
      "outputs": [
        {
          "output_type": "execute_result",
          "data": {
            "text/html": [
              "<div>\n",
              "<style scoped>\n",
              "    .dataframe tbody tr th:only-of-type {\n",
              "        vertical-align: middle;\n",
              "    }\n",
              "\n",
              "    .dataframe tbody tr th {\n",
              "        vertical-align: top;\n",
              "    }\n",
              "\n",
              "    .dataframe thead th {\n",
              "        text-align: right;\n",
              "    }\n",
              "</style>\n",
              "<table border=\"1\" class=\"dataframe\">\n",
              "  <thead>\n",
              "    <tr style=\"text-align: right;\">\n",
              "      <th></th>\n",
              "      <th>nose_x</th>\n",
              "      <th>nose_y</th>\n",
              "      <th>left_eye_x</th>\n",
              "      <th>left_eye_y</th>\n",
              "      <th>right_eye_x</th>\n",
              "      <th>right_eye_y</th>\n",
              "      <th>left_ear_x</th>\n",
              "      <th>left_ear_y</th>\n",
              "      <th>right_ear_x</th>\n",
              "      <th>right_ear_y</th>\n",
              "      <th>left_shoulder_x</th>\n",
              "      <th>left_shoulder_y</th>\n",
              "      <th>right_shoulder_x</th>\n",
              "      <th>right_shoulder_y</th>\n",
              "      <th>left_elbow_x</th>\n",
              "      <th>left_elbow_y</th>\n",
              "      <th>right_elbow_x</th>\n",
              "      <th>right_elbow_y</th>\n",
              "      <th>left_wrist_x</th>\n",
              "      <th>left_wrist_y</th>\n",
              "      <th>right_wrist_x</th>\n",
              "      <th>right_wrist_y</th>\n",
              "      <th>left_hip_x</th>\n",
              "      <th>left_hip_y</th>\n",
              "      <th>right_hip_x</th>\n",
              "      <th>right_hip_y</th>\n",
              "      <th>left_knee_x</th>\n",
              "      <th>left_knee_y</th>\n",
              "      <th>right_knee_x</th>\n",
              "      <th>right_knee_y</th>\n",
              "      <th>left_ankle_x</th>\n",
              "      <th>left_ankle_y</th>\n",
              "      <th>right_ankle_x</th>\n",
              "      <th>right_ankle_y</th>\n",
              "    </tr>\n",
              "    <tr>\n",
              "      <th>frame</th>\n",
              "      <th></th>\n",
              "      <th></th>\n",
              "      <th></th>\n",
              "      <th></th>\n",
              "      <th></th>\n",
              "      <th></th>\n",
              "      <th></th>\n",
              "      <th></th>\n",
              "      <th></th>\n",
              "      <th></th>\n",
              "      <th></th>\n",
              "      <th></th>\n",
              "      <th></th>\n",
              "      <th></th>\n",
              "      <th></th>\n",
              "      <th></th>\n",
              "      <th></th>\n",
              "      <th></th>\n",
              "      <th></th>\n",
              "      <th></th>\n",
              "      <th></th>\n",
              "      <th></th>\n",
              "      <th></th>\n",
              "      <th></th>\n",
              "      <th></th>\n",
              "      <th></th>\n",
              "      <th></th>\n",
              "      <th></th>\n",
              "      <th></th>\n",
              "      <th></th>\n",
              "      <th></th>\n",
              "      <th></th>\n",
              "      <th></th>\n",
              "      <th></th>\n",
              "    </tr>\n",
              "  </thead>\n",
              "  <tbody>\n",
              "    <tr>\n",
              "      <th>0</th>\n",
              "      <td>797</td>\n",
              "      <td>571</td>\n",
              "      <td>797</td>\n",
              "      <td>584</td>\n",
              "      <td>784</td>\n",
              "      <td>584</td>\n",
              "      <td>732</td>\n",
              "      <td>567</td>\n",
              "      <td>737</td>\n",
              "      <td>567</td>\n",
              "      <td>650</td>\n",
              "      <td>502</td>\n",
              "      <td>776</td>\n",
              "      <td>497</td>\n",
              "      <td>541</td>\n",
              "      <td>467</td>\n",
              "      <td>810</td>\n",
              "      <td>385</td>\n",
              "      <td>455</td>\n",
              "      <td>406</td>\n",
              "      <td>780</td>\n",
              "      <td>393</td>\n",
              "      <td>654</td>\n",
              "      <td>272</td>\n",
              "      <td>698</td>\n",
              "      <td>280</td>\n",
              "      <td>750</td>\n",
              "      <td>120</td>\n",
              "      <td>828</td>\n",
              "      <td>150</td>\n",
              "      <td>641</td>\n",
              "      <td>20</td>\n",
              "      <td>871</td>\n",
              "      <td>11</td>\n",
              "    </tr>\n",
              "    <tr>\n",
              "      <th>1</th>\n",
              "      <td>800</td>\n",
              "      <td>571</td>\n",
              "      <td>796</td>\n",
              "      <td>584</td>\n",
              "      <td>783</td>\n",
              "      <td>584</td>\n",
              "      <td>732</td>\n",
              "      <td>571</td>\n",
              "      <td>736</td>\n",
              "      <td>571</td>\n",
              "      <td>651</td>\n",
              "      <td>503</td>\n",
              "      <td>775</td>\n",
              "      <td>499</td>\n",
              "      <td>541</td>\n",
              "      <td>469</td>\n",
              "      <td>809</td>\n",
              "      <td>384</td>\n",
              "      <td>456</td>\n",
              "      <td>410</td>\n",
              "      <td>783</td>\n",
              "      <td>393</td>\n",
              "      <td>651</td>\n",
              "      <td>269</td>\n",
              "      <td>698</td>\n",
              "      <td>278</td>\n",
              "      <td>749</td>\n",
              "      <td>116</td>\n",
              "      <td>830</td>\n",
              "      <td>150</td>\n",
              "      <td>643</td>\n",
              "      <td>23</td>\n",
              "      <td>872</td>\n",
              "      <td>10</td>\n",
              "    </tr>\n",
              "    <tr>\n",
              "      <th>2</th>\n",
              "      <td>800</td>\n",
              "      <td>572</td>\n",
              "      <td>796</td>\n",
              "      <td>585</td>\n",
              "      <td>783</td>\n",
              "      <td>585</td>\n",
              "      <td>732</td>\n",
              "      <td>568</td>\n",
              "      <td>737</td>\n",
              "      <td>568</td>\n",
              "      <td>651</td>\n",
              "      <td>500</td>\n",
              "      <td>779</td>\n",
              "      <td>500</td>\n",
              "      <td>540</td>\n",
              "      <td>470</td>\n",
              "      <td>809</td>\n",
              "      <td>380</td>\n",
              "      <td>455</td>\n",
              "      <td>410</td>\n",
              "      <td>783</td>\n",
              "      <td>402</td>\n",
              "      <td>656</td>\n",
              "      <td>269</td>\n",
              "      <td>698</td>\n",
              "      <td>278</td>\n",
              "      <td>749</td>\n",
              "      <td>120</td>\n",
              "      <td>830</td>\n",
              "      <td>150</td>\n",
              "      <td>647</td>\n",
              "      <td>26</td>\n",
              "      <td>869</td>\n",
              "      <td>9</td>\n",
              "    </tr>\n",
              "    <tr>\n",
              "      <th>3</th>\n",
              "      <td>802</td>\n",
              "      <td>569</td>\n",
              "      <td>797</td>\n",
              "      <td>586</td>\n",
              "      <td>785</td>\n",
              "      <td>581</td>\n",
              "      <td>734</td>\n",
              "      <td>569</td>\n",
              "      <td>734</td>\n",
              "      <td>569</td>\n",
              "      <td>653</td>\n",
              "      <td>501</td>\n",
              "      <td>776</td>\n",
              "      <td>501</td>\n",
              "      <td>538</td>\n",
              "      <td>467</td>\n",
              "      <td>802</td>\n",
              "      <td>395</td>\n",
              "      <td>458</td>\n",
              "      <td>412</td>\n",
              "      <td>789</td>\n",
              "      <td>412</td>\n",
              "      <td>657</td>\n",
              "      <td>267</td>\n",
              "      <td>700</td>\n",
              "      <td>276</td>\n",
              "      <td>751</td>\n",
              "      <td>115</td>\n",
              "      <td>831</td>\n",
              "      <td>149</td>\n",
              "      <td>645</td>\n",
              "      <td>26</td>\n",
              "      <td>869</td>\n",
              "      <td>9</td>\n",
              "    </tr>\n",
              "    <tr>\n",
              "      <th>4</th>\n",
              "      <td>799</td>\n",
              "      <td>571</td>\n",
              "      <td>799</td>\n",
              "      <td>583</td>\n",
              "      <td>782</td>\n",
              "      <td>583</td>\n",
              "      <td>735</td>\n",
              "      <td>567</td>\n",
              "      <td>735</td>\n",
              "      <td>567</td>\n",
              "      <td>651</td>\n",
              "      <td>499</td>\n",
              "      <td>778</td>\n",
              "      <td>499</td>\n",
              "      <td>538</td>\n",
              "      <td>470</td>\n",
              "      <td>803</td>\n",
              "      <td>382</td>\n",
              "      <td>458</td>\n",
              "      <td>415</td>\n",
              "      <td>786</td>\n",
              "      <td>415</td>\n",
              "      <td>660</td>\n",
              "      <td>264</td>\n",
              "      <td>702</td>\n",
              "      <td>277</td>\n",
              "      <td>752</td>\n",
              "      <td>113</td>\n",
              "      <td>828</td>\n",
              "      <td>150</td>\n",
              "      <td>643</td>\n",
              "      <td>24</td>\n",
              "      <td>866</td>\n",
              "      <td>12</td>\n",
              "    </tr>\n",
              "    <tr>\n",
              "      <th>...</th>\n",
              "      <td>...</td>\n",
              "      <td>...</td>\n",
              "      <td>...</td>\n",
              "      <td>...</td>\n",
              "      <td>...</td>\n",
              "      <td>...</td>\n",
              "      <td>...</td>\n",
              "      <td>...</td>\n",
              "      <td>...</td>\n",
              "      <td>...</td>\n",
              "      <td>...</td>\n",
              "      <td>...</td>\n",
              "      <td>...</td>\n",
              "      <td>...</td>\n",
              "      <td>...</td>\n",
              "      <td>...</td>\n",
              "      <td>...</td>\n",
              "      <td>...</td>\n",
              "      <td>...</td>\n",
              "      <td>...</td>\n",
              "      <td>...</td>\n",
              "      <td>...</td>\n",
              "      <td>...</td>\n",
              "      <td>...</td>\n",
              "      <td>...</td>\n",
              "      <td>...</td>\n",
              "      <td>...</td>\n",
              "      <td>...</td>\n",
              "      <td>...</td>\n",
              "      <td>...</td>\n",
              "      <td>...</td>\n",
              "      <td>...</td>\n",
              "      <td>...</td>\n",
              "      <td>...</td>\n",
              "    </tr>\n",
              "    <tr>\n",
              "      <th>195</th>\n",
              "      <td>667</td>\n",
              "      <td>465</td>\n",
              "      <td>689</td>\n",
              "      <td>475</td>\n",
              "      <td>664</td>\n",
              "      <td>479</td>\n",
              "      <td>729</td>\n",
              "      <td>461</td>\n",
              "      <td>656</td>\n",
              "      <td>479</td>\n",
              "      <td>743</td>\n",
              "      <td>374</td>\n",
              "      <td>685</td>\n",
              "      <td>414</td>\n",
              "      <td>693</td>\n",
              "      <td>265</td>\n",
              "      <td>689</td>\n",
              "      <td>284</td>\n",
              "      <td>606</td>\n",
              "      <td>197</td>\n",
              "      <td>671</td>\n",
              "      <td>356</td>\n",
              "      <td>888</td>\n",
              "      <td>284</td>\n",
              "      <td>801</td>\n",
              "      <td>269</td>\n",
              "      <td>928</td>\n",
              "      <td>99</td>\n",
              "      <td>794</td>\n",
              "      <td>135</td>\n",
              "      <td>874</td>\n",
              "      <td>95</td>\n",
              "      <td>812</td>\n",
              "      <td>8</td>\n",
              "    </tr>\n",
              "    <tr>\n",
              "      <th>196</th>\n",
              "      <td>668</td>\n",
              "      <td>461</td>\n",
              "      <td>686</td>\n",
              "      <td>475</td>\n",
              "      <td>665</td>\n",
              "      <td>479</td>\n",
              "      <td>730</td>\n",
              "      <td>461</td>\n",
              "      <td>654</td>\n",
              "      <td>479</td>\n",
              "      <td>744</td>\n",
              "      <td>370</td>\n",
              "      <td>676</td>\n",
              "      <td>410</td>\n",
              "      <td>694</td>\n",
              "      <td>269</td>\n",
              "      <td>694</td>\n",
              "      <td>284</td>\n",
              "      <td>607</td>\n",
              "      <td>201</td>\n",
              "      <td>665</td>\n",
              "      <td>356</td>\n",
              "      <td>889</td>\n",
              "      <td>284</td>\n",
              "      <td>802</td>\n",
              "      <td>269</td>\n",
              "      <td>928</td>\n",
              "      <td>100</td>\n",
              "      <td>795</td>\n",
              "      <td>136</td>\n",
              "      <td>874</td>\n",
              "      <td>96</td>\n",
              "      <td>809</td>\n",
              "      <td>6</td>\n",
              "    </tr>\n",
              "    <tr>\n",
              "      <th>197</th>\n",
              "      <td>664</td>\n",
              "      <td>462</td>\n",
              "      <td>685</td>\n",
              "      <td>473</td>\n",
              "      <td>661</td>\n",
              "      <td>480</td>\n",
              "      <td>728</td>\n",
              "      <td>459</td>\n",
              "      <td>657</td>\n",
              "      <td>480</td>\n",
              "      <td>738</td>\n",
              "      <td>367</td>\n",
              "      <td>678</td>\n",
              "      <td>409</td>\n",
              "      <td>692</td>\n",
              "      <td>265</td>\n",
              "      <td>685</td>\n",
              "      <td>286</td>\n",
              "      <td>608</td>\n",
              "      <td>201</td>\n",
              "      <td>668</td>\n",
              "      <td>353</td>\n",
              "      <td>890</td>\n",
              "      <td>282</td>\n",
              "      <td>805</td>\n",
              "      <td>272</td>\n",
              "      <td>929</td>\n",
              "      <td>99</td>\n",
              "      <td>795</td>\n",
              "      <td>138</td>\n",
              "      <td>879</td>\n",
              "      <td>103</td>\n",
              "      <td>812</td>\n",
              "      <td>4</td>\n",
              "    </tr>\n",
              "    <tr>\n",
              "      <th>198</th>\n",
              "      <td>668</td>\n",
              "      <td>461</td>\n",
              "      <td>686</td>\n",
              "      <td>471</td>\n",
              "      <td>661</td>\n",
              "      <td>479</td>\n",
              "      <td>729</td>\n",
              "      <td>461</td>\n",
              "      <td>657</td>\n",
              "      <td>479</td>\n",
              "      <td>740</td>\n",
              "      <td>367</td>\n",
              "      <td>679</td>\n",
              "      <td>410</td>\n",
              "      <td>693</td>\n",
              "      <td>270</td>\n",
              "      <td>686</td>\n",
              "      <td>281</td>\n",
              "      <td>610</td>\n",
              "      <td>206</td>\n",
              "      <td>657</td>\n",
              "      <td>371</td>\n",
              "      <td>890</td>\n",
              "      <td>285</td>\n",
              "      <td>801</td>\n",
              "      <td>278</td>\n",
              "      <td>933</td>\n",
              "      <td>98</td>\n",
              "      <td>797</td>\n",
              "      <td>138</td>\n",
              "      <td>880</td>\n",
              "      <td>105</td>\n",
              "      <td>815</td>\n",
              "      <td>5</td>\n",
              "    </tr>\n",
              "    <tr>\n",
              "      <th>199</th>\n",
              "      <td>665</td>\n",
              "      <td>460</td>\n",
              "      <td>683</td>\n",
              "      <td>471</td>\n",
              "      <td>662</td>\n",
              "      <td>478</td>\n",
              "      <td>726</td>\n",
              "      <td>460</td>\n",
              "      <td>655</td>\n",
              "      <td>478</td>\n",
              "      <td>737</td>\n",
              "      <td>367</td>\n",
              "      <td>665</td>\n",
              "      <td>407</td>\n",
              "      <td>690</td>\n",
              "      <td>267</td>\n",
              "      <td>683</td>\n",
              "      <td>281</td>\n",
              "      <td>615</td>\n",
              "      <td>210</td>\n",
              "      <td>626</td>\n",
              "      <td>224</td>\n",
              "      <td>894</td>\n",
              "      <td>285</td>\n",
              "      <td>801</td>\n",
              "      <td>278</td>\n",
              "      <td>933</td>\n",
              "      <td>99</td>\n",
              "      <td>797</td>\n",
              "      <td>138</td>\n",
              "      <td>883</td>\n",
              "      <td>106</td>\n",
              "      <td>815</td>\n",
              "      <td>6</td>\n",
              "    </tr>\n",
              "  </tbody>\n",
              "</table>\n",
              "<p>200 rows × 34 columns</p>\n",
              "</div>"
            ],
            "text/plain": [
              "       nose_x  nose_y  left_eye_x  ...  left_ankle_y  right_ankle_x  right_ankle_y\n",
              "frame                              ...                                            \n",
              "0         797     571         797  ...            20            871             11\n",
              "1         800     571         796  ...            23            872             10\n",
              "2         800     572         796  ...            26            869              9\n",
              "3         802     569         797  ...            26            869              9\n",
              "4         799     571         799  ...            24            866             12\n",
              "...       ...     ...         ...  ...           ...            ...            ...\n",
              "195       667     465         689  ...            95            812              8\n",
              "196       668     461         686  ...            96            809              6\n",
              "197       664     462         685  ...           103            812              4\n",
              "198       668     461         686  ...           105            815              5\n",
              "199       665     460         683  ...           106            815              6\n",
              "\n",
              "[200 rows x 34 columns]"
            ]
          },
          "metadata": {
            "tags": []
          },
          "execution_count": 15
        }
      ]
    },
    {
      "cell_type": "code",
      "metadata": {
        "colab": {
          "base_uri": "https://localhost:8080/",
          "height": 494
        },
        "id": "a7PHb67wJ-GY",
        "outputId": "5fc1385c-5a8a-4a0f-cffa-86a47afec6f4"
      },
      "source": [
        "df_B"
      ],
      "execution_count": 16,
      "outputs": [
        {
          "output_type": "execute_result",
          "data": {
            "text/html": [
              "<div>\n",
              "<style scoped>\n",
              "    .dataframe tbody tr th:only-of-type {\n",
              "        vertical-align: middle;\n",
              "    }\n",
              "\n",
              "    .dataframe tbody tr th {\n",
              "        vertical-align: top;\n",
              "    }\n",
              "\n",
              "    .dataframe thead th {\n",
              "        text-align: right;\n",
              "    }\n",
              "</style>\n",
              "<table border=\"1\" class=\"dataframe\">\n",
              "  <thead>\n",
              "    <tr style=\"text-align: right;\">\n",
              "      <th></th>\n",
              "      <th>nose_x</th>\n",
              "      <th>nose_y</th>\n",
              "      <th>left_eye_x</th>\n",
              "      <th>left_eye_y</th>\n",
              "      <th>right_eye_x</th>\n",
              "      <th>right_eye_y</th>\n",
              "      <th>left_ear_x</th>\n",
              "      <th>left_ear_y</th>\n",
              "      <th>right_ear_x</th>\n",
              "      <th>right_ear_y</th>\n",
              "      <th>left_shoulder_x</th>\n",
              "      <th>left_shoulder_y</th>\n",
              "      <th>right_shoulder_x</th>\n",
              "      <th>right_shoulder_y</th>\n",
              "      <th>left_elbow_x</th>\n",
              "      <th>left_elbow_y</th>\n",
              "      <th>right_elbow_x</th>\n",
              "      <th>right_elbow_y</th>\n",
              "      <th>left_wrist_x</th>\n",
              "      <th>left_wrist_y</th>\n",
              "      <th>right_wrist_x</th>\n",
              "      <th>right_wrist_y</th>\n",
              "      <th>left_hip_x</th>\n",
              "      <th>left_hip_y</th>\n",
              "      <th>right_hip_x</th>\n",
              "      <th>right_hip_y</th>\n",
              "      <th>left_knee_x</th>\n",
              "      <th>left_knee_y</th>\n",
              "      <th>right_knee_x</th>\n",
              "      <th>right_knee_y</th>\n",
              "      <th>left_ankle_x</th>\n",
              "      <th>left_ankle_y</th>\n",
              "      <th>right_ankle_x</th>\n",
              "      <th>right_ankle_y</th>\n",
              "    </tr>\n",
              "    <tr>\n",
              "      <th>frame</th>\n",
              "      <th></th>\n",
              "      <th></th>\n",
              "      <th></th>\n",
              "      <th></th>\n",
              "      <th></th>\n",
              "      <th></th>\n",
              "      <th></th>\n",
              "      <th></th>\n",
              "      <th></th>\n",
              "      <th></th>\n",
              "      <th></th>\n",
              "      <th></th>\n",
              "      <th></th>\n",
              "      <th></th>\n",
              "      <th></th>\n",
              "      <th></th>\n",
              "      <th></th>\n",
              "      <th></th>\n",
              "      <th></th>\n",
              "      <th></th>\n",
              "      <th></th>\n",
              "      <th></th>\n",
              "      <th></th>\n",
              "      <th></th>\n",
              "      <th></th>\n",
              "      <th></th>\n",
              "      <th></th>\n",
              "      <th></th>\n",
              "      <th></th>\n",
              "      <th></th>\n",
              "      <th></th>\n",
              "      <th></th>\n",
              "      <th></th>\n",
              "      <th></th>\n",
              "    </tr>\n",
              "  </thead>\n",
              "  <tbody>\n",
              "    <tr>\n",
              "      <th>0</th>\n",
              "      <td>588</td>\n",
              "      <td>580</td>\n",
              "      <td>609</td>\n",
              "      <td>589</td>\n",
              "      <td>588</td>\n",
              "      <td>593</td>\n",
              "      <td>647</td>\n",
              "      <td>580</td>\n",
              "      <td>652</td>\n",
              "      <td>576</td>\n",
              "      <td>609</td>\n",
              "      <td>509</td>\n",
              "      <td>690</td>\n",
              "      <td>525</td>\n",
              "      <td>694</td>\n",
              "      <td>471</td>\n",
              "      <td>799</td>\n",
              "      <td>530</td>\n",
              "      <td>664</td>\n",
              "      <td>407</td>\n",
              "      <td>732</td>\n",
              "      <td>542</td>\n",
              "      <td>660</td>\n",
              "      <td>264</td>\n",
              "      <td>609</td>\n",
              "      <td>268</td>\n",
              "      <td>563</td>\n",
              "      <td>166</td>\n",
              "      <td>614</td>\n",
              "      <td>137</td>\n",
              "      <td>652</td>\n",
              "      <td>14</td>\n",
              "      <td>681</td>\n",
              "      <td>31</td>\n",
              "    </tr>\n",
              "    <tr>\n",
              "      <th>1</th>\n",
              "      <td>590</td>\n",
              "      <td>577</td>\n",
              "      <td>611</td>\n",
              "      <td>590</td>\n",
              "      <td>590</td>\n",
              "      <td>595</td>\n",
              "      <td>649</td>\n",
              "      <td>577</td>\n",
              "      <td>581</td>\n",
              "      <td>590</td>\n",
              "      <td>607</td>\n",
              "      <td>509</td>\n",
              "      <td>679</td>\n",
              "      <td>531</td>\n",
              "      <td>700</td>\n",
              "      <td>471</td>\n",
              "      <td>803</td>\n",
              "      <td>526</td>\n",
              "      <td>671</td>\n",
              "      <td>403</td>\n",
              "      <td>730</td>\n",
              "      <td>535</td>\n",
              "      <td>658</td>\n",
              "      <td>266</td>\n",
              "      <td>607</td>\n",
              "      <td>270</td>\n",
              "      <td>568</td>\n",
              "      <td>168</td>\n",
              "      <td>568</td>\n",
              "      <td>155</td>\n",
              "      <td>671</td>\n",
              "      <td>19</td>\n",
              "      <td>675</td>\n",
              "      <td>32</td>\n",
              "    </tr>\n",
              "    <tr>\n",
              "      <th>2</th>\n",
              "      <td>589</td>\n",
              "      <td>579</td>\n",
              "      <td>606</td>\n",
              "      <td>588</td>\n",
              "      <td>589</td>\n",
              "      <td>596</td>\n",
              "      <td>649</td>\n",
              "      <td>575</td>\n",
              "      <td>581</td>\n",
              "      <td>592</td>\n",
              "      <td>610</td>\n",
              "      <td>511</td>\n",
              "      <td>679</td>\n",
              "      <td>519</td>\n",
              "      <td>705</td>\n",
              "      <td>472</td>\n",
              "      <td>799</td>\n",
              "      <td>528</td>\n",
              "      <td>670</td>\n",
              "      <td>399</td>\n",
              "      <td>730</td>\n",
              "      <td>536</td>\n",
              "      <td>658</td>\n",
              "      <td>263</td>\n",
              "      <td>602</td>\n",
              "      <td>271</td>\n",
              "      <td>568</td>\n",
              "      <td>164</td>\n",
              "      <td>610</td>\n",
              "      <td>139</td>\n",
              "      <td>649</td>\n",
              "      <td>15</td>\n",
              "      <td>675</td>\n",
              "      <td>32</td>\n",
              "    </tr>\n",
              "    <tr>\n",
              "      <th>3</th>\n",
              "      <td>590</td>\n",
              "      <td>581</td>\n",
              "      <td>607</td>\n",
              "      <td>589</td>\n",
              "      <td>586</td>\n",
              "      <td>593</td>\n",
              "      <td>650</td>\n",
              "      <td>576</td>\n",
              "      <td>577</td>\n",
              "      <td>593</td>\n",
              "      <td>616</td>\n",
              "      <td>508</td>\n",
              "      <td>675</td>\n",
              "      <td>529</td>\n",
              "      <td>705</td>\n",
              "      <td>466</td>\n",
              "      <td>799</td>\n",
              "      <td>525</td>\n",
              "      <td>671</td>\n",
              "      <td>389</td>\n",
              "      <td>726</td>\n",
              "      <td>546</td>\n",
              "      <td>654</td>\n",
              "      <td>270</td>\n",
              "      <td>603</td>\n",
              "      <td>270</td>\n",
              "      <td>573</td>\n",
              "      <td>163</td>\n",
              "      <td>586</td>\n",
              "      <td>155</td>\n",
              "      <td>641</td>\n",
              "      <td>15</td>\n",
              "      <td>671</td>\n",
              "      <td>32</td>\n",
              "    </tr>\n",
              "    <tr>\n",
              "      <th>4</th>\n",
              "      <td>589</td>\n",
              "      <td>580</td>\n",
              "      <td>610</td>\n",
              "      <td>588</td>\n",
              "      <td>589</td>\n",
              "      <td>593</td>\n",
              "      <td>648</td>\n",
              "      <td>576</td>\n",
              "      <td>580</td>\n",
              "      <td>588</td>\n",
              "      <td>619</td>\n",
              "      <td>508</td>\n",
              "      <td>691</td>\n",
              "      <td>529</td>\n",
              "      <td>708</td>\n",
              "      <td>457</td>\n",
              "      <td>797</td>\n",
              "      <td>525</td>\n",
              "      <td>678</td>\n",
              "      <td>389</td>\n",
              "      <td>725</td>\n",
              "      <td>546</td>\n",
              "      <td>657</td>\n",
              "      <td>265</td>\n",
              "      <td>602</td>\n",
              "      <td>270</td>\n",
              "      <td>576</td>\n",
              "      <td>163</td>\n",
              "      <td>580</td>\n",
              "      <td>155</td>\n",
              "      <td>640</td>\n",
              "      <td>15</td>\n",
              "      <td>665</td>\n",
              "      <td>32</td>\n",
              "    </tr>\n",
              "    <tr>\n",
              "      <th>...</th>\n",
              "      <td>...</td>\n",
              "      <td>...</td>\n",
              "      <td>...</td>\n",
              "      <td>...</td>\n",
              "      <td>...</td>\n",
              "      <td>...</td>\n",
              "      <td>...</td>\n",
              "      <td>...</td>\n",
              "      <td>...</td>\n",
              "      <td>...</td>\n",
              "      <td>...</td>\n",
              "      <td>...</td>\n",
              "      <td>...</td>\n",
              "      <td>...</td>\n",
              "      <td>...</td>\n",
              "      <td>...</td>\n",
              "      <td>...</td>\n",
              "      <td>...</td>\n",
              "      <td>...</td>\n",
              "      <td>...</td>\n",
              "      <td>...</td>\n",
              "      <td>...</td>\n",
              "      <td>...</td>\n",
              "      <td>...</td>\n",
              "      <td>...</td>\n",
              "      <td>...</td>\n",
              "      <td>...</td>\n",
              "      <td>...</td>\n",
              "      <td>...</td>\n",
              "      <td>...</td>\n",
              "      <td>...</td>\n",
              "      <td>...</td>\n",
              "      <td>...</td>\n",
              "      <td>...</td>\n",
              "    </tr>\n",
              "    <tr>\n",
              "      <th>195</th>\n",
              "      <td>747</td>\n",
              "      <td>504</td>\n",
              "      <td>751</td>\n",
              "      <td>520</td>\n",
              "      <td>732</td>\n",
              "      <td>512</td>\n",
              "      <td>759</td>\n",
              "      <td>520</td>\n",
              "      <td>692</td>\n",
              "      <td>504</td>\n",
              "      <td>664</td>\n",
              "      <td>480</td>\n",
              "      <td>668</td>\n",
              "      <td>413</td>\n",
              "      <td>652</td>\n",
              "      <td>381</td>\n",
              "      <td>660</td>\n",
              "      <td>337</td>\n",
              "      <td>692</td>\n",
              "      <td>333</td>\n",
              "      <td>688</td>\n",
              "      <td>281</td>\n",
              "      <td>573</td>\n",
              "      <td>293</td>\n",
              "      <td>485</td>\n",
              "      <td>305</td>\n",
              "      <td>605</td>\n",
              "      <td>127</td>\n",
              "      <td>394</td>\n",
              "      <td>162</td>\n",
              "      <td>620</td>\n",
              "      <td>4</td>\n",
              "      <td>350</td>\n",
              "      <td>349</td>\n",
              "    </tr>\n",
              "    <tr>\n",
              "      <th>196</th>\n",
              "      <td>748</td>\n",
              "      <td>503</td>\n",
              "      <td>752</td>\n",
              "      <td>519</td>\n",
              "      <td>731</td>\n",
              "      <td>515</td>\n",
              "      <td>760</td>\n",
              "      <td>515</td>\n",
              "      <td>694</td>\n",
              "      <td>507</td>\n",
              "      <td>658</td>\n",
              "      <td>483</td>\n",
              "      <td>670</td>\n",
              "      <td>417</td>\n",
              "      <td>662</td>\n",
              "      <td>384</td>\n",
              "      <td>658</td>\n",
              "      <td>339</td>\n",
              "      <td>690</td>\n",
              "      <td>335</td>\n",
              "      <td>686</td>\n",
              "      <td>286</td>\n",
              "      <td>572</td>\n",
              "      <td>298</td>\n",
              "      <td>490</td>\n",
              "      <td>303</td>\n",
              "      <td>604</td>\n",
              "      <td>127</td>\n",
              "      <td>392</td>\n",
              "      <td>163</td>\n",
              "      <td>621</td>\n",
              "      <td>4</td>\n",
              "      <td>347</td>\n",
              "      <td>348</td>\n",
              "    </tr>\n",
              "    <tr>\n",
              "      <th>197</th>\n",
              "      <td>751</td>\n",
              "      <td>503</td>\n",
              "      <td>755</td>\n",
              "      <td>520</td>\n",
              "      <td>731</td>\n",
              "      <td>516</td>\n",
              "      <td>759</td>\n",
              "      <td>520</td>\n",
              "      <td>690</td>\n",
              "      <td>507</td>\n",
              "      <td>661</td>\n",
              "      <td>483</td>\n",
              "      <td>665</td>\n",
              "      <td>413</td>\n",
              "      <td>649</td>\n",
              "      <td>380</td>\n",
              "      <td>657</td>\n",
              "      <td>331</td>\n",
              "      <td>690</td>\n",
              "      <td>343</td>\n",
              "      <td>685</td>\n",
              "      <td>286</td>\n",
              "      <td>567</td>\n",
              "      <td>294</td>\n",
              "      <td>489</td>\n",
              "      <td>306</td>\n",
              "      <td>599</td>\n",
              "      <td>130</td>\n",
              "      <td>390</td>\n",
              "      <td>167</td>\n",
              "      <td>620</td>\n",
              "      <td>3</td>\n",
              "      <td>349</td>\n",
              "      <td>347</td>\n",
              "    </tr>\n",
              "    <tr>\n",
              "      <th>198</th>\n",
              "      <td>751</td>\n",
              "      <td>502</td>\n",
              "      <td>755</td>\n",
              "      <td>523</td>\n",
              "      <td>730</td>\n",
              "      <td>515</td>\n",
              "      <td>760</td>\n",
              "      <td>523</td>\n",
              "      <td>693</td>\n",
              "      <td>511</td>\n",
              "      <td>664</td>\n",
              "      <td>482</td>\n",
              "      <td>664</td>\n",
              "      <td>415</td>\n",
              "      <td>668</td>\n",
              "      <td>382</td>\n",
              "      <td>656</td>\n",
              "      <td>336</td>\n",
              "      <td>689</td>\n",
              "      <td>344</td>\n",
              "      <td>685</td>\n",
              "      <td>286</td>\n",
              "      <td>568</td>\n",
              "      <td>294</td>\n",
              "      <td>489</td>\n",
              "      <td>307</td>\n",
              "      <td>601</td>\n",
              "      <td>128</td>\n",
              "      <td>385</td>\n",
              "      <td>170</td>\n",
              "      <td>622</td>\n",
              "      <td>3</td>\n",
              "      <td>348</td>\n",
              "      <td>348</td>\n",
              "    </tr>\n",
              "    <tr>\n",
              "      <th>199</th>\n",
              "      <td>751</td>\n",
              "      <td>500</td>\n",
              "      <td>755</td>\n",
              "      <td>521</td>\n",
              "      <td>730</td>\n",
              "      <td>513</td>\n",
              "      <td>759</td>\n",
              "      <td>517</td>\n",
              "      <td>692</td>\n",
              "      <td>509</td>\n",
              "      <td>663</td>\n",
              "      <td>484</td>\n",
              "      <td>667</td>\n",
              "      <td>413</td>\n",
              "      <td>667</td>\n",
              "      <td>383</td>\n",
              "      <td>654</td>\n",
              "      <td>333</td>\n",
              "      <td>688</td>\n",
              "      <td>333</td>\n",
              "      <td>684</td>\n",
              "      <td>287</td>\n",
              "      <td>575</td>\n",
              "      <td>295</td>\n",
              "      <td>491</td>\n",
              "      <td>312</td>\n",
              "      <td>604</td>\n",
              "      <td>124</td>\n",
              "      <td>382</td>\n",
              "      <td>170</td>\n",
              "      <td>621</td>\n",
              "      <td>3</td>\n",
              "      <td>345</td>\n",
              "      <td>350</td>\n",
              "    </tr>\n",
              "  </tbody>\n",
              "</table>\n",
              "<p>200 rows × 34 columns</p>\n",
              "</div>"
            ],
            "text/plain": [
              "       nose_x  nose_y  left_eye_x  ...  left_ankle_y  right_ankle_x  right_ankle_y\n",
              "frame                              ...                                            \n",
              "0         588     580         609  ...            14            681             31\n",
              "1         590     577         611  ...            19            675             32\n",
              "2         589     579         606  ...            15            675             32\n",
              "3         590     581         607  ...            15            671             32\n",
              "4         589     580         610  ...            15            665             32\n",
              "...       ...     ...         ...  ...           ...            ...            ...\n",
              "195       747     504         751  ...             4            350            349\n",
              "196       748     503         752  ...             4            347            348\n",
              "197       751     503         755  ...             3            349            347\n",
              "198       751     502         755  ...             3            348            348\n",
              "199       751     500         755  ...             3            345            350\n",
              "\n",
              "[200 rows x 34 columns]"
            ]
          },
          "metadata": {
            "tags": []
          },
          "execution_count": 16
        }
      ]
    },
    {
      "cell_type": "markdown",
      "metadata": {
        "id": "o__OJmrTpSW-"
      },
      "source": [
        "##1.3. 関節部位の追加\n",
        "\n",
        "4つの特徴量を追加する。\n",
        "\n",
        "\n",
        "\n",
        "1.   middle_chest_x ←胸の中心 (x座標)\n",
        "2.   middle_chest_y ←胸の中心 (y座標)\n",
        "3.   wrist_chest_distance_right ←胸と右手首までの距離 (y座標のみ)\n",
        "4.   wrist_chest_distance_left ←胸と左手首までの距離 (y座標のみ)\n",
        "\n"
      ]
    },
    {
      "cell_type": "code",
      "metadata": {
        "id": "3zahiucMC8cB"
      },
      "source": [
        "import numpy as np\n",
        "#df_A\n",
        "\n",
        "def expand_bodyRegion(df_element):\n",
        "  df_element['middle_chest_x']=np.sqrt((df_element['left_shoulder_x']-df_element['right_shoulder_x'])**2)\n",
        "  df_element['middle_chest_y']=np.sqrt((df_element['left_shoulder_y']-df_element['right_shoulder_y'])**2)\n",
        "\n",
        "  df_element['from_Rhand_to_chest']=np.sqrt((df_element['middle_chest_x']- df_element['right_wrist_x'])**2+(df_element['middle_chest_x'] - df_element['right_wrist_y'])**2)\n",
        "  df_element['from_Lhand_to_chest']=np.sqrt((df_element['middle_chest_y'] - df_element['left_wrist_x'])**2+(df_element['middle_chest_y'] - df_element['left_wrist_y'])**2)\n",
        "\n",
        "  return df_element\n",
        "\n",
        "df_A=expand_bodyRegion(df_A)\n",
        "df_B=expand_bodyRegion(df_B)"
      ],
      "execution_count": 17,
      "outputs": []
    },
    {
      "cell_type": "code",
      "metadata": {
        "colab": {
          "base_uri": "https://localhost:8080/",
          "height": 494
        },
        "id": "-G7FyMm0Nphs",
        "outputId": "a85e41ec-09e9-44c4-c607-e4ec8b0a1cb6"
      },
      "source": [
        "df_A"
      ],
      "execution_count": 18,
      "outputs": [
        {
          "output_type": "execute_result",
          "data": {
            "text/html": [
              "<div>\n",
              "<style scoped>\n",
              "    .dataframe tbody tr th:only-of-type {\n",
              "        vertical-align: middle;\n",
              "    }\n",
              "\n",
              "    .dataframe tbody tr th {\n",
              "        vertical-align: top;\n",
              "    }\n",
              "\n",
              "    .dataframe thead th {\n",
              "        text-align: right;\n",
              "    }\n",
              "</style>\n",
              "<table border=\"1\" class=\"dataframe\">\n",
              "  <thead>\n",
              "    <tr style=\"text-align: right;\">\n",
              "      <th></th>\n",
              "      <th>nose_x</th>\n",
              "      <th>nose_y</th>\n",
              "      <th>left_eye_x</th>\n",
              "      <th>left_eye_y</th>\n",
              "      <th>right_eye_x</th>\n",
              "      <th>right_eye_y</th>\n",
              "      <th>left_ear_x</th>\n",
              "      <th>left_ear_y</th>\n",
              "      <th>right_ear_x</th>\n",
              "      <th>right_ear_y</th>\n",
              "      <th>left_shoulder_x</th>\n",
              "      <th>left_shoulder_y</th>\n",
              "      <th>right_shoulder_x</th>\n",
              "      <th>right_shoulder_y</th>\n",
              "      <th>left_elbow_x</th>\n",
              "      <th>left_elbow_y</th>\n",
              "      <th>right_elbow_x</th>\n",
              "      <th>right_elbow_y</th>\n",
              "      <th>left_wrist_x</th>\n",
              "      <th>left_wrist_y</th>\n",
              "      <th>right_wrist_x</th>\n",
              "      <th>right_wrist_y</th>\n",
              "      <th>left_hip_x</th>\n",
              "      <th>left_hip_y</th>\n",
              "      <th>right_hip_x</th>\n",
              "      <th>right_hip_y</th>\n",
              "      <th>left_knee_x</th>\n",
              "      <th>left_knee_y</th>\n",
              "      <th>right_knee_x</th>\n",
              "      <th>right_knee_y</th>\n",
              "      <th>left_ankle_x</th>\n",
              "      <th>left_ankle_y</th>\n",
              "      <th>right_ankle_x</th>\n",
              "      <th>right_ankle_y</th>\n",
              "      <th>middle_chest_x</th>\n",
              "      <th>middle_chest_y</th>\n",
              "      <th>from_Rhand_to_chest</th>\n",
              "      <th>from_Lhand_to_chest</th>\n",
              "    </tr>\n",
              "    <tr>\n",
              "      <th>frame</th>\n",
              "      <th></th>\n",
              "      <th></th>\n",
              "      <th></th>\n",
              "      <th></th>\n",
              "      <th></th>\n",
              "      <th></th>\n",
              "      <th></th>\n",
              "      <th></th>\n",
              "      <th></th>\n",
              "      <th></th>\n",
              "      <th></th>\n",
              "      <th></th>\n",
              "      <th></th>\n",
              "      <th></th>\n",
              "      <th></th>\n",
              "      <th></th>\n",
              "      <th></th>\n",
              "      <th></th>\n",
              "      <th></th>\n",
              "      <th></th>\n",
              "      <th></th>\n",
              "      <th></th>\n",
              "      <th></th>\n",
              "      <th></th>\n",
              "      <th></th>\n",
              "      <th></th>\n",
              "      <th></th>\n",
              "      <th></th>\n",
              "      <th></th>\n",
              "      <th></th>\n",
              "      <th></th>\n",
              "      <th></th>\n",
              "      <th></th>\n",
              "      <th></th>\n",
              "      <th></th>\n",
              "      <th></th>\n",
              "      <th></th>\n",
              "      <th></th>\n",
              "    </tr>\n",
              "  </thead>\n",
              "  <tbody>\n",
              "    <tr>\n",
              "      <th>0</th>\n",
              "      <td>797</td>\n",
              "      <td>571</td>\n",
              "      <td>797</td>\n",
              "      <td>584</td>\n",
              "      <td>784</td>\n",
              "      <td>584</td>\n",
              "      <td>732</td>\n",
              "      <td>567</td>\n",
              "      <td>737</td>\n",
              "      <td>567</td>\n",
              "      <td>650</td>\n",
              "      <td>502</td>\n",
              "      <td>776</td>\n",
              "      <td>497</td>\n",
              "      <td>541</td>\n",
              "      <td>467</td>\n",
              "      <td>810</td>\n",
              "      <td>385</td>\n",
              "      <td>455</td>\n",
              "      <td>406</td>\n",
              "      <td>780</td>\n",
              "      <td>393</td>\n",
              "      <td>654</td>\n",
              "      <td>272</td>\n",
              "      <td>698</td>\n",
              "      <td>280</td>\n",
              "      <td>750</td>\n",
              "      <td>120</td>\n",
              "      <td>828</td>\n",
              "      <td>150</td>\n",
              "      <td>641</td>\n",
              "      <td>20</td>\n",
              "      <td>871</td>\n",
              "      <td>11</td>\n",
              "      <td>126.0</td>\n",
              "      <td>5.0</td>\n",
              "      <td>706.402860</td>\n",
              "      <td>602.744556</td>\n",
              "    </tr>\n",
              "    <tr>\n",
              "      <th>1</th>\n",
              "      <td>800</td>\n",
              "      <td>571</td>\n",
              "      <td>796</td>\n",
              "      <td>584</td>\n",
              "      <td>783</td>\n",
              "      <td>584</td>\n",
              "      <td>732</td>\n",
              "      <td>571</td>\n",
              "      <td>736</td>\n",
              "      <td>571</td>\n",
              "      <td>651</td>\n",
              "      <td>503</td>\n",
              "      <td>775</td>\n",
              "      <td>499</td>\n",
              "      <td>541</td>\n",
              "      <td>469</td>\n",
              "      <td>809</td>\n",
              "      <td>384</td>\n",
              "      <td>456</td>\n",
              "      <td>410</td>\n",
              "      <td>783</td>\n",
              "      <td>393</td>\n",
              "      <td>651</td>\n",
              "      <td>269</td>\n",
              "      <td>698</td>\n",
              "      <td>278</td>\n",
              "      <td>749</td>\n",
              "      <td>116</td>\n",
              "      <td>830</td>\n",
              "      <td>150</td>\n",
              "      <td>643</td>\n",
              "      <td>23</td>\n",
              "      <td>872</td>\n",
              "      <td>10</td>\n",
              "      <td>124.0</td>\n",
              "      <td>4.0</td>\n",
              "      <td>711.787890</td>\n",
              "      <td>607.568926</td>\n",
              "    </tr>\n",
              "    <tr>\n",
              "      <th>2</th>\n",
              "      <td>800</td>\n",
              "      <td>572</td>\n",
              "      <td>796</td>\n",
              "      <td>585</td>\n",
              "      <td>783</td>\n",
              "      <td>585</td>\n",
              "      <td>732</td>\n",
              "      <td>568</td>\n",
              "      <td>737</td>\n",
              "      <td>568</td>\n",
              "      <td>651</td>\n",
              "      <td>500</td>\n",
              "      <td>779</td>\n",
              "      <td>500</td>\n",
              "      <td>540</td>\n",
              "      <td>470</td>\n",
              "      <td>809</td>\n",
              "      <td>380</td>\n",
              "      <td>455</td>\n",
              "      <td>410</td>\n",
              "      <td>783</td>\n",
              "      <td>402</td>\n",
              "      <td>656</td>\n",
              "      <td>269</td>\n",
              "      <td>698</td>\n",
              "      <td>278</td>\n",
              "      <td>749</td>\n",
              "      <td>120</td>\n",
              "      <td>830</td>\n",
              "      <td>150</td>\n",
              "      <td>647</td>\n",
              "      <td>26</td>\n",
              "      <td>869</td>\n",
              "      <td>9</td>\n",
              "      <td>128.0</td>\n",
              "      <td>0.0</td>\n",
              "      <td>710.000704</td>\n",
              "      <td>612.474489</td>\n",
              "    </tr>\n",
              "    <tr>\n",
              "      <th>3</th>\n",
              "      <td>802</td>\n",
              "      <td>569</td>\n",
              "      <td>797</td>\n",
              "      <td>586</td>\n",
              "      <td>785</td>\n",
              "      <td>581</td>\n",
              "      <td>734</td>\n",
              "      <td>569</td>\n",
              "      <td>734</td>\n",
              "      <td>569</td>\n",
              "      <td>653</td>\n",
              "      <td>501</td>\n",
              "      <td>776</td>\n",
              "      <td>501</td>\n",
              "      <td>538</td>\n",
              "      <td>467</td>\n",
              "      <td>802</td>\n",
              "      <td>395</td>\n",
              "      <td>458</td>\n",
              "      <td>412</td>\n",
              "      <td>789</td>\n",
              "      <td>412</td>\n",
              "      <td>657</td>\n",
              "      <td>267</td>\n",
              "      <td>700</td>\n",
              "      <td>276</td>\n",
              "      <td>751</td>\n",
              "      <td>115</td>\n",
              "      <td>831</td>\n",
              "      <td>149</td>\n",
              "      <td>645</td>\n",
              "      <td>26</td>\n",
              "      <td>869</td>\n",
              "      <td>9</td>\n",
              "      <td>123.0</td>\n",
              "      <td>0.0</td>\n",
              "      <td>726.000689</td>\n",
              "      <td>616.042206</td>\n",
              "    </tr>\n",
              "    <tr>\n",
              "      <th>4</th>\n",
              "      <td>799</td>\n",
              "      <td>571</td>\n",
              "      <td>799</td>\n",
              "      <td>583</td>\n",
              "      <td>782</td>\n",
              "      <td>583</td>\n",
              "      <td>735</td>\n",
              "      <td>567</td>\n",
              "      <td>735</td>\n",
              "      <td>567</td>\n",
              "      <td>651</td>\n",
              "      <td>499</td>\n",
              "      <td>778</td>\n",
              "      <td>499</td>\n",
              "      <td>538</td>\n",
              "      <td>470</td>\n",
              "      <td>803</td>\n",
              "      <td>382</td>\n",
              "      <td>458</td>\n",
              "      <td>415</td>\n",
              "      <td>786</td>\n",
              "      <td>415</td>\n",
              "      <td>660</td>\n",
              "      <td>264</td>\n",
              "      <td>702</td>\n",
              "      <td>277</td>\n",
              "      <td>752</td>\n",
              "      <td>113</td>\n",
              "      <td>828</td>\n",
              "      <td>150</td>\n",
              "      <td>643</td>\n",
              "      <td>24</td>\n",
              "      <td>866</td>\n",
              "      <td>12</td>\n",
              "      <td>127.0</td>\n",
              "      <td>0.0</td>\n",
              "      <td>719.183565</td>\n",
              "      <td>618.052587</td>\n",
              "    </tr>\n",
              "    <tr>\n",
              "      <th>...</th>\n",
              "      <td>...</td>\n",
              "      <td>...</td>\n",
              "      <td>...</td>\n",
              "      <td>...</td>\n",
              "      <td>...</td>\n",
              "      <td>...</td>\n",
              "      <td>...</td>\n",
              "      <td>...</td>\n",
              "      <td>...</td>\n",
              "      <td>...</td>\n",
              "      <td>...</td>\n",
              "      <td>...</td>\n",
              "      <td>...</td>\n",
              "      <td>...</td>\n",
              "      <td>...</td>\n",
              "      <td>...</td>\n",
              "      <td>...</td>\n",
              "      <td>...</td>\n",
              "      <td>...</td>\n",
              "      <td>...</td>\n",
              "      <td>...</td>\n",
              "      <td>...</td>\n",
              "      <td>...</td>\n",
              "      <td>...</td>\n",
              "      <td>...</td>\n",
              "      <td>...</td>\n",
              "      <td>...</td>\n",
              "      <td>...</td>\n",
              "      <td>...</td>\n",
              "      <td>...</td>\n",
              "      <td>...</td>\n",
              "      <td>...</td>\n",
              "      <td>...</td>\n",
              "      <td>...</td>\n",
              "      <td>...</td>\n",
              "      <td>...</td>\n",
              "      <td>...</td>\n",
              "      <td>...</td>\n",
              "    </tr>\n",
              "    <tr>\n",
              "      <th>195</th>\n",
              "      <td>667</td>\n",
              "      <td>465</td>\n",
              "      <td>689</td>\n",
              "      <td>475</td>\n",
              "      <td>664</td>\n",
              "      <td>479</td>\n",
              "      <td>729</td>\n",
              "      <td>461</td>\n",
              "      <td>656</td>\n",
              "      <td>479</td>\n",
              "      <td>743</td>\n",
              "      <td>374</td>\n",
              "      <td>685</td>\n",
              "      <td>414</td>\n",
              "      <td>693</td>\n",
              "      <td>265</td>\n",
              "      <td>689</td>\n",
              "      <td>284</td>\n",
              "      <td>606</td>\n",
              "      <td>197</td>\n",
              "      <td>671</td>\n",
              "      <td>356</td>\n",
              "      <td>888</td>\n",
              "      <td>284</td>\n",
              "      <td>801</td>\n",
              "      <td>269</td>\n",
              "      <td>928</td>\n",
              "      <td>99</td>\n",
              "      <td>794</td>\n",
              "      <td>135</td>\n",
              "      <td>874</td>\n",
              "      <td>95</td>\n",
              "      <td>812</td>\n",
              "      <td>8</td>\n",
              "      <td>58.0</td>\n",
              "      <td>40.0</td>\n",
              "      <td>681.595921</td>\n",
              "      <td>587.371262</td>\n",
              "    </tr>\n",
              "    <tr>\n",
              "      <th>196</th>\n",
              "      <td>668</td>\n",
              "      <td>461</td>\n",
              "      <td>686</td>\n",
              "      <td>475</td>\n",
              "      <td>665</td>\n",
              "      <td>479</td>\n",
              "      <td>730</td>\n",
              "      <td>461</td>\n",
              "      <td>654</td>\n",
              "      <td>479</td>\n",
              "      <td>744</td>\n",
              "      <td>370</td>\n",
              "      <td>676</td>\n",
              "      <td>410</td>\n",
              "      <td>694</td>\n",
              "      <td>269</td>\n",
              "      <td>694</td>\n",
              "      <td>284</td>\n",
              "      <td>607</td>\n",
              "      <td>201</td>\n",
              "      <td>665</td>\n",
              "      <td>356</td>\n",
              "      <td>889</td>\n",
              "      <td>284</td>\n",
              "      <td>802</td>\n",
              "      <td>269</td>\n",
              "      <td>928</td>\n",
              "      <td>100</td>\n",
              "      <td>795</td>\n",
              "      <td>136</td>\n",
              "      <td>874</td>\n",
              "      <td>96</td>\n",
              "      <td>809</td>\n",
              "      <td>6</td>\n",
              "      <td>68.0</td>\n",
              "      <td>40.0</td>\n",
              "      <td>662.837084</td>\n",
              "      <td>589.414964</td>\n",
              "    </tr>\n",
              "    <tr>\n",
              "      <th>197</th>\n",
              "      <td>664</td>\n",
              "      <td>462</td>\n",
              "      <td>685</td>\n",
              "      <td>473</td>\n",
              "      <td>661</td>\n",
              "      <td>480</td>\n",
              "      <td>728</td>\n",
              "      <td>459</td>\n",
              "      <td>657</td>\n",
              "      <td>480</td>\n",
              "      <td>738</td>\n",
              "      <td>367</td>\n",
              "      <td>678</td>\n",
              "      <td>409</td>\n",
              "      <td>692</td>\n",
              "      <td>265</td>\n",
              "      <td>685</td>\n",
              "      <td>286</td>\n",
              "      <td>608</td>\n",
              "      <td>201</td>\n",
              "      <td>668</td>\n",
              "      <td>353</td>\n",
              "      <td>890</td>\n",
              "      <td>282</td>\n",
              "      <td>805</td>\n",
              "      <td>272</td>\n",
              "      <td>929</td>\n",
              "      <td>99</td>\n",
              "      <td>795</td>\n",
              "      <td>138</td>\n",
              "      <td>879</td>\n",
              "      <td>103</td>\n",
              "      <td>812</td>\n",
              "      <td>4</td>\n",
              "      <td>60.0</td>\n",
              "      <td>42.0</td>\n",
              "      <td>674.917032</td>\n",
              "      <td>587.909007</td>\n",
              "    </tr>\n",
              "    <tr>\n",
              "      <th>198</th>\n",
              "      <td>668</td>\n",
              "      <td>461</td>\n",
              "      <td>686</td>\n",
              "      <td>471</td>\n",
              "      <td>661</td>\n",
              "      <td>479</td>\n",
              "      <td>729</td>\n",
              "      <td>461</td>\n",
              "      <td>657</td>\n",
              "      <td>479</td>\n",
              "      <td>740</td>\n",
              "      <td>367</td>\n",
              "      <td>679</td>\n",
              "      <td>410</td>\n",
              "      <td>693</td>\n",
              "      <td>270</td>\n",
              "      <td>686</td>\n",
              "      <td>281</td>\n",
              "      <td>610</td>\n",
              "      <td>206</td>\n",
              "      <td>657</td>\n",
              "      <td>371</td>\n",
              "      <td>890</td>\n",
              "      <td>285</td>\n",
              "      <td>801</td>\n",
              "      <td>278</td>\n",
              "      <td>933</td>\n",
              "      <td>98</td>\n",
              "      <td>797</td>\n",
              "      <td>138</td>\n",
              "      <td>880</td>\n",
              "      <td>105</td>\n",
              "      <td>815</td>\n",
              "      <td>5</td>\n",
              "      <td>61.0</td>\n",
              "      <td>43.0</td>\n",
              "      <td>671.800566</td>\n",
              "      <td>589.964406</td>\n",
              "    </tr>\n",
              "    <tr>\n",
              "      <th>199</th>\n",
              "      <td>665</td>\n",
              "      <td>460</td>\n",
              "      <td>683</td>\n",
              "      <td>471</td>\n",
              "      <td>662</td>\n",
              "      <td>478</td>\n",
              "      <td>726</td>\n",
              "      <td>460</td>\n",
              "      <td>655</td>\n",
              "      <td>478</td>\n",
              "      <td>737</td>\n",
              "      <td>367</td>\n",
              "      <td>665</td>\n",
              "      <td>407</td>\n",
              "      <td>690</td>\n",
              "      <td>267</td>\n",
              "      <td>683</td>\n",
              "      <td>281</td>\n",
              "      <td>615</td>\n",
              "      <td>210</td>\n",
              "      <td>626</td>\n",
              "      <td>224</td>\n",
              "      <td>894</td>\n",
              "      <td>285</td>\n",
              "      <td>801</td>\n",
              "      <td>278</td>\n",
              "      <td>933</td>\n",
              "      <td>99</td>\n",
              "      <td>797</td>\n",
              "      <td>138</td>\n",
              "      <td>883</td>\n",
              "      <td>106</td>\n",
              "      <td>815</td>\n",
              "      <td>6</td>\n",
              "      <td>72.0</td>\n",
              "      <td>40.0</td>\n",
              "      <td>574.473672</td>\n",
              "      <td>599.604036</td>\n",
              "    </tr>\n",
              "  </tbody>\n",
              "</table>\n",
              "<p>200 rows × 38 columns</p>\n",
              "</div>"
            ],
            "text/plain": [
              "       nose_x  nose_y  ...  from_Rhand_to_chest  from_Lhand_to_chest\n",
              "frame                  ...                                          \n",
              "0         797     571  ...           706.402860           602.744556\n",
              "1         800     571  ...           711.787890           607.568926\n",
              "2         800     572  ...           710.000704           612.474489\n",
              "3         802     569  ...           726.000689           616.042206\n",
              "4         799     571  ...           719.183565           618.052587\n",
              "...       ...     ...  ...                  ...                  ...\n",
              "195       667     465  ...           681.595921           587.371262\n",
              "196       668     461  ...           662.837084           589.414964\n",
              "197       664     462  ...           674.917032           587.909007\n",
              "198       668     461  ...           671.800566           589.964406\n",
              "199       665     460  ...           574.473672           599.604036\n",
              "\n",
              "[200 rows x 38 columns]"
            ]
          },
          "metadata": {
            "tags": []
          },
          "execution_count": 18
        }
      ]
    },
    {
      "cell_type": "markdown",
      "metadata": {
        "id": "BthxrSToLqCD"
      },
      "source": [
        "#2. 関節座標を時間遷移でアニメーショングラフ化"
      ]
    },
    {
      "cell_type": "markdown",
      "metadata": {
        "id": "6fHSWTYvRLFv"
      },
      "source": [
        "##2.1. 部位ごとに静止画のグラフ化する。"
      ]
    },
    {
      "cell_type": "code",
      "metadata": {
        "id": "YxJqUz5tjhI9",
        "colab": {
          "base_uri": "https://localhost:8080/",
          "height": 1000,
          "referenced_widgets": [
            "708a50f371134de2927dc4bc469342b2",
            "aa31a9b8b6374c22815654b29f9ed283",
            "5c4312cb1c8443f29902d20d35b70ff8",
            "f73bfd745b2e4922b9a0379984d7f7eb",
            "3bae587f23e94732946634b1e08e1002",
            "83ee687b882b4cf68ff6a156825004fd",
            "4a28306aabcc4d36a79d39b0d48e2869",
            "b86094d1472c47d2a8ab11de674317d4",
            "989b210bc7984d0186e324577764a7bb",
            "3576c7affcfb4b97a4adc6c10d989d2d",
            "6a902f9a3f3547499d1941bb1621a976",
            "5c0cf783b05247beabd16cef93cfcb38",
            "371be9b214464fafb88608b2ba38b7c1",
            "70741b80b85d41a8a9f97c7eb68cd391",
            "e9d7d83d00434857943d027b4c3ae739",
            "ee010c0227fb44e599b23cfafee32419",
            "4ac6035f90f2427f93a6d76a7be70c88",
            "21fb27e8983c4368a4796ac8c0fca3e6",
            "4043404fb5744377a3ba663f697bc8f7",
            "d672c22e326742ffaabb7fb5a63a9234",
            "dda343bcf13d4c4eb1d37d8dd9a00387",
            "1b31c853dfdb42d79d21fff02956fbc5",
            "52d747545be8432fb496f9c6e5e528ed",
            "eb51efe702f34cce91a6a64c0f21149a",
            "4787f6e37a244fddb960ba017b34c54a",
            "3998c5233ee9469b95a0332c2924e738",
            "5918d2a448434dee9f77dd297ecfcfb3",
            "47d83f4752f1431cb8cb263e7f4dc5bb",
            "e4b8ba29a24f4ecc83474707ac29cf55",
            "9ea3ffccd418492ba9540bcf40910681",
            "ea01780b6136481dbc763a9669a5929b",
            "2d3d7faff56a45618d92daff5ec4e565",
            "9bab3dc2312f48a1a49cc9e36a1c2421",
            "8f204561eb7c445aab53edc8dd3f0061",
            "15a130ae183542a0b9e3ba3157580678",
            "8d6e0cb2ab13462196940a0a79bcd023",
            "8675c24875244e0f8439c94aac6761a5",
            "5a0a26c23e8645c48d84bf7971914166",
            "fb5162b2a415479ca33a7d775491155b",
            "208c01c789b54adba61f752affd5f966",
            "896afe32a1fb480eae149de4080b23d1",
            "cc40d27c885f437e930030c72e47e59b",
            "684804d6519a47e8841123f79e867b2f",
            "7ad3d41e848b4562a74a9dce9786806c",
            "965a11dd9c0d4fef83d1ff937604d383",
            "fbf8aa6083794854b861792687004221",
            "e972c4e1efd546f5b777b70928ce84f0",
            "ec22fd5c39b84f5ba1c17f9e09c5ec9a",
            "9f18048c68674950bde887331eebe231",
            "f89407c5b5a84d35846bdd277e93c126",
            "b0b106e197c04466af7ecc3a317d84b3",
            "12aa431c23da4d92b4f768768d964b2b",
            "c45453a284584491818efc16e42d9d88",
            "2615c07dd03c449092369ebcfbfe47ac",
            "c5306b54758f472a90889d3d2589a7c5",
            "3854ab2f44b24326a79aadc9cce2eb3f",
            "0dedad8860be4a3aa00764678e53131b",
            "d11ae8800b1a42d5b04452b3ee86f622",
            "28b1607fac6e4851b098fbf9b23e7771",
            "4019f4b15ba14ef4a35cf845fa44e486",
            "f35470e6a46a49eb99a31bdf319e4808",
            "a3419622fd74428e8ebe51bfb1b957f9",
            "b5125ac064f945adb61b1712ec6f15c0",
            "4fe92f3324c249eaa61d0d2e56523b06",
            "de1c6ae347a74bcf98bf328edeb7e08c",
            "01e2e2e416ae4bce9a70a446ddaea8de",
            "2d2cf394218741c6aa81d951d2ff4758",
            "26e451a5178447d3b7c6e745ad9b9499",
            "7c3f9b06d61c47cebc3b4fe56777f9e9",
            "7aef537344924922b162db3feb1113c2",
            "c5daccad9e9b4bccb3580ca18a13f40d",
            "8a89a449173a4cdeb2e955dc7e112eb1"
          ]
        },
        "outputId": "062b6ef3-b729-410b-a4a4-f647f833211a"
      },
      "source": [
        "from matplotlib import pyplot as plt\n",
        "from matplotlib import animation\n",
        "from matplotlib import gridspec\n",
        "%matplotlib inline\n",
        "\n",
        "from tqdm.autonotebook import tqdm\n",
        "\n",
        "PARTS_PATH=\"./fig/\"\n",
        "\n",
        "def AniFigure(PARTS_PATH, df_A, df_B):\n",
        "\n",
        "    bodyRegion=['left_shoulder_y', 'right_shoulder_y', 'left_elbow_y', 'right_elbow_y', 'left_wrist_y', 'right_wrist_y', 'middle_chest_y',\t'from_Rhand_to_chest',\t'from_Lhand_to_chest'] #bodyRegion='部位(?)'\n",
        "\n",
        "    #bodyRegion=['wrist_chest_distance_right',\t'wrist_chest_distance_left']\n",
        "    #------------------------------------------------------------------------------\n",
        "    #関節部位ごとでグラフを作成する。\n",
        "    #------------------------------------------------------------------------------\n",
        "    for element in bodyRegion:\n",
        "      print('plotting %s ...' % element)\n",
        "      print()\n",
        "      import os \n",
        "      try:\n",
        "        os.mkdir(PARTS_PATH)\n",
        "      except:\n",
        "        print('       the directory already exists')\n",
        "        print()\n",
        "      try:\n",
        "        os.mkdir(PARTS_PATH+element+\"/\")\n",
        "      except:\n",
        "        print('       the directory already exists')\n",
        "        print()\n",
        "\n",
        "      df_A_element=df_A['%s' % element]\n",
        "      list_coords_onePart_A=df_A_element.values.tolist()\n",
        "\n",
        "      df_B_element=df_B['%s' % element]\n",
        "      list_coords_onePart_B=df_B_element.values.tolist()\n",
        "\n",
        "      # 描画領域\n",
        "      fig = plt.figure()\n",
        "      # 描画するデータ (最初は空にする)\n",
        "      list_x = []\n",
        "      list_x.clear()\n",
        "      #list_y = []\n",
        "      #list_y.clear()\n",
        "\n",
        "      list_y_dff=[]\n",
        "      list_y_dff.clear()\n",
        "\n",
        "      y_now, y_past=[], []\n",
        "      y_now.clear()\n",
        "      y_past.clear()     \n",
        "      #------------------------------------------------------------------------------\n",
        "      #グラフを更新する\n",
        "      #------------------------------------------------------------------------------\n",
        "      for frame in tqdm(range(0, 20,1)): #len(list_coords_onePart_A)\n",
        "        plt.cla() #図をcloseする\n",
        "        plt.clf() #図をclearする\n",
        "        fig = plt.figure(figsize=(21,9))\n",
        "        spec = gridspec.GridSpec(ncols=1, nrows=2, height_ratios=[1,2])\n",
        "        ax1 = fig.add_subplot(spec[0])\n",
        "        ax2 = fig.add_subplot(spec[1])\n",
        "\n",
        "        #------------------------------------------------------------------------------\n",
        "        #グラフ下半分について\n",
        "        #------------------------------------------------------------------------------\n",
        "        list_x.append(frame) \n",
        "        #print(list_coords_y[int(frame)])\n",
        "        #--------------------------------------------\n",
        "        #使わなくなった部分\n",
        "        #--------------------------------------------\n",
        "        #y_frame=[]\n",
        "        #y_frame.clear()\n",
        "        #y_frame.append(list_coords_onePart_A[int(frame)])\n",
        "        #y_frame.append(list_coords_onePart_B[int(frame)])\n",
        "        #y.append(y_frame)\n",
        "        #--------------------------------------------\n",
        "        #追加した部分\n",
        "        #--------------------------------------------  \n",
        "        y_now.append(list_coords_onePart_A[int(frame)])\n",
        "        y_past.append(list_coords_onePart_B[int(frame)])\n",
        "        #--------------------------------------------\n",
        "        ax2.set_xlabel(\"frame (Not time)\")\n",
        "        ax2.set_ylabel(\"height (pixcel)\")\n",
        "        ax2.set_xlim((0, len(list_coords_onePart_A)+5))\n",
        "        ax2.set_ylim((0,900))\n",
        "        ax2.grid(True, axis='both')\n",
        "        #ax2.plot(x, y, linewidth = 3)\n",
        "        #print(y)\n",
        "        ax2.plot(list_x, y_now, linewidth = 3, color='mediumspringgreen')\n",
        "        ax2.plot(list_x, y_past, linewidth = 3, color='gray') #'lightskyblue'\n",
        "        \n",
        "        y_dff=abs(list_coords_onePart_A[int(frame)] - list_coords_onePart_B[int(frame)])\n",
        "        list_y_dff.append(y_dff)\n",
        "\n",
        "        ax1.set_xlabel(\"frame (Not time)\")\n",
        "        ax1.set_ylabel(\"gap of height (pixcel)\")\n",
        "        ax1.set_xlim((0, len(list_coords_onePart_A)+5))\n",
        "        ax1.set_ylim((-10,150))\n",
        "        ax1.grid(True, axis='both')\n",
        "        #print(x, list_y_dff)\n",
        "        ax1.plot(list_x, list_y_dff, linewidth = 3)\n",
        "        ax1.plot(list_x, list_y_dff, linewidth = 3, color='mediumspringgreen')\n",
        "\n",
        "        # 折れ線グラフを再描画する\n",
        "        fig.suptitle('%s' % element , fontsize=50)\n",
        "        plt.grid(True, axis='both')\n",
        "        #plt.legend(['now', 'past'], bbox_to_anchor=(1.05, 1), loc='upper center', borderaxespad=0, fontsize=18)\n",
        "        #plt.legend(['now', 'past'], ncol=2, borderaxespad=0., bbox_to_anchor=(0., 1.7, 1., 0.102), loc=3)\n",
        "        plt.savefig(PARTS_PATH+element+\"/AniFig_%s.jpg\" % (str(frame).zfill(5)), transparent = True, bbox_inches = 'tight', pad_inches = 0.1)\n",
        "        #plt.show()\n",
        "      #------------------------------------------------------------------------------\n",
        "      print('       %s Done!' % element)\n",
        "      print()\n",
        "      #------------------------------------------------------------------------------\n",
        "      \n",
        "AniFigure(PARTS_PATH, df_A, df_B)"
      ],
      "execution_count": 34,
      "outputs": [
        {
          "output_type": "stream",
          "text": [
            "plotting left_shoulder_y ...\n",
            "\n",
            "       the directory already exists\n",
            "\n",
            "       the directory already exists\n",
            "\n"
          ],
          "name": "stdout"
        },
        {
          "output_type": "display_data",
          "data": {
            "application/vnd.jupyter.widget-view+json": {
              "model_id": "708a50f371134de2927dc4bc469342b2",
              "version_minor": 0,
              "version_major": 2
            },
            "text/plain": [
              "HBox(children=(FloatProgress(value=0.0, max=20.0), HTML(value='')))"
            ]
          },
          "metadata": {
            "tags": []
          }
        },
        {
          "output_type": "stream",
          "text": [
            "/usr/local/lib/python3.6/dist-packages/ipykernel_launcher.py:59: RuntimeWarning: More than 20 figures have been opened. Figures created through the pyplot interface (`matplotlib.pyplot.figure`) are retained until explicitly closed and may consume too much memory. (To control this warning, see the rcParam `figure.max_open_warning`).\n"
          ],
          "name": "stderr"
        },
        {
          "output_type": "stream",
          "text": [
            "\n",
            "       left_shoulder_y Done!\n",
            "\n",
            "plotting right_shoulder_y ...\n",
            "\n",
            "       the directory already exists\n",
            "\n",
            "       the directory already exists\n",
            "\n"
          ],
          "name": "stdout"
        },
        {
          "output_type": "stream",
          "text": [
            "/usr/local/lib/python3.6/dist-packages/ipykernel_launcher.py:40: RuntimeWarning: More than 20 figures have been opened. Figures created through the pyplot interface (`matplotlib.pyplot.figure`) are retained until explicitly closed and may consume too much memory. (To control this warning, see the rcParam `figure.max_open_warning`).\n"
          ],
          "name": "stderr"
        },
        {
          "output_type": "display_data",
          "data": {
            "application/vnd.jupyter.widget-view+json": {
              "model_id": "989b210bc7984d0186e324577764a7bb",
              "version_minor": 0,
              "version_major": 2
            },
            "text/plain": [
              "HBox(children=(FloatProgress(value=0.0, max=20.0), HTML(value='')))"
            ]
          },
          "metadata": {
            "tags": []
          }
        },
        {
          "output_type": "stream",
          "text": [
            "\n",
            "       right_shoulder_y Done!\n",
            "\n",
            "plotting left_elbow_y ...\n",
            "\n",
            "       the directory already exists\n",
            "\n",
            "       the directory already exists\n",
            "\n"
          ],
          "name": "stdout"
        },
        {
          "output_type": "display_data",
          "data": {
            "application/vnd.jupyter.widget-view+json": {
              "model_id": "4ac6035f90f2427f93a6d76a7be70c88",
              "version_minor": 0,
              "version_major": 2
            },
            "text/plain": [
              "HBox(children=(FloatProgress(value=0.0, max=20.0), HTML(value='')))"
            ]
          },
          "metadata": {
            "tags": []
          }
        },
        {
          "output_type": "stream",
          "text": [
            "\n",
            "       left_elbow_y Done!\n",
            "\n",
            "plotting right_elbow_y ...\n",
            "\n",
            "       the directory already exists\n",
            "\n",
            "       the directory already exists\n",
            "\n"
          ],
          "name": "stdout"
        },
        {
          "output_type": "display_data",
          "data": {
            "application/vnd.jupyter.widget-view+json": {
              "model_id": "4787f6e37a244fddb960ba017b34c54a",
              "version_minor": 0,
              "version_major": 2
            },
            "text/plain": [
              "HBox(children=(FloatProgress(value=0.0, max=20.0), HTML(value='')))"
            ]
          },
          "metadata": {
            "tags": []
          }
        },
        {
          "output_type": "stream",
          "text": [
            "\n",
            "       right_elbow_y Done!\n",
            "\n",
            "plotting left_wrist_y ...\n",
            "\n",
            "       the directory already exists\n",
            "\n",
            "       the directory already exists\n",
            "\n"
          ],
          "name": "stdout"
        },
        {
          "output_type": "display_data",
          "data": {
            "application/vnd.jupyter.widget-view+json": {
              "model_id": "9bab3dc2312f48a1a49cc9e36a1c2421",
              "version_minor": 0,
              "version_major": 2
            },
            "text/plain": [
              "HBox(children=(FloatProgress(value=0.0, max=20.0), HTML(value='')))"
            ]
          },
          "metadata": {
            "tags": []
          }
        },
        {
          "output_type": "stream",
          "text": [
            "\n",
            "       left_wrist_y Done!\n",
            "\n",
            "plotting right_wrist_y ...\n",
            "\n",
            "       the directory already exists\n",
            "\n",
            "       the directory already exists\n",
            "\n"
          ],
          "name": "stdout"
        },
        {
          "output_type": "display_data",
          "data": {
            "application/vnd.jupyter.widget-view+json": {
              "model_id": "896afe32a1fb480eae149de4080b23d1",
              "version_minor": 0,
              "version_major": 2
            },
            "text/plain": [
              "HBox(children=(FloatProgress(value=0.0, max=20.0), HTML(value='')))"
            ]
          },
          "metadata": {
            "tags": []
          }
        },
        {
          "output_type": "stream",
          "text": [
            "\n",
            "       right_wrist_y Done!\n",
            "\n",
            "plotting middle_chest_y ...\n",
            "\n",
            "       the directory already exists\n",
            "\n",
            "       the directory already exists\n",
            "\n"
          ],
          "name": "stdout"
        },
        {
          "output_type": "display_data",
          "data": {
            "application/vnd.jupyter.widget-view+json": {
              "model_id": "9f18048c68674950bde887331eebe231",
              "version_minor": 0,
              "version_major": 2
            },
            "text/plain": [
              "HBox(children=(FloatProgress(value=0.0, max=20.0), HTML(value='')))"
            ]
          },
          "metadata": {
            "tags": []
          }
        },
        {
          "output_type": "stream",
          "text": [
            "\n",
            "       middle_chest_y Done!\n",
            "\n",
            "plotting from_Rhand_to_chest ...\n",
            "\n",
            "       the directory already exists\n",
            "\n",
            "       the directory already exists\n",
            "\n"
          ],
          "name": "stdout"
        },
        {
          "output_type": "display_data",
          "data": {
            "application/vnd.jupyter.widget-view+json": {
              "model_id": "0dedad8860be4a3aa00764678e53131b",
              "version_minor": 0,
              "version_major": 2
            },
            "text/plain": [
              "HBox(children=(FloatProgress(value=0.0, max=20.0), HTML(value='')))"
            ]
          },
          "metadata": {
            "tags": []
          }
        },
        {
          "output_type": "stream",
          "text": [
            "\n",
            "       from_Rhand_to_chest Done!\n",
            "\n",
            "plotting from_Lhand_to_chest ...\n",
            "\n",
            "       the directory already exists\n",
            "\n",
            "       the directory already exists\n",
            "\n"
          ],
          "name": "stdout"
        },
        {
          "output_type": "display_data",
          "data": {
            "application/vnd.jupyter.widget-view+json": {
              "model_id": "de1c6ae347a74bcf98bf328edeb7e08c",
              "version_minor": 0,
              "version_major": 2
            },
            "text/plain": [
              "HBox(children=(FloatProgress(value=0.0, max=20.0), HTML(value='')))"
            ]
          },
          "metadata": {
            "tags": []
          }
        },
        {
          "output_type": "stream",
          "text": [
            "\n",
            "       from_Lhand_to_chest Done!\n",
            "\n"
          ],
          "name": "stdout"
        },
        {
          "output_type": "display_data",
          "data": {
            "text/plain": [
              "<Figure size 432x288 with 0 Axes>"
            ]
          },
          "metadata": {
            "tags": []
          }
        },
        {
          "output_type": "display_data",
          "data": {
            "text/plain": [
              "<Figure size 1512x648 with 0 Axes>"
            ]
          },
          "metadata": {
            "tags": []
          }
        },
        {
          "output_type": "display_data",
          "data": {
            "text/plain": [
              "<Figure size 1512x648 with 0 Axes>"
            ]
          },
          "metadata": {
            "tags": []
          }
        },
        {
          "output_type": "display_data",
          "data": {
            "text/plain": [
              "<Figure size 1512x648 with 0 Axes>"
            ]
          },
          "metadata": {
            "tags": []
          }
        },
        {
          "output_type": "display_data",
          "data": {
            "text/plain": [
              "<Figure size 1512x648 with 0 Axes>"
            ]
          },
          "metadata": {
            "tags": []
          }
        },
        {
          "output_type": "display_data",
          "data": {
            "text/plain": [
              "<Figure size 1512x648 with 0 Axes>"
            ]
          },
          "metadata": {
            "tags": []
          }
        },
        {
          "output_type": "display_data",
          "data": {
            "text/plain": [
              "<Figure size 1512x648 with 0 Axes>"
            ]
          },
          "metadata": {
            "tags": []
          }
        },
        {
          "output_type": "display_data",
          "data": {
            "text/plain": [
              "<Figure size 1512x648 with 0 Axes>"
            ]
          },
          "metadata": {
            "tags": []
          }
        },
        {
          "output_type": "display_data",
          "data": {
            "text/plain": [
              "<Figure size 1512x648 with 0 Axes>"
            ]
          },
          "metadata": {
            "tags": []
          }
        },
        {
          "output_type": "display_data",
          "data": {
            "text/plain": [
              "<Figure size 1512x648 with 0 Axes>"
            ]
          },
          "metadata": {
            "tags": []
          }
        },
        {
          "output_type": "display_data",
          "data": {
            "text/plain": [
              "<Figure size 1512x648 with 0 Axes>"
            ]
          },
          "metadata": {
            "tags": []
          }
        },
        {
          "output_type": "display_data",
          "data": {
            "text/plain": [
              "<Figure size 1512x648 with 0 Axes>"
            ]
          },
          "metadata": {
            "tags": []
          }
        },
        {
          "output_type": "display_data",
          "data": {
            "text/plain": [
              "<Figure size 1512x648 with 0 Axes>"
            ]
          },
          "metadata": {
            "tags": []
          }
        },
        {
          "output_type": "display_data",
          "data": {
            "text/plain": [
              "<Figure size 1512x648 with 0 Axes>"
            ]
          },
          "metadata": {
            "tags": []
          }
        },
        {
          "output_type": "display_data",
          "data": {
            "text/plain": [
              "<Figure size 1512x648 with 0 Axes>"
            ]
          },
          "metadata": {
            "tags": []
          }
        },
        {
          "output_type": "display_data",
          "data": {
            "text/plain": [
              "<Figure size 1512x648 with 0 Axes>"
            ]
          },
          "metadata": {
            "tags": []
          }
        },
        {
          "output_type": "display_data",
          "data": {
            "text/plain": [
              "<Figure size 1512x648 with 0 Axes>"
            ]
          },
          "metadata": {
            "tags": []
          }
        },
        {
          "output_type": "display_data",
          "data": {
            "text/plain": [
              "<Figure size 1512x648 with 0 Axes>"
            ]
          },
          "metadata": {
            "tags": []
          }
        },
        {
          "output_type": "display_data",
          "data": {
            "text/plain": [
              "<Figure size 1512x648 with 0 Axes>"
            ]
          },
          "metadata": {
            "tags": []
          }
        },
        {
          "output_type": "display_data",
          "data": {
            "text/plain": [
              "<Figure size 1512x648 with 0 Axes>"
            ]
          },
          "metadata": {
            "tags": []
          }
        },
        {
          "output_type": "display_data",
          "data": {
            "image/png": "[encoded data removed]",
            "text/plain": [
              "<Figure size 1512x648 with 2 Axes>"
            ]
          },
          "metadata": {
            "tags": [],
            "needs_background": "light"
          }
        },
        {
          "output_type": "display_data",
          "data": {
            "text/plain": [
              "<Figure size 432x288 with 0 Axes>"
            ]
          },
          "metadata": {
            "tags": []
          }
        },
        {
          "output_type": "display_data",
          "data": {
            "text/plain": [
              "<Figure size 1512x648 with 0 Axes>"
            ]
          },
          "metadata": {
            "tags": []
          }
        },
        {
          "output_type": "display_data",
          "data": {
            "text/plain": [
              "<Figure size 1512x648 with 0 Axes>"
            ]
          },
          "metadata": {
            "tags": []
          }
        },
        {
          "output_type": "display_data",
          "data": {
            "text/plain": [
              "<Figure size 1512x648 with 0 Axes>"
            ]
          },
          "metadata": {
            "tags": []
          }
        },
        {
          "output_type": "display_data",
          "data": {
            "text/plain": [
              "<Figure size 1512x648 with 0 Axes>"
            ]
          },
          "metadata": {
            "tags": []
          }
        },
        {
          "output_type": "display_data",
          "data": {
            "text/plain": [
              "<Figure size 1512x648 with 0 Axes>"
            ]
          },
          "metadata": {
            "tags": []
          }
        },
        {
          "output_type": "display_data",
          "data": {
            "text/plain": [
              "<Figure size 1512x648 with 0 Axes>"
            ]
          },
          "metadata": {
            "tags": []
          }
        },
        {
          "output_type": "display_data",
          "data": {
            "text/plain": [
              "<Figure size 1512x648 with 0 Axes>"
            ]
          },
          "metadata": {
            "tags": []
          }
        },
        {
          "output_type": "display_data",
          "data": {
            "text/plain": [
              "<Figure size 1512x648 with 0 Axes>"
            ]
          },
          "metadata": {
            "tags": []
          }
        },
        {
          "output_type": "display_data",
          "data": {
            "text/plain": [
              "<Figure size 1512x648 with 0 Axes>"
            ]
          },
          "metadata": {
            "tags": []
          }
        },
        {
          "output_type": "display_data",
          "data": {
            "text/plain": [
              "<Figure size 1512x648 with 0 Axes>"
            ]
          },
          "metadata": {
            "tags": []
          }
        },
        {
          "output_type": "display_data",
          "data": {
            "text/plain": [
              "<Figure size 1512x648 with 0 Axes>"
            ]
          },
          "metadata": {
            "tags": []
          }
        },
        {
          "output_type": "display_data",
          "data": {
            "text/plain": [
              "<Figure size 1512x648 with 0 Axes>"
            ]
          },
          "metadata": {
            "tags": []
          }
        },
        {
          "output_type": "display_data",
          "data": {
            "text/plain": [
              "<Figure size 1512x648 with 0 Axes>"
            ]
          },
          "metadata": {
            "tags": []
          }
        },
        {
          "output_type": "display_data",
          "data": {
            "text/plain": [
              "<Figure size 1512x648 with 0 Axes>"
            ]
          },
          "metadata": {
            "tags": []
          }
        },
        {
          "output_type": "display_data",
          "data": {
            "text/plain": [
              "<Figure size 1512x648 with 0 Axes>"
            ]
          },
          "metadata": {
            "tags": []
          }
        },
        {
          "output_type": "display_data",
          "data": {
            "text/plain": [
              "<Figure size 1512x648 with 0 Axes>"
            ]
          },
          "metadata": {
            "tags": []
          }
        },
        {
          "output_type": "display_data",
          "data": {
            "text/plain": [
              "<Figure size 1512x648 with 0 Axes>"
            ]
          },
          "metadata": {
            "tags": []
          }
        },
        {
          "output_type": "display_data",
          "data": {
            "text/plain": [
              "<Figure size 1512x648 with 0 Axes>"
            ]
          },
          "metadata": {
            "tags": []
          }
        },
        {
          "output_type": "display_data",
          "data": {
            "text/plain": [
              "<Figure size 1512x648 with 0 Axes>"
            ]
          },
          "metadata": {
            "tags": []
          }
        },
        {
          "output_type": "display_data",
          "data": {
            "image/png": "[encoded data removed]",
            "text/plain": [
              "<Figure size 1512x648 with 2 Axes>"
            ]
          },
          "metadata": {
            "tags": [],
            "needs_background": "light"
          }
        },
        {
          "output_type": "display_data",
          "data": {
            "text/plain": [
              "<Figure size 432x288 with 0 Axes>"
            ]
          },
          "metadata": {
            "tags": []
          }
        },
        {
          "output_type": "display_data",
          "data": {
            "text/plain": [
              "<Figure size 1512x648 with 0 Axes>"
            ]
          },
          "metadata": {
            "tags": []
          }
        },
        {
          "output_type": "display_data",
          "data": {
            "text/plain": [
              "<Figure size 1512x648 with 0 Axes>"
            ]
          },
          "metadata": {
            "tags": []
          }
        },
        {
          "output_type": "display_data",
          "data": {
            "text/plain": [
              "<Figure size 1512x648 with 0 Axes>"
            ]
          },
          "metadata": {
            "tags": []
          }
        },
        {
          "output_type": "display_data",
          "data": {
            "text/plain": [
              "<Figure size 1512x648 with 0 Axes>"
            ]
          },
          "metadata": {
            "tags": []
          }
        },
        {
          "output_type": "display_data",
          "data": {
            "text/plain": [
              "<Figure size 1512x648 with 0 Axes>"
            ]
          },
          "metadata": {
            "tags": []
          }
        },
        {
          "output_type": "display_data",
          "data": {
            "text/plain": [
              "<Figure size 1512x648 with 0 Axes>"
            ]
          },
          "metadata": {
            "tags": []
          }
        },
        {
          "output_type": "display_data",
          "data": {
            "text/plain": [
              "<Figure size 1512x648 with 0 Axes>"
            ]
          },
          "metadata": {
            "tags": []
          }
        },
        {
          "output_type": "display_data",
          "data": {
            "text/plain": [
              "<Figure size 1512x648 with 0 Axes>"
            ]
          },
          "metadata": {
            "tags": []
          }
        },
        {
          "output_type": "display_data",
          "data": {
            "text/plain": [
              "<Figure size 1512x648 with 0 Axes>"
            ]
          },
          "metadata": {
            "tags": []
          }
        },
        {
          "output_type": "display_data",
          "data": {
            "text/plain": [
              "<Figure size 1512x648 with 0 Axes>"
            ]
          },
          "metadata": {
            "tags": []
          }
        },
        {
          "output_type": "display_data",
          "data": {
            "text/plain": [
              "<Figure size 1512x648 with 0 Axes>"
            ]
          },
          "metadata": {
            "tags": []
          }
        },
        {
          "output_type": "display_data",
          "data": {
            "text/plain": [
              "<Figure size 1512x648 with 0 Axes>"
            ]
          },
          "metadata": {
            "tags": []
          }
        },
        {
          "output_type": "display_data",
          "data": {
            "text/plain": [
              "<Figure size 1512x648 with 0 Axes>"
            ]
          },
          "metadata": {
            "tags": []
          }
        },
        {
          "output_type": "display_data",
          "data": {
            "text/plain": [
              "<Figure size 1512x648 with 0 Axes>"
            ]
          },
          "metadata": {
            "tags": []
          }
        },
        {
          "output_type": "display_data",
          "data": {
            "text/plain": [
              "<Figure size 1512x648 with 0 Axes>"
            ]
          },
          "metadata": {
            "tags": []
          }
        },
        {
          "output_type": "display_data",
          "data": {
            "text/plain": [
              "<Figure size 1512x648 with 0 Axes>"
            ]
          },
          "metadata": {
            "tags": []
          }
        },
        {
          "output_type": "display_data",
          "data": {
            "text/plain": [
              "<Figure size 1512x648 with 0 Axes>"
            ]
          },
          "metadata": {
            "tags": []
          }
        },
        {
          "output_type": "display_data",
          "data": {
            "text/plain": [
              "<Figure size 1512x648 with 0 Axes>"
            ]
          },
          "metadata": {
            "tags": []
          }
        },
        {
          "output_type": "display_data",
          "data": {
            "text/plain": [
              "<Figure size 1512x648 with 0 Axes>"
            ]
          },
          "metadata": {
            "tags": []
          }
        },
        {
          "output_type": "display_data",
          "data": {
            "image/png": "[encoded data removed]",
            "text/plain": [
              "<Figure size 1512x648 with 2 Axes>"
            ]
          },
          "metadata": {
            "tags": [],
            "needs_background": "light"
          }
        },
        {
          "output_type": "display_data",
          "data": {
            "text/plain": [
              "<Figure size 432x288 with 0 Axes>"
            ]
          },
          "metadata": {
            "tags": []
          }
        },
        {
          "output_type": "display_data",
          "data": {
            "text/plain": [
              "<Figure size 1512x648 with 0 Axes>"
            ]
          },
          "metadata": {
            "tags": []
          }
        },
        {
          "output_type": "display_data",
          "data": {
            "text/plain": [
              "<Figure size 1512x648 with 0 Axes>"
            ]
          },
          "metadata": {
            "tags": []
          }
        },
        {
          "output_type": "display_data",
          "data": {
            "text/plain": [
              "<Figure size 1512x648 with 0 Axes>"
            ]
          },
          "metadata": {
            "tags": []
          }
        },
        {
          "output_type": "display_data",
          "data": {
            "text/plain": [
              "<Figure size 1512x648 with 0 Axes>"
            ]
          },
          "metadata": {
            "tags": []
          }
        },
        {
          "output_type": "display_data",
          "data": {
            "text/plain": [
              "<Figure size 1512x648 with 0 Axes>"
            ]
          },
          "metadata": {
            "tags": []
          }
        },
        {
          "output_type": "display_data",
          "data": {
            "text/plain": [
              "<Figure size 1512x648 with 0 Axes>"
            ]
          },
          "metadata": {
            "tags": []
          }
        },
        {
          "output_type": "display_data",
          "data": {
            "text/plain": [
              "<Figure size 1512x648 with 0 Axes>"
            ]
          },
          "metadata": {
            "tags": []
          }
        },
        {
          "output_type": "display_data",
          "data": {
            "text/plain": [
              "<Figure size 1512x648 with 0 Axes>"
            ]
          },
          "metadata": {
            "tags": []
          }
        },
        {
          "output_type": "display_data",
          "data": {
            "text/plain": [
              "<Figure size 1512x648 with 0 Axes>"
            ]
          },
          "metadata": {
            "tags": []
          }
        },
        {
          "output_type": "display_data",
          "data": {
            "text/plain": [
              "<Figure size 1512x648 with 0 Axes>"
            ]
          },
          "metadata": {
            "tags": []
          }
        },
        {
          "output_type": "display_data",
          "data": {
            "text/plain": [
              "<Figure size 1512x648 with 0 Axes>"
            ]
          },
          "metadata": {
            "tags": []
          }
        },
        {
          "output_type": "display_data",
          "data": {
            "text/plain": [
              "<Figure size 1512x648 with 0 Axes>"
            ]
          },
          "metadata": {
            "tags": []
          }
        },
        {
          "output_type": "display_data",
          "data": {
            "text/plain": [
              "<Figure size 1512x648 with 0 Axes>"
            ]
          },
          "metadata": {
            "tags": []
          }
        },
        {
          "output_type": "display_data",
          "data": {
            "text/plain": [
              "<Figure size 1512x648 with 0 Axes>"
            ]
          },
          "metadata": {
            "tags": []
          }
        },
        {
          "output_type": "display_data",
          "data": {
            "text/plain": [
              "<Figure size 1512x648 with 0 Axes>"
            ]
          },
          "metadata": {
            "tags": []
          }
        },
        {
          "output_type": "display_data",
          "data": {
            "text/plain": [
              "<Figure size 1512x648 with 0 Axes>"
            ]
          },
          "metadata": {
            "tags": []
          }
        },
        {
          "output_type": "display_data",
          "data": {
            "text/plain": [
              "<Figure size 1512x648 with 0 Axes>"
            ]
          },
          "metadata": {
            "tags": []
          }
        },
        {
          "output_type": "display_data",
          "data": {
            "text/plain": [
              "<Figure size 1512x648 with 0 Axes>"
            ]
          },
          "metadata": {
            "tags": []
          }
        },
        {
          "output_type": "display_data",
          "data": {
            "text/plain": [
              "<Figure size 1512x648 with 0 Axes>"
            ]
          },
          "metadata": {
            "tags": []
          }
        },
        {
          "output_type": "display_data",
          "data": {
            "image/png": "[encoded data removed]",
            "text/plain": [
              "<Figure size 1512x648 with 2 Axes>"
            ]
          },
          "metadata": {
            "tags": [],
            "needs_background": "light"
          }
        },
        {
          "output_type": "display_data",
          "data": {
            "text/plain": [
              "<Figure size 432x288 with 0 Axes>"
            ]
          },
          "metadata": {
            "tags": []
          }
        },
        {
          "output_type": "display_data",
          "data": {
            "text/plain": [
              "<Figure size 1512x648 with 0 Axes>"
            ]
          },
          "metadata": {
            "tags": []
          }
        },
        {
          "output_type": "display_data",
          "data": {
            "text/plain": [
              "<Figure size 1512x648 with 0 Axes>"
            ]
          },
          "metadata": {
            "tags": []
          }
        },
        {
          "output_type": "display_data",
          "data": {
            "text/plain": [
              "<Figure size 1512x648 with 0 Axes>"
            ]
          },
          "metadata": {
            "tags": []
          }
        },
        {
          "output_type": "display_data",
          "data": {
            "text/plain": [
              "<Figure size 1512x648 with 0 Axes>"
            ]
          },
          "metadata": {
            "tags": []
          }
        },
        {
          "output_type": "display_data",
          "data": {
            "text/plain": [
              "<Figure size 1512x648 with 0 Axes>"
            ]
          },
          "metadata": {
            "tags": []
          }
        },
        {
          "output_type": "display_data",
          "data": {
            "text/plain": [
              "<Figure size 1512x648 with 0 Axes>"
            ]
          },
          "metadata": {
            "tags": []
          }
        },
        {
          "output_type": "display_data",
          "data": {
            "text/plain": [
              "<Figure size 1512x648 with 0 Axes>"
            ]
          },
          "metadata": {
            "tags": []
          }
        },
        {
          "output_type": "display_data",
          "data": {
            "text/plain": [
              "<Figure size 1512x648 with 0 Axes>"
            ]
          },
          "metadata": {
            "tags": []
          }
        },
        {
          "output_type": "display_data",
          "data": {
            "text/plain": [
              "<Figure size 1512x648 with 0 Axes>"
            ]
          },
          "metadata": {
            "tags": []
          }
        },
        {
          "output_type": "display_data",
          "data": {
            "text/plain": [
              "<Figure size 1512x648 with 0 Axes>"
            ]
          },
          "metadata": {
            "tags": []
          }
        },
        {
          "output_type": "display_data",
          "data": {
            "text/plain": [
              "<Figure size 1512x648 with 0 Axes>"
            ]
          },
          "metadata": {
            "tags": []
          }
        },
        {
          "output_type": "display_data",
          "data": {
            "text/plain": [
              "<Figure size 1512x648 with 0 Axes>"
            ]
          },
          "metadata": {
            "tags": []
          }
        },
        {
          "output_type": "display_data",
          "data": {
            "text/plain": [
              "<Figure size 1512x648 with 0 Axes>"
            ]
          },
          "metadata": {
            "tags": []
          }
        },
        {
          "output_type": "display_data",
          "data": {
            "text/plain": [
              "<Figure size 1512x648 with 0 Axes>"
            ]
          },
          "metadata": {
            "tags": []
          }
        },
        {
          "output_type": "display_data",
          "data": {
            "text/plain": [
              "<Figure size 1512x648 with 0 Axes>"
            ]
          },
          "metadata": {
            "tags": []
          }
        },
        {
          "output_type": "display_data",
          "data": {
            "text/plain": [
              "<Figure size 1512x648 with 0 Axes>"
            ]
          },
          "metadata": {
            "tags": []
          }
        },
        {
          "output_type": "display_data",
          "data": {
            "text/plain": [
              "<Figure size 1512x648 with 0 Axes>"
            ]
          },
          "metadata": {
            "tags": []
          }
        },
        {
          "output_type": "display_data",
          "data": {
            "text/plain": [
              "<Figure size 1512x648 with 0 Axes>"
            ]
          },
          "metadata": {
            "tags": []
          }
        },
        {
          "output_type": "display_data",
          "data": {
            "text/plain": [
              "<Figure size 1512x648 with 0 Axes>"
            ]
          },
          "metadata": {
            "tags": []
          }
        },
        {
          "output_type": "display_data",
          "data": {
            "image/png": "[encoded data removed]",
            "text/plain": [
              "<Figure size 1512x648 with 2 Axes>"
            ]
          },
          "metadata": {
            "tags": [],
            "needs_background": "light"
          }
        },
        {
          "output_type": "display_data",
          "data": {
            "text/plain": [
              "<Figure size 432x288 with 0 Axes>"
            ]
          },
          "metadata": {
            "tags": []
          }
        },
        {
          "output_type": "display_data",
          "data": {
            "text/plain": [
              "<Figure size 1512x648 with 0 Axes>"
            ]
          },
          "metadata": {
            "tags": []
          }
        },
        {
          "output_type": "display_data",
          "data": {
            "text/plain": [
              "<Figure size 1512x648 with 0 Axes>"
            ]
          },
          "metadata": {
            "tags": []
          }
        },
        {
          "output_type": "display_data",
          "data": {
            "text/plain": [
              "<Figure size 1512x648 with 0 Axes>"
            ]
          },
          "metadata": {
            "tags": []
          }
        },
        {
          "output_type": "display_data",
          "data": {
            "text/plain": [
              "<Figure size 1512x648 with 0 Axes>"
            ]
          },
          "metadata": {
            "tags": []
          }
        },
        {
          "output_type": "display_data",
          "data": {
            "text/plain": [
              "<Figure size 1512x648 with 0 Axes>"
            ]
          },
          "metadata": {
            "tags": []
          }
        },
        {
          "output_type": "display_data",
          "data": {
            "text/plain": [
              "<Figure size 1512x648 with 0 Axes>"
            ]
          },
          "metadata": {
            "tags": []
          }
        },
        {
          "output_type": "display_data",
          "data": {
            "text/plain": [
              "<Figure size 1512x648 with 0 Axes>"
            ]
          },
          "metadata": {
            "tags": []
          }
        },
        {
          "output_type": "display_data",
          "data": {
            "text/plain": [
              "<Figure size 1512x648 with 0 Axes>"
            ]
          },
          "metadata": {
            "tags": []
          }
        },
        {
          "output_type": "display_data",
          "data": {
            "text/plain": [
              "<Figure size 1512x648 with 0 Axes>"
            ]
          },
          "metadata": {
            "tags": []
          }
        },
        {
          "output_type": "display_data",
          "data": {
            "text/plain": [
              "<Figure size 1512x648 with 0 Axes>"
            ]
          },
          "metadata": {
            "tags": []
          }
        },
        {
          "output_type": "display_data",
          "data": {
            "text/plain": [
              "<Figure size 1512x648 with 0 Axes>"
            ]
          },
          "metadata": {
            "tags": []
          }
        },
        {
          "output_type": "display_data",
          "data": {
            "text/plain": [
              "<Figure size 1512x648 with 0 Axes>"
            ]
          },
          "metadata": {
            "tags": []
          }
        },
        {
          "output_type": "display_data",
          "data": {
            "text/plain": [
              "<Figure size 1512x648 with 0 Axes>"
            ]
          },
          "metadata": {
            "tags": []
          }
        },
        {
          "output_type": "display_data",
          "data": {
            "text/plain": [
              "<Figure size 1512x648 with 0 Axes>"
            ]
          },
          "metadata": {
            "tags": []
          }
        },
        {
          "output_type": "display_data",
          "data": {
            "text/plain": [
              "<Figure size 1512x648 with 0 Axes>"
            ]
          },
          "metadata": {
            "tags": []
          }
        },
        {
          "output_type": "display_data",
          "data": {
            "text/plain": [
              "<Figure size 1512x648 with 0 Axes>"
            ]
          },
          "metadata": {
            "tags": []
          }
        },
        {
          "output_type": "display_data",
          "data": {
            "text/plain": [
              "<Figure size 1512x648 with 0 Axes>"
            ]
          },
          "metadata": {
            "tags": []
          }
        },
        {
          "output_type": "display_data",
          "data": {
            "text/plain": [
              "<Figure size 1512x648 with 0 Axes>"
            ]
          },
          "metadata": {
            "tags": []
          }
        },
        {
          "output_type": "display_data",
          "data": {
            "text/plain": [
              "<Figure size 1512x648 with 0 Axes>"
            ]
          },
          "metadata": {
            "tags": []
          }
        },
        {
          "output_type": "display_data",
          "data": {
            "image/png": "[encoded data removed]",
            "text/plain": [
              "<Figure size 1512x648 with 2 Axes>"
            ]
          },
          "metadata": {
            "tags": [],
            "needs_background": "light"
          }
        },
        {
          "output_type": "display_data",
          "data": {
            "text/plain": [
              "<Figure size 432x288 with 0 Axes>"
            ]
          },
          "metadata": {
            "tags": []
          }
        },
        {
          "output_type": "display_data",
          "data": {
            "text/plain": [
              "<Figure size 1512x648 with 0 Axes>"
            ]
          },
          "metadata": {
            "tags": []
          }
        },
        {
          "output_type": "display_data",
          "data": {
            "text/plain": [
              "<Figure size 1512x648 with 0 Axes>"
            ]
          },
          "metadata": {
            "tags": []
          }
        },
        {
          "output_type": "display_data",
          "data": {
            "text/plain": [
              "<Figure size 1512x648 with 0 Axes>"
            ]
          },
          "metadata": {
            "tags": []
          }
        },
        {
          "output_type": "display_data",
          "data": {
            "text/plain": [
              "<Figure size 1512x648 with 0 Axes>"
            ]
          },
          "metadata": {
            "tags": []
          }
        },
        {
          "output_type": "display_data",
          "data": {
            "text/plain": [
              "<Figure size 1512x648 with 0 Axes>"
            ]
          },
          "metadata": {
            "tags": []
          }
        },
        {
          "output_type": "display_data",
          "data": {
            "text/plain": [
              "<Figure size 1512x648 with 0 Axes>"
            ]
          },
          "metadata": {
            "tags": []
          }
        },
        {
          "output_type": "display_data",
          "data": {
            "text/plain": [
              "<Figure size 1512x648 with 0 Axes>"
            ]
          },
          "metadata": {
            "tags": []
          }
        },
        {
          "output_type": "display_data",
          "data": {
            "text/plain": [
              "<Figure size 1512x648 with 0 Axes>"
            ]
          },
          "metadata": {
            "tags": []
          }
        },
        {
          "output_type": "display_data",
          "data": {
            "text/plain": [
              "<Figure size 1512x648 with 0 Axes>"
            ]
          },
          "metadata": {
            "tags": []
          }
        },
        {
          "output_type": "display_data",
          "data": {
            "text/plain": [
              "<Figure size 1512x648 with 0 Axes>"
            ]
          },
          "metadata": {
            "tags": []
          }
        },
        {
          "output_type": "display_data",
          "data": {
            "text/plain": [
              "<Figure size 1512x648 with 0 Axes>"
            ]
          },
          "metadata": {
            "tags": []
          }
        },
        {
          "output_type": "display_data",
          "data": {
            "text/plain": [
              "<Figure size 1512x648 with 0 Axes>"
            ]
          },
          "metadata": {
            "tags": []
          }
        },
        {
          "output_type": "display_data",
          "data": {
            "text/plain": [
              "<Figure size 1512x648 with 0 Axes>"
            ]
          },
          "metadata": {
            "tags": []
          }
        },
        {
          "output_type": "display_data",
          "data": {
            "text/plain": [
              "<Figure size 1512x648 with 0 Axes>"
            ]
          },
          "metadata": {
            "tags": []
          }
        },
        {
          "output_type": "display_data",
          "data": {
            "text/plain": [
              "<Figure size 1512x648 with 0 Axes>"
            ]
          },
          "metadata": {
            "tags": []
          }
        },
        {
          "output_type": "display_data",
          "data": {
            "text/plain": [
              "<Figure size 1512x648 with 0 Axes>"
            ]
          },
          "metadata": {
            "tags": []
          }
        },
        {
          "output_type": "display_data",
          "data": {
            "text/plain": [
              "<Figure size 1512x648 with 0 Axes>"
            ]
          },
          "metadata": {
            "tags": []
          }
        },
        {
          "output_type": "display_data",
          "data": {
            "text/plain": [
              "<Figure size 1512x648 with 0 Axes>"
            ]
          },
          "metadata": {
            "tags": []
          }
        },
        {
          "output_type": "display_data",
          "data": {
            "text/plain": [
              "<Figure size 1512x648 with 0 Axes>"
            ]
          },
          "metadata": {
            "tags": []
          }
        },
        {
          "output_type": "display_data",
          "data": {
            "image/png": "[encoded data removed]",
            "text/plain": [
              "<Figure size 1512x648 with 2 Axes>"
            ]
          },
          "metadata": {
            "tags": [],
            "needs_background": "light"
          }
        },
        {
          "output_type": "display_data",
          "data": {
            "text/plain": [
              "<Figure size 432x288 with 0 Axes>"
            ]
          },
          "metadata": {
            "tags": []
          }
        },
        {
          "output_type": "display_data",
          "data": {
            "text/plain": [
              "<Figure size 1512x648 with 0 Axes>"
            ]
          },
          "metadata": {
            "tags": []
          }
        },
        {
          "output_type": "display_data",
          "data": {
            "text/plain": [
              "<Figure size 1512x648 with 0 Axes>"
            ]
          },
          "metadata": {
            "tags": []
          }
        },
        {
          "output_type": "display_data",
          "data": {
            "text/plain": [
              "<Figure size 1512x648 with 0 Axes>"
            ]
          },
          "metadata": {
            "tags": []
          }
        },
        {
          "output_type": "display_data",
          "data": {
            "text/plain": [
              "<Figure size 1512x648 with 0 Axes>"
            ]
          },
          "metadata": {
            "tags": []
          }
        },
        {
          "output_type": "display_data",
          "data": {
            "text/plain": [
              "<Figure size 1512x648 with 0 Axes>"
            ]
          },
          "metadata": {
            "tags": []
          }
        },
        {
          "output_type": "display_data",
          "data": {
            "text/plain": [
              "<Figure size 1512x648 with 0 Axes>"
            ]
          },
          "metadata": {
            "tags": []
          }
        },
        {
          "output_type": "display_data",
          "data": {
            "text/plain": [
              "<Figure size 1512x648 with 0 Axes>"
            ]
          },
          "metadata": {
            "tags": []
          }
        },
        {
          "output_type": "display_data",
          "data": {
            "text/plain": [
              "<Figure size 1512x648 with 0 Axes>"
            ]
          },
          "metadata": {
            "tags": []
          }
        },
        {
          "output_type": "display_data",
          "data": {
            "text/plain": [
              "<Figure size 1512x648 with 0 Axes>"
            ]
          },
          "metadata": {
            "tags": []
          }
        },
        {
          "output_type": "display_data",
          "data": {
            "text/plain": [
              "<Figure size 1512x648 with 0 Axes>"
            ]
          },
          "metadata": {
            "tags": []
          }
        },
        {
          "output_type": "display_data",
          "data": {
            "text/plain": [
              "<Figure size 1512x648 with 0 Axes>"
            ]
          },
          "metadata": {
            "tags": []
          }
        },
        {
          "output_type": "display_data",
          "data": {
            "text/plain": [
              "<Figure size 1512x648 with 0 Axes>"
            ]
          },
          "metadata": {
            "tags": []
          }
        },
        {
          "output_type": "display_data",
          "data": {
            "text/plain": [
              "<Figure size 1512x648 with 0 Axes>"
            ]
          },
          "metadata": {
            "tags": []
          }
        },
        {
          "output_type": "display_data",
          "data": {
            "text/plain": [
              "<Figure size 1512x648 with 0 Axes>"
            ]
          },
          "metadata": {
            "tags": []
          }
        },
        {
          "output_type": "display_data",
          "data": {
            "text/plain": [
              "<Figure size 1512x648 with 0 Axes>"
            ]
          },
          "metadata": {
            "tags": []
          }
        },
        {
          "output_type": "display_data",
          "data": {
            "text/plain": [
              "<Figure size 1512x648 with 0 Axes>"
            ]
          },
          "metadata": {
            "tags": []
          }
        },
        {
          "output_type": "display_data",
          "data": {
            "text/plain": [
              "<Figure size 1512x648 with 0 Axes>"
            ]
          },
          "metadata": {
            "tags": []
          }
        },
        {
          "output_type": "display_data",
          "data": {
            "text/plain": [
              "<Figure size 1512x648 with 0 Axes>"
            ]
          },
          "metadata": {
            "tags": []
          }
        },
        {
          "output_type": "display_data",
          "data": {
            "text/plain": [
              "<Figure size 1512x648 with 0 Axes>"
            ]
          },
          "metadata": {
            "tags": []
          }
        },
        {
          "output_type": "display_data",
          "data": {
            "image/png": "[encoded data removed]",
            "text/plain": [
              "<Figure size 1512x648 with 2 Axes>"
            ]
          },
          "metadata": {
            "tags": [],
            "needs_background": "light"
          }
        },
        {
          "output_type": "display_data",
          "data": {
            "text/plain": [
              "<Figure size 432x288 with 0 Axes>"
            ]
          },
          "metadata": {
            "tags": []
          }
        },
        {
          "output_type": "display_data",
          "data": {
            "text/plain": [
              "<Figure size 1512x648 with 0 Axes>"
            ]
          },
          "metadata": {
            "tags": []
          }
        },
        {
          "output_type": "display_data",
          "data": {
            "text/plain": [
              "<Figure size 1512x648 with 0 Axes>"
            ]
          },
          "metadata": {
            "tags": []
          }
        },
        {
          "output_type": "display_data",
          "data": {
            "text/plain": [
              "<Figure size 1512x648 with 0 Axes>"
            ]
          },
          "metadata": {
            "tags": []
          }
        },
        {
          "output_type": "display_data",
          "data": {
            "text/plain": [
              "<Figure size 1512x648 with 0 Axes>"
            ]
          },
          "metadata": {
            "tags": []
          }
        },
        {
          "output_type": "display_data",
          "data": {
            "text/plain": [
              "<Figure size 1512x648 with 0 Axes>"
            ]
          },
          "metadata": {
            "tags": []
          }
        },
        {
          "output_type": "display_data",
          "data": {
            "text/plain": [
              "<Figure size 1512x648 with 0 Axes>"
            ]
          },
          "metadata": {
            "tags": []
          }
        },
        {
          "output_type": "display_data",
          "data": {
            "text/plain": [
              "<Figure size 1512x648 with 0 Axes>"
            ]
          },
          "metadata": {
            "tags": []
          }
        },
        {
          "output_type": "display_data",
          "data": {
            "text/plain": [
              "<Figure size 1512x648 with 0 Axes>"
            ]
          },
          "metadata": {
            "tags": []
          }
        },
        {
          "output_type": "display_data",
          "data": {
            "text/plain": [
              "<Figure size 1512x648 with 0 Axes>"
            ]
          },
          "metadata": {
            "tags": []
          }
        },
        {
          "output_type": "display_data",
          "data": {
            "text/plain": [
              "<Figure size 1512x648 with 0 Axes>"
            ]
          },
          "metadata": {
            "tags": []
          }
        },
        {
          "output_type": "display_data",
          "data": {
            "text/plain": [
              "<Figure size 1512x648 with 0 Axes>"
            ]
          },
          "metadata": {
            "tags": []
          }
        },
        {
          "output_type": "display_data",
          "data": {
            "text/plain": [
              "<Figure size 1512x648 with 0 Axes>"
            ]
          },
          "metadata": {
            "tags": []
          }
        },
        {
          "output_type": "display_data",
          "data": {
            "text/plain": [
              "<Figure size 1512x648 with 0 Axes>"
            ]
          },
          "metadata": {
            "tags": []
          }
        },
        {
          "output_type": "display_data",
          "data": {
            "text/plain": [
              "<Figure size 1512x648 with 0 Axes>"
            ]
          },
          "metadata": {
            "tags": []
          }
        },
        {
          "output_type": "display_data",
          "data": {
            "text/plain": [
              "<Figure size 1512x648 with 0 Axes>"
            ]
          },
          "metadata": {
            "tags": []
          }
        },
        {
          "output_type": "display_data",
          "data": {
            "text/plain": [
              "<Figure size 1512x648 with 0 Axes>"
            ]
          },
          "metadata": {
            "tags": []
          }
        },
        {
          "output_type": "display_data",
          "data": {
            "text/plain": [
              "<Figure size 1512x648 with 0 Axes>"
            ]
          },
          "metadata": {
            "tags": []
          }
        },
        {
          "output_type": "display_data",
          "data": {
            "text/plain": [
              "<Figure size 1512x648 with 0 Axes>"
            ]
          },
          "metadata": {
            "tags": []
          }
        },
        {
          "output_type": "display_data",
          "data": {
            "text/plain": [
              "<Figure size 1512x648 with 0 Axes>"
            ]
          },
          "metadata": {
            "tags": []
          }
        },
        {
          "output_type": "display_data",
          "data": {
            "image/png": "[encoded data removed]",
            "text/plain": [
              "<Figure size 1512x648 with 2 Axes>"
            ]
          },
          "metadata": {
            "tags": [],
            "needs_background": "light"
          }
        }
      ]
    },
    {
      "cell_type": "markdown",
      "metadata": {
        "id": "w11hSLqoQ-8i"
      },
      "source": [
        "##2.2. 静止画を重ねて動画を生成 (グラフを重ねてアニメーショングラフ化) する。"
      ]
    },
    {
      "cell_type": "code",
      "metadata": {
        "id": "PPvT9_s2HhG0",
        "colab": {
          "base_uri": "https://localhost:8080/",
          "height": 1000,
          "referenced_widgets": [
            "71dc1744fb654505be1e77edb7c9c551",
            "5a4ddda2cb904ff79d752da0e1e5ce61",
            "8f8a7631240b49d3bdb08793e30d43d7",
            "c8a7e8e258c94f509bcc9b7768f7e1e4",
            "8c4f1dea73e4459bbf71ed3d58f2ad1b",
            "875b9ba7e2e94888b0c53b488801bf56",
            "192e8646509b4a3a81c4523349d398bb",
            "193ea71f89b14217b163c391c0aac28c",
            "a43794d001c445328ee1bd18ffbecfa0",
            "ea742dbfaff44863801d76125cee5a0a",
            "2865781fc90645d7855d5d442fdc9623",
            "202a4dc07f174230ae7767b7ea1ec289",
            "d24841b88eea4f65b8e7564ca47b6125",
            "0feedc8458cd4f8a98717959b7fbb72a",
            "8bc6b2cdf35344be90a248549855b747",
            "1a1974ee5f77474c836b1d0ad020c6c4",
            "093a531cac6f4a40be932d9a489f21f9",
            "3c4d1f5ed0a446e28f75968758e92feb",
            "feeaecd991d24e68a2d24119cbeacf74",
            "35c1a32d8f0f410696bd9e4b32c9a9a6",
            "52ff5f4276274d8c8d7b79b7f6a587bb",
            "f0f4229ccd8c454186cab631e5cfae42",
            "a8599927a3394c829c537719435b3c9d",
            "74830e879d704b0da73f70c6d970b054",
            "9e244f6b391545788ff53db284d2f7ba",
            "9277c6cd751c4494872248b3daa60d13",
            "6bb147e970c44d26aec82483067f5821",
            "31efb83f693c407ab6a9ef0fc4cc933c",
            "5810b265e3c041a8885c55a2593af20c",
            "19ab36a4c3504496b9e68c80cf779704",
            "ace62d8cc155426db2ee732d226caa0a",
            "d63826c4936649d2a2f8fd3b45532bd8",
            "86d603793e3d4a39aec6351878d2670d",
            "9f87cdc5bb9a4654b8152faf0435aad6",
            "dfe98044171740579b8293e0b90477a2",
            "6c2c659dba93479bb9f579b9dd6ddba0",
            "7fb07bf59f344c9bb49394d0ac12ca46",
            "666aa4d6f14e46bcb25092efd453f9e9",
            "33f33a67deae4cae892dc465c9e68b61",
            "7bfbafffadcc4ae3b2cd5df9e3b80e36",
            "b8294072c6984968ae5c361352dc8a1e",
            "bce6ce553cdf41f68874ef53d372f44b",
            "6bf88606acb5445198540f5ef380f8a3",
            "d41a8b993bd143f9b32ea778521eafe5",
            "e7ea5f84d1394c2b9d914da3d58327e9",
            "8101e4f4d7c5427c8774f598b2a35668",
            "2ab265c0a4cd4ab594d1ff4707b2fc2b",
            "e1398d5260f547f5b789930b7d749e1e",
            "ef597bffbc6e4e5eba6e3477fe09f966",
            "765b7f81de7245998827624909ff1cb7",
            "26c0cadc821b40659528a35defae82d3",
            "61adb6450d74466a8cde6dd9ec19efdf",
            "9abfc7e98ddd4ecb84d1af745a8e728a",
            "7568aa687d834611a42d5ee91f64bcd6",
            "5b515d5437fc4033ae816fe6ad95f77f",
            "3b8d91d59f61427eb89bdba291717ed9",
            "3ae6f777c68f4380a089353a80e940a8",
            "e280d6047df847b3aeb0103a6055825c",
            "46c72d5c295c47d6bd269eca4756e7a1",
            "decef55f172947d2accb0bed6a7f0529",
            "287ac0f921ec4f9a84f529e34dcf7b2c",
            "09ce83a5ef974b41ba429ea2888de1e6",
            "92fde44f94de47f98ecc3e7b083e742d",
            "259dff154d734d46bff6d50dbcfa7a0f",
            "f8afa3e473754b39a24913d37e7670f6",
            "b720f22dca594cc4b7d61f3e85e47d89",
            "8932d53cf89348dcba17ce8c13175fa6",
            "52ae0a782c4c4297b60e347276eaee5a",
            "f799252a322a4bd5b43a6182d03e0a20",
            "d1a9255f9c1a4e4d9f7eb28bbb789861",
            "277d1af492f24694bdec6d1b96362f6f",
            "767fff3940a84d3cb440611631bf8e62"
          ]
        },
        "outputId": "4c49ea62-b842-4a0a-d636-026d4a38986d"
      },
      "source": [
        "#------------------------------------------------------------------------------\n",
        "#動画を生成\n",
        "#------------------------------------------------------------------------------\n",
        "def make_video(PATH, FILE):\n",
        "  fps=59.94005994005994\n",
        "  width =1920.0\n",
        "  height =1080.0\n",
        "  frames =270.0\n",
        "  \n",
        "  import glob\n",
        "  images = glob.glob(PATH + \"*.jpg\")\n",
        "  from natsort import natsorted\n",
        "  images=sorted(images)\n",
        "\n",
        "  import cv2\n",
        "  print(\"画像を結合して動画を作成します...\")\n",
        "  fourcc = cv2.VideoWriter_fourcc('m','p','4','v')\n",
        "  PATH=\"./fig/\" #動画を結合する関数の汎用化に合わせて、こ子でPATHを書き換えていることに注意。\n",
        "  video = cv2.VideoWriter(PATH + FILE, fourcc, fps, (int(width), int(height)))\n",
        "\n",
        "  from tqdm.autonotebook import tqdm\n",
        "  for i in tqdm(range(len(images))):\n",
        "     img = cv2.resize(cv2.imread(images[i]),(int(width),int(height)))\n",
        "     video.write(img) \n",
        "\n",
        "  video.release()\n",
        "  print(\"%sにおいて、\\n%sを作成しました。\" % (PATH, FILE))\n",
        "  print()\n",
        "\n",
        "  #print('使用済みデータを削除します...')\n",
        "  #import os\n",
        "  #for i in range(len(images)):\n",
        "    #os.remove(images[i])\n",
        "\n",
        "  print()\n",
        "  print('終了')\n",
        "#------------------------------------------------------------------------------\n",
        "\n",
        "#------------------------------------------------------------------------------\n",
        "#関節部位ごとでグラフを作成する。\n",
        "#------------------------------------------------------------------------------\n",
        "bodyRegion=['left_shoulder_y', 'right_shoulder_y', 'left_elbow_y', 'right_elbow_y', 'left_wrist_y', 'right_wrist_y', 'middle_chest_y',\t'from_Rhand_to_chest',\t'from_Lhand_to_chest'] #bodyRegion='部位(?)'\n",
        "for element in bodyRegion:\n",
        "  make_video(PARTS_PATH+element+'/', '%s.MP4' % element)\n",
        "  print(\"出力画像 : \", PARTS_PATH+element+'/'+'Anifig_%s.MP4' % element)\n",
        "#------------------------------------------------------------------------------\n",
        "\n",
        "#------------------------------------------------------------------------------\n",
        "#動画を表示 (動画のサイズが大きいとエラーになります。)\n",
        "#------------------------------------------------------------------------------\n",
        "import base64\n",
        "import io\n",
        "from IPython.display import HTML\n",
        "def play_movie(mp4_path):\n",
        "  video = io.open(mp4_path, 'r+b').read()\n",
        "  encoded = base64.b64encode(video)\n",
        "  return HTML(data='''<video width='640' height='480' loop='true' autoplay='true' controls> \n",
        "                      <source src='data:video/mp4;base64,{0}' type='video/mp4'/>\n",
        "                      </video>'''.format(encoded.decode('utf-8')))\n",
        "  \n",
        "#play_movie(PARTS_PATH+element+'/'+'%s.MP4' % element)\n",
        "#------------------------------------------------------------------------------"
      ],
      "execution_count": 35,
      "outputs": [
        {
          "output_type": "stream",
          "text": [
            "画像を結合して動画を作成します...\n"
          ],
          "name": "stdout"
        },
        {
          "output_type": "display_data",
          "data": {
            "application/vnd.jupyter.widget-view+json": {
              "model_id": "71dc1744fb654505be1e77edb7c9c551",
              "version_minor": 0,
              "version_major": 2
            },
            "text/plain": [
              "HBox(children=(FloatProgress(value=0.0, max=20.0), HTML(value='')))"
            ]
          },
          "metadata": {
            "tags": []
          }
        },
        {
          "output_type": "stream",
          "text": [
            "\n",
            "./fig/において、\n",
            "left_shoulder_y.MP4を作成しました。\n",
            "\n",
            "\n",
            "終了\n",
            "出力画像 :  ./fig/left_shoulder_y/Anifig_left_shoulder_y.MP4\n",
            "画像を結合して動画を作成します...\n"
          ],
          "name": "stdout"
        },
        {
          "output_type": "display_data",
          "data": {
            "application/vnd.jupyter.widget-view+json": {
              "model_id": "a43794d001c445328ee1bd18ffbecfa0",
              "version_minor": 0,
              "version_major": 2
            },
            "text/plain": [
              "HBox(children=(FloatProgress(value=0.0, max=20.0), HTML(value='')))"
            ]
          },
          "metadata": {
            "tags": []
          }
        },
        {
          "output_type": "stream",
          "text": [
            "\n",
            "./fig/において、\n",
            "right_shoulder_y.MP4を作成しました。\n",
            "\n",
            "\n",
            "終了\n",
            "出力画像 :  ./fig/right_shoulder_y/Anifig_right_shoulder_y.MP4\n",
            "画像を結合して動画を作成します...\n"
          ],
          "name": "stdout"
        },
        {
          "output_type": "display_data",
          "data": {
            "application/vnd.jupyter.widget-view+json": {
              "model_id": "093a531cac6f4a40be932d9a489f21f9",
              "version_minor": 0,
              "version_major": 2
            },
            "text/plain": [
              "HBox(children=(FloatProgress(value=0.0, max=20.0), HTML(value='')))"
            ]
          },
          "metadata": {
            "tags": []
          }
        },
        {
          "output_type": "stream",
          "text": [
            "\n",
            "./fig/において、\n",
            "left_elbow_y.MP4を作成しました。\n",
            "\n",
            "\n",
            "終了\n",
            "出力画像 :  ./fig/left_elbow_y/Anifig_left_elbow_y.MP4\n",
            "画像を結合して動画を作成します...\n"
          ],
          "name": "stdout"
        },
        {
          "output_type": "display_data",
          "data": {
            "application/vnd.jupyter.widget-view+json": {
              "model_id": "9e244f6b391545788ff53db284d2f7ba",
              "version_minor": 0,
              "version_major": 2
            },
            "text/plain": [
              "HBox(children=(FloatProgress(value=0.0, max=20.0), HTML(value='')))"
            ]
          },
          "metadata": {
            "tags": []
          }
        },
        {
          "output_type": "stream",
          "text": [
            "\n",
            "./fig/において、\n",
            "right_elbow_y.MP4を作成しました。\n",
            "\n",
            "\n",
            "終了\n",
            "出力画像 :  ./fig/right_elbow_y/Anifig_right_elbow_y.MP4\n",
            "画像を結合して動画を作成します...\n"
          ],
          "name": "stdout"
        },
        {
          "output_type": "display_data",
          "data": {
            "application/vnd.jupyter.widget-view+json": {
              "model_id": "86d603793e3d4a39aec6351878d2670d",
              "version_minor": 0,
              "version_major": 2
            },
            "text/plain": [
              "HBox(children=(FloatProgress(value=0.0, max=20.0), HTML(value='')))"
            ]
          },
          "metadata": {
            "tags": []
          }
        },
        {
          "output_type": "stream",
          "text": [
            "\n",
            "./fig/において、\n",
            "left_wrist_y.MP4を作成しました。\n",
            "\n",
            "\n",
            "終了\n",
            "出力画像 :  ./fig/left_wrist_y/Anifig_left_wrist_y.MP4\n",
            "画像を結合して動画を作成します...\n"
          ],
          "name": "stdout"
        },
        {
          "output_type": "display_data",
          "data": {
            "application/vnd.jupyter.widget-view+json": {
              "model_id": "b8294072c6984968ae5c361352dc8a1e",
              "version_minor": 0,
              "version_major": 2
            },
            "text/plain": [
              "HBox(children=(FloatProgress(value=0.0, max=20.0), HTML(value='')))"
            ]
          },
          "metadata": {
            "tags": []
          }
        },
        {
          "output_type": "stream",
          "text": [
            "\n",
            "./fig/において、\n",
            "right_wrist_y.MP4を作成しました。\n",
            "\n",
            "\n",
            "終了\n",
            "出力画像 :  ./fig/right_wrist_y/Anifig_right_wrist_y.MP4\n",
            "画像を結合して動画を作成します...\n"
          ],
          "name": "stdout"
        },
        {
          "output_type": "display_data",
          "data": {
            "application/vnd.jupyter.widget-view+json": {
              "model_id": "ef597bffbc6e4e5eba6e3477fe09f966",
              "version_minor": 0,
              "version_major": 2
            },
            "text/plain": [
              "HBox(children=(FloatProgress(value=0.0, max=20.0), HTML(value='')))"
            ]
          },
          "metadata": {
            "tags": []
          }
        },
        {
          "output_type": "stream",
          "text": [
            "\n",
            "./fig/において、\n",
            "middle_chest_y.MP4を作成しました。\n",
            "\n",
            "\n",
            "終了\n",
            "出力画像 :  ./fig/middle_chest_y/Anifig_middle_chest_y.MP4\n",
            "画像を結合して動画を作成します...\n"
          ],
          "name": "stdout"
        },
        {
          "output_type": "display_data",
          "data": {
            "application/vnd.jupyter.widget-view+json": {
              "model_id": "3ae6f777c68f4380a089353a80e940a8",
              "version_minor": 0,
              "version_major": 2
            },
            "text/plain": [
              "HBox(children=(FloatProgress(value=0.0, max=20.0), HTML(value='')))"
            ]
          },
          "metadata": {
            "tags": []
          }
        },
        {
          "output_type": "stream",
          "text": [
            "\n",
            "./fig/において、\n",
            "from_Rhand_to_chest.MP4を作成しました。\n",
            "\n",
            "\n",
            "終了\n",
            "出力画像 :  ./fig/from_Rhand_to_chest/Anifig_from_Rhand_to_chest.MP4\n",
            "画像を結合して動画を作成します...\n"
          ],
          "name": "stdout"
        },
        {
          "output_type": "display_data",
          "data": {
            "application/vnd.jupyter.widget-view+json": {
              "model_id": "f8afa3e473754b39a24913d37e7670f6",
              "version_minor": 0,
              "version_major": 2
            },
            "text/plain": [
              "HBox(children=(FloatProgress(value=0.0, max=20.0), HTML(value='')))"
            ]
          },
          "metadata": {
            "tags": []
          }
        },
        {
          "output_type": "stream",
          "text": [
            "\n",
            "./fig/において、\n",
            "from_Lhand_to_chest.MP4を作成しました。\n",
            "\n",
            "\n",
            "終了\n",
            "出力画像 :  ./fig/from_Lhand_to_chest/Anifig_from_Lhand_to_chest.MP4\n"
          ],
          "name": "stdout"
        }
      ]
    },
    {
      "cell_type": "markdown",
      "metadata": {
        "id": "JbbGf8WTRpAi"
      },
      "source": [
        "https://watlab-blog.com/2019/09/29/movie-space-combine/"
      ]
    },
    {
      "cell_type": "markdown",
      "metadata": {
        "id": "QU60XVK0ZdN9"
      },
      "source": [
        "#3. アニメーショングラフを結合して、「4×3の動画集合」にする。"
      ]
    },
    {
      "cell_type": "code",
      "metadata": {
        "id": "7L2S9Au1XnP5",
        "colab": {
          "base_uri": "https://localhost:8080/",
          "height": 36
        },
        "outputId": "43bed159-431d-4859-b4b7-87a2a3e16e7c"
      },
      "source": [
        "import shutil\n",
        "\n",
        "shutil.copy(POSE_FILE, \"./fig/\")"
      ],
      "execution_count": 36,
      "outputs": [
        {
          "output_type": "execute_result",
          "data": {
            "application/vnd.google.colaboratory.intrinsic+json": {
              "type": "string"
            },
            "text/plain": [
              "'./fig/pose_C0003.MP4'"
            ]
          },
          "metadata": {
            "tags": []
          },
          "execution_count": 36
        }
      ]
    },
    {
      "cell_type": "code",
      "metadata": {
        "id": "NWVgSzAnLPzz",
        "colab": {
          "base_uri": "https://localhost:8080/"
        },
        "outputId": "a63c4984-ed7f-49fb-d63c-27978cde44fd"
      },
      "source": [
        "import cv2\n",
        "\n",
        "# 2つの画像を横に連結する関数\n",
        "def image_combine(im_info1, im_info2, mode):\n",
        "    img1 = im_info1[0]                       # 1つ目の画像\n",
        "    img2 = im_info2[0]                       # 2つ目の画像\n",
        "    color_flag1 = im_info1[1]                # 1つ目の画像のカラー/グレー判別値\n",
        "    color_flag2 = im_info2[1]                # 2つ目の画像のカラー/グレー判別値\n",
        "\n",
        "    # 1つ目の画像に対しカラーかグレースケールかによって読み込みを変える\n",
        "    if color_flag1 == 1:\n",
        "        h1, w1, ch1 = img1.shape[:3]         # 画像のサイズを取得（グレースケール画像は[:2]\n",
        "    else:\n",
        "        h1, w1 = img1.shape[:2]\n",
        "\n",
        "    # 2つ目の画像に対しカラーかグレースケールかによって読み込みを変える\n",
        "    if color_flag2 == 1:\n",
        "        h2, w2, ch2 = img2.shape[:3]         # 画像のサイズを取得（グレースケール画像は[:2]\n",
        "    else:\n",
        "        h2, w2 = img2.shape[:2]\n",
        "\n",
        "    # 2つの画像の縦サイズを比較して、大きい方に合わせて一方をリサイズする\n",
        "    if h1 < h2:                              # 1つ目の画像の方が小さい場合\n",
        "        h1 = h2                              # 小さい方を大きい方と同じ縦サイズにする\n",
        "        w1 = int((h2 / h1) * w2)             # 縦サイズの変化倍率を計算して横サイズを決定する\n",
        "        img1 = cv2.resize(img1, (w1, h1))    # 画像リサイズ\n",
        "    else:                                    # 2つ目の画像の方が小さい場合\n",
        "        h2 = h1                              # 小さい方を大きい方と同じ縦サイズにする\n",
        "        w2 = int((h1 / h2) * w1)             # 縦サイズの変化倍率を計算して横サイズを決定する\n",
        "        img2 = cv2.resize(img2, (w2, h2))    # 画像リサイズ\n",
        "\n",
        "    if mode=='vertical':\n",
        "      img = cv2.vconcat([img1, img2])          # 2つの画像を縦方向に連結\n",
        "    elif mode=='horizon':\n",
        "      img = cv2.hconcat([img1, img2])          # 2つの画像を横方向に連結\n",
        "    return img\n",
        "\n",
        "# 動画を空間方向に連結させる関数\n",
        "def m_space_combine(movie1, movie2, path_out, scale_factor, mode):\n",
        "    path1 = movie1[0]                                       # 1つ目の動画のパス\n",
        "    path2 = movie2[0]                                       # 2つ目の動画のパス\n",
        "    color_flag1 = movie1[1]                                 # 1つ目の動画がカラーかどうか\n",
        "    color_flag2 = movie2[1]                                 # 2つ目の動画がカラーかどうか\n",
        "\n",
        "    # 2つの動画の読み込み\n",
        "    movie1_obj = cv2.VideoCapture(path1)\n",
        "    movie2_obj = cv2.VideoCapture(path2)\n",
        "\n",
        "    # ファイルからフレームを1枚ずつ取得して動画処理後に保存する\n",
        "    i = 0                                                   # 第1ループ判定用指標\n",
        "    while True:\n",
        "        ret1, frame1 = movie1_obj.read()                    # 1つ目の動画のフレームを取得\n",
        "        ret2, frame2 = movie2_obj.read()                    # 2つ目の動画のフレームを取得\n",
        "        check = ret1 and ret2                               # 2つのフレームが共に取得できた時だけTrue（論理演算）\n",
        "        if check == True:\n",
        "            im_info1 = [frame1, color_flag1]                # 画像連結関数への引数1\n",
        "            im_info2 = [frame2, color_flag2]                # 画像連結関数への引数2\n",
        "\n",
        "            frame_mix = image_combine(im_info1, im_info2, mode)  # 画像連結関数の実行\n",
        "\n",
        "            if i == 0:\n",
        "                # 動画ファイル保存用の設定\n",
        "                fps = int(movie1_obj.get(cv2.CAP_PROP_FPS))                 # 元動画のFPSを取得\n",
        "                fps_new = int(fps * scale_factor)                           # 動画保存時のFPSはスケールファクターをかける\n",
        "                frame_size = frame_mix.shape[:3]                            # 結合したフレームのサイズを得る\n",
        "                h = frame_size[0]                                           # フレームの高さサイズを取得\n",
        "                w = frame_size[1]                                           # フレームの横サイズを取得\n",
        "                fourcc = cv2.VideoWriter_fourcc('m', 'p', '4', 'v')         # 動画保存時のfourcc設定（mp4用）\n",
        "                video = cv2.VideoWriter(path_out, fourcc, fps_new, (w, h))  # 保存動画の仕様\n",
        "                i = i + 1                                                   # 初期ループ判定用指標を増分\n",
        "            else:\n",
        "                pass\n",
        "            video.write(frame_mix)                                          # 動画を保存する\n",
        "        else:\n",
        "            break\n",
        "\n",
        "    # 動画オブジェクトの解放\n",
        "    movie1_obj.release()\n",
        "    movie2_obj.release()\n",
        "    return\n",
        "\n",
        "bodyRegion_concat=[['left_shoulder_y',  'left_elbow_y'], [\"pose_%s\" % INPUT_FILE_removed_pathANDformat, \"pose_%s\" % INPUT_FILE_removed_pathANDformat] , ['right_shoulder_y', 'right_elbow_y'], ['left_wrist_y', 'from_Rhand_to_chest'], [\"pose_%s\" % INPUT_FILE_removed_pathANDformat, 'middle_chest_y'],['right_wrist_y', 'from_Lhand_to_chest']]\n",
        "i=0\n",
        "for element1, element2 in bodyRegion_concat:\n",
        "  print(element1, element2)\n",
        "  movie1 = ['./fig/%s.MP4' % element1, True]     # 元動画のパス1, カラーはTrue\n",
        "  movie2 = ['./fig/%s.MP4' % element2,  True]    # 元動画のパス2, 白黒はFalse\n",
        "  scale_factor = 1                  # FPSにかけるスケールファクター\n",
        "  path_out='./fig/'+'X%s.MP4' % i \n",
        "  print(path_out)\n",
        "  print('%sと%sを結合します。' % (element1, element2))\n",
        "  m_space_combine(movie1, movie2, path_out, scale_factor, 'vertical')\n",
        "  print(path_out, ' を生成しました。')\n",
        "  print()\n",
        "  i+=1\n",
        "\n",
        "B=[['0', '3', 'left'],['1', '4', 'middle'],['2', '5', 'right']]\n",
        "for j in range(int(len(B))):\n",
        "  element1, element2, element3=B[j]\n",
        "  print(element1, element2, element3)\n",
        "  movie1 = ['./fig/X%s.MP4' % element1, True]     # 元動画のパス1, カラーはTrue\n",
        "  movie2 = ['./fig/X%s.MP4' % element2,  True]    # 元動画のパス2, 白黒はFalse\n",
        "  scale_factor = 1                  # FPSにかけるスケールファクター\n",
        "  path_out='./fig/'+'%s.MP4' % element3\n",
        "  print(path_out)\n",
        "  print('%sと%sを結合します。' % (element1, element2))\n",
        "  m_space_combine(movie1, movie2, path_out, scale_factor, 'vertical')\n",
        "  print(path_out, ' を生成しました。')\n",
        "  print()\n",
        "\n",
        "C=[['left', 'middle', 'LM'], ['LM', 'right', 'result']]\n",
        "for j in range(1):\n",
        "  element1, element2, element3=C[j]\n",
        "  print(element1,\" \", element2, \" \", element3)\n",
        "  movie1 = ['./fig/%s.MP4' % element1, True]     # 元動画のパス1, カラーはTrue\n",
        "  movie2 = ['./fig/%s.MP4' % element2,  True]    # 元動画のパス2, 白黒はFalse\n",
        "  scale_factor = 1                  # FPSにかけるスケールファクター\n",
        "  path_out='./fig/'+'%s.MP4' % element3\n",
        "  print('%sと%sを結合します。' % (element1, element2))\n",
        "  m_space_combine(movie1, movie2, path_out, scale_factor, 'horizon')\n",
        "  print(path_out, ' を生成しました。')\n",
        "  print()"
      ],
      "execution_count": 37,
      "outputs": [
        {
          "output_type": "stream",
          "text": [
            "left_shoulder_y left_elbow_y\n",
            "./fig/X0.MP4\n",
            "left_shoulder_yとleft_elbow_yを結合します。\n",
            "./fig/X0.MP4  を生成しました。\n",
            "\n",
            "pose_C0003 pose_C0003\n",
            "./fig/X1.MP4\n",
            "pose_C0003とpose_C0003を結合します。\n",
            "./fig/X1.MP4  を生成しました。\n",
            "\n",
            "right_shoulder_y right_elbow_y\n",
            "./fig/X2.MP4\n",
            "right_shoulder_yとright_elbow_yを結合します。\n",
            "./fig/X2.MP4  を生成しました。\n",
            "\n",
            "left_wrist_y from_Rhand_to_chest\n",
            "./fig/X3.MP4\n",
            "left_wrist_yとfrom_Rhand_to_chestを結合します。\n",
            "./fig/X3.MP4  を生成しました。\n",
            "\n",
            "pose_C0003 middle_chest_y\n",
            "./fig/X4.MP4\n",
            "pose_C0003とmiddle_chest_yを結合します。\n",
            "./fig/X4.MP4  を生成しました。\n",
            "\n",
            "right_wrist_y from_Lhand_to_chest\n",
            "./fig/X5.MP4\n",
            "right_wrist_yとfrom_Lhand_to_chestを結合します。\n",
            "./fig/X5.MP4  を生成しました。\n",
            "\n",
            "0 3 left\n",
            "./fig/left.MP4\n",
            "0と3を結合します。\n",
            "./fig/left.MP4  を生成しました。\n",
            "\n",
            "1 4 middle\n",
            "./fig/middle.MP4\n",
            "1と4を結合します。\n",
            "./fig/middle.MP4  を生成しました。\n",
            "\n",
            "2 5 right\n",
            "./fig/right.MP4\n",
            "2と5を結合します。\n",
            "./fig/right.MP4  を生成しました。\n",
            "\n",
            "left   middle   LM\n",
            "leftとmiddleを結合します。\n",
            "./fig/LM.MP4  を生成しました。\n",
            "\n"
          ],
          "name": "stdout"
        }
      ]
    },
    {
      "cell_type": "code",
      "metadata": {
        "id": "6rkatkMVveai",
        "colab": {
          "base_uri": "https://localhost:8080/"
        },
        "outputId": "30c13aa5-b592-41b9-e554-1eb93cae5ca4"
      },
      "source": [
        "import cv2\n",
        "\n",
        "# 2つの画像を横に連結する関数\n",
        "def image_combine(im_info1, im_info2, mode):\n",
        "    img1 = im_info1[0]                       # 1つ目の画像\n",
        "    img2 = im_info2[0]                       # 2つ目の画像\n",
        "    color_flag1 = im_info1[1]                # 1つ目の画像のカラー/グレー判別値\n",
        "    color_flag2 = im_info2[1]                # 2つ目の画像のカラー/グレー判別値\n",
        "\n",
        "    # 1つ目の画像に対しカラーかグレースケールかによって読み込みを変える\n",
        "    if color_flag1 == 1:\n",
        "        h1, w1, ch1 = img1.shape[:3]         # 画像のサイズを取得（グレースケール画像は[:2]\n",
        "    else:\n",
        "        h1, w1 = img1.shape[:2]\n",
        "\n",
        "    # 2つ目の画像に対しカラーかグレースケールかによって読み込みを変える\n",
        "    if color_flag2 == 1:\n",
        "        h2, w2, ch2 = img2.shape[:3]         # 画像のサイズを取得（グレースケール画像は[:2]\n",
        "    else:\n",
        "        h2, w2 = img2.shape[:2]\n",
        "\n",
        "    # 2つの画像の縦サイズを比較して、大きい方に合わせて一方をリサイズする\n",
        "    if w1 < w2:                              # 1つ目の画像の方が小さい場合\n",
        "        h1 = h2                              # 小さい方を大きい方と同じ縦サイズにする\n",
        "        #w1 = int((h2 / h1) * w2)             # 縦サイズの変化倍率を計算して横サイズを決定する\n",
        "        img1 = cv2.resize(img1, (w1, h1))    # 画像リサイズ\n",
        "    else:                                    # 2つ目の画像の方が小さい場合\n",
        "        h2 = h1                              # 小さい方を大きい方と同じ縦サイズにする\n",
        "        #w2 = int((h1 / h2) * w1)             # 縦サイズの変化倍率を計算して横サイズを決定する\n",
        "        img2 = cv2.resize(img2, (w2, h2))    # 画像リサイズ\n",
        "\n",
        "    if mode=='vertical':\n",
        "      img = cv2.vconcat([img1, img2])          # 2つの画像を縦方向に連結\n",
        "    elif mode=='horizon':\n",
        "      img = cv2.hconcat([img1, img2])          # 2つの画像を横方向に連結\n",
        "    return img\n",
        "\n",
        "# 動画を空間方向に連結させる関数\n",
        "def m_space_combine(movie1, movie2, path_out, scale_factor, mode):\n",
        "    path1 = movie1[0]                                       # 1つ目の動画のパス\n",
        "    path2 = movie2[0]                                       # 2つ目の動画のパス\n",
        "    color_flag1 = movie1[1]                                 # 1つ目の動画がカラーかどうか\n",
        "    color_flag2 = movie2[1]                                 # 2つ目の動画がカラーかどうか\n",
        "\n",
        "    # 2つの動画の読み込み\n",
        "    movie1_obj = cv2.VideoCapture(path1)\n",
        "    movie2_obj = cv2.VideoCapture(path2)\n",
        "\n",
        "    # ファイルからフレームを1枚ずつ取得して動画処理後に保存する\n",
        "    i = 0                                                   # 第1ループ判定用指標\n",
        "    while True:\n",
        "        ret1, frame1 = movie1_obj.read()                    # 1つ目の動画のフレームを取得\n",
        "        ret2, frame2 = movie2_obj.read()                    # 2つ目の動画のフレームを取得\n",
        "        check = ret1 and ret2                               # 2つのフレームが共に取得できた時だけTrue（論理演算）\n",
        "        if check == True:\n",
        "            im_info1 = [frame1, color_flag1]                # 画像連結関数への引数1\n",
        "            im_info2 = [frame2, color_flag2]                # 画像連結関数への引数2\n",
        "\n",
        "            frame_mix = image_combine(im_info1, im_info2, mode)  # 画像連結関数の実行\n",
        "\n",
        "            if i == 0:\n",
        "                # 動画ファイル保存用の設定\n",
        "                fps = int(movie1_obj.get(cv2.CAP_PROP_FPS))                 # 元動画のFPSを取得\n",
        "                fps_new = int(fps * scale_factor)                           # 動画保存時のFPSはスケールファクターをかける\n",
        "                frame_size = frame_mix.shape[:3]                            # 結合したフレームのサイズを得る\n",
        "                h = frame_size[0]                                           # フレームの高さサイズを取得\n",
        "                w = frame_size[1]                                           # フレームの横サイズを取得\n",
        "                fourcc = cv2.VideoWriter_fourcc('m', 'p', '4', 'v')         # 動画保存時のfourcc設定（mp4用）\n",
        "                video = cv2.VideoWriter(path_out, fourcc, fps_new, (w, h))  # 保存動画の仕様\n",
        "                i = i + 1                                                   # 初期ループ判定用指標を増分\n",
        "            else:\n",
        "                pass\n",
        "            video.write(frame_mix)                                          # 動画を保存する\n",
        "        else:\n",
        "            break\n",
        "\n",
        "    # 動画オブジェクトの解放\n",
        "    movie1_obj.release()\n",
        "    movie2_obj.release()\n",
        "    return\n",
        "  \n",
        "C=[['left', 'middle', 'LM'], ['LM', 'right', 'result']]\n",
        "element1, element2, element3=C[1]\n",
        "movie1 = ['./fig/%s.MP4' % element1, True]     # 元動画のパス1, カラーはTrue\n",
        "movie2 = ['./fig/%s.MP4' % element2,  True]    # 元動画のパス2, 白黒はFalse\n",
        "scale_factor = 1                  # FPSにかけるスケールファクター\n",
        "path_out='./fig/'+'%s.MP4' % element3\n",
        "print('%sと%sを結合します。' % (element1, element2))\n",
        "m_space_combine(movie1, movie2, path_out, scale_factor, 'horizon')\n",
        "print(path_out, ' を生成しました。')\n",
        "print()"
      ],
      "execution_count": 38,
      "outputs": [
        {
          "output_type": "stream",
          "text": [
            "LMとrightを結合します。\n",
            "./fig/result.MP4  を生成しました。\n",
            "\n"
          ],
          "name": "stdout"
        }
      ]
    },
    {
      "cell_type": "code",
      "metadata": {
        "colab": {
          "base_uri": "https://localhost:8080/",
          "height": 36
        },
        "id": "TVBNyzAfoxX-",
        "outputId": "7170beb6-8cdb-4595-86f6-93c30093f007"
      },
      "source": [
        "import shutil\n",
        "\n",
        "shutil.copy(\"./fig/result.MP4\", OUTPUT_PATH)"
      ],
      "execution_count": 39,
      "outputs": [
        {
          "output_type": "execute_result",
          "data": {
            "application/vnd.google.colaboratory.intrinsic+json": {
              "type": "string"
            },
            "text/plain": [
              "'/content/drive/My Drive/研究室/Personal/Assets/Assets_Output/HRNet/result.MP4'"
            ]
          },
          "metadata": {
            "tags": []
          },
          "execution_count": 39
        }
      ]
    }
  ]
}